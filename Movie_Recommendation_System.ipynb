{
  "nbformat": 4,
  "nbformat_minor": 0,
  "metadata": {
    "colab": {
      "provenance": []
    },
    "kernelspec": {
      "name": "python3",
      "display_name": "Python 3"
    },
    "language_info": {
      "name": "python"
    }
  },
  "cells": [
    {
      "cell_type": "markdown",
      "source": [
        "# **Import Library**"
      ],
      "metadata": {
        "id": "uE1KMcZJ_D5-"
      }
    },
    {
      "cell_type": "code",
      "source": [
        "import pandas as pd"
      ],
      "metadata": {
        "id": "7EPBGCVi_LLM"
      },
      "execution_count": 1,
      "outputs": []
    },
    {
      "cell_type": "code",
      "source": [
        "import numpy as np"
      ],
      "metadata": {
        "id": "zcUf-PIe_fay"
      },
      "execution_count": 2,
      "outputs": []
    },
    {
      "cell_type": "markdown",
      "source": [
        "# **Import Dataset**"
      ],
      "metadata": {
        "id": "XUDbs7Yj_jiZ"
      }
    },
    {
      "cell_type": "code",
      "source": [
        "df= pd.read_csv(r'https://raw.githubusercontent.com/YBIFoundation/Dataset/refs/heads/main/Movies%20Recommendation.csv')"
      ],
      "metadata": {
        "id": "oKJ2pq5Y_ouq"
      },
      "execution_count": 3,
      "outputs": []
    },
    {
      "cell_type": "code",
      "source": [
        "df.head()"
      ],
      "metadata": {
        "colab": {
          "base_uri": "https://localhost:8080/",
          "height": 655
        },
        "id": "3RcFXjhRA2Cx",
        "outputId": "fde3d11f-04b0-4207-d889-498cc03dc9f1"
      },
      "execution_count": 4,
      "outputs": [
        {
          "output_type": "execute_result",
          "data": {
            "text/plain": [
              "   Movie_ID      Movie_Title                       Movie_Genre Movie_Language  \\\n",
              "0         1       Four Rooms                      Crime Comedy             en   \n",
              "1         2        Star Wars  Adventure Action Science Fiction             en   \n",
              "2         3     Finding Nemo                  Animation Family             en   \n",
              "3         4     Forrest Gump              Comedy Drama Romance             en   \n",
              "4         5  American Beauty                             Drama             en   \n",
              "\n",
              "   Movie_Budget  Movie_Popularity Movie_Release_Date  Movie_Revenue  \\\n",
              "0       4000000         22.876230         09-12-1995        4300000   \n",
              "1      11000000        126.393695         25-05-1977      775398007   \n",
              "2      94000000         85.688789         30-05-2003      940335536   \n",
              "3      55000000        138.133331         06-07-1994      677945399   \n",
              "4      15000000         80.878605         15-09-1999      356296601   \n",
              "\n",
              "   Movie_Runtime  Movie_Vote  ...  \\\n",
              "0           98.0         6.5  ...   \n",
              "1          121.0         8.1  ...   \n",
              "2          100.0         7.6  ...   \n",
              "3          142.0         8.2  ...   \n",
              "4          122.0         7.9  ...   \n",
              "\n",
              "                                      Movie_Homepage  \\\n",
              "0                                                NaN   \n",
              "1  http://www.starwars.com/films/star-wars-episod...   \n",
              "2              http://movies.disney.com/finding-nemo   \n",
              "3                                                NaN   \n",
              "4                      http://www.dreamworks.com/ab/   \n",
              "\n",
              "                                      Movie_Keywords  \\\n",
              "0          hotel new year's eve witch bet hotel room   \n",
              "1        android galaxy hermit death star lightsaber   \n",
              "2  father son relationship harbor underwater fish...   \n",
              "3  vietnam veteran hippie mentally disabled runni...   \n",
              "4  male nudity female nudity adultery midlife cri...   \n",
              "\n",
              "                                      Movie_Overview  \\\n",
              "0  It's Ted the Bellhop's first night on the job....   \n",
              "1  Princess Leia is captured and held hostage by ...   \n",
              "2  Nemo, an adventurous young clownfish, is unexp...   \n",
              "3  A man with a low IQ has accomplished great thi...   \n",
              "4  Lester Burnham, a depressed suburban father in...   \n",
              "\n",
              "                              Movie_Production_House  \\\n",
              "0  [{\"name\": \"Miramax Films\", \"id\": 14}, {\"name\":...   \n",
              "1  [{\"name\": \"Lucasfilm\", \"id\": 1}, {\"name\": \"Twe...   \n",
              "2     [{\"name\": \"Pixar Animation Studios\", \"id\": 3}]   \n",
              "3          [{\"name\": \"Paramount Pictures\", \"id\": 4}]   \n",
              "4  [{\"name\": \"DreamWorks SKG\", \"id\": 27}, {\"name\"...   \n",
              "\n",
              "                            Movie_Production_Country  \\\n",
              "0  [{\"iso_3166_1\": \"US\", \"name\": \"United States o...   \n",
              "1  [{\"iso_3166_1\": \"US\", \"name\": \"United States o...   \n",
              "2  [{\"iso_3166_1\": \"US\", \"name\": \"United States o...   \n",
              "3  [{\"iso_3166_1\": \"US\", \"name\": \"United States o...   \n",
              "4  [{\"iso_3166_1\": \"US\", \"name\": \"United States o...   \n",
              "\n",
              "                      Movie_Spoken_Language  \\\n",
              "0  [{\"iso_639_1\": \"en\", \"name\": \"English\"}]   \n",
              "1  [{\"iso_639_1\": \"en\", \"name\": \"English\"}]   \n",
              "2  [{\"iso_639_1\": \"en\", \"name\": \"English\"}]   \n",
              "3  [{\"iso_639_1\": \"en\", \"name\": \"English\"}]   \n",
              "4  [{\"iso_639_1\": \"en\", \"name\": \"English\"}]   \n",
              "\n",
              "                                       Movie_Tagline  \\\n",
              "0  Twelve outrageous guests. Four scandalous requ...   \n",
              "1       A long time ago in a galaxy far, far away...   \n",
              "2  There are 3.7 trillion fish in the ocean, they...   \n",
              "3  The world will never be the same, once you've ...   \n",
              "4                                       Look closer.   \n",
              "\n",
              "                                          Movie_Cast  \\\n",
              "0  Tim Roth Antonio Banderas Jennifer Beals Madon...   \n",
              "1  Mark Hamill Harrison Ford Carrie Fisher Peter ...   \n",
              "2  Albert Brooks Ellen DeGeneres Alexander Gould ...   \n",
              "3  Tom Hanks Robin Wright Gary Sinise Mykelti Wil...   \n",
              "4  Kevin Spacey Annette Bening Thora Birch Wes Be...   \n",
              "\n",
              "                                          Movie_Crew   Movie_Director  \n",
              "0  [{'name': 'Allison Anders', 'gender': 1, 'depa...   Allison Anders  \n",
              "1  [{'name': 'George Lucas', 'gender': 2, 'depart...     George Lucas  \n",
              "2  [{'name': 'Andrew Stanton', 'gender': 2, 'depa...   Andrew Stanton  \n",
              "3  [{'name': 'Alan Silvestri', 'gender': 2, 'depa...  Robert Zemeckis  \n",
              "4  [{'name': 'Thomas Newman', 'gender': 2, 'depar...       Sam Mendes  \n",
              "\n",
              "[5 rows x 21 columns]"
            ],
            "text/html": [
              "\n",
              "  <div id=\"df-1e7cd277-5ad9-47e4-90af-b161cd20c5c0\" class=\"colab-df-container\">\n",
              "    <div>\n",
              "<style scoped>\n",
              "    .dataframe tbody tr th:only-of-type {\n",
              "        vertical-align: middle;\n",
              "    }\n",
              "\n",
              "    .dataframe tbody tr th {\n",
              "        vertical-align: top;\n",
              "    }\n",
              "\n",
              "    .dataframe thead th {\n",
              "        text-align: right;\n",
              "    }\n",
              "</style>\n",
              "<table border=\"1\" class=\"dataframe\">\n",
              "  <thead>\n",
              "    <tr style=\"text-align: right;\">\n",
              "      <th></th>\n",
              "      <th>Movie_ID</th>\n",
              "      <th>Movie_Title</th>\n",
              "      <th>Movie_Genre</th>\n",
              "      <th>Movie_Language</th>\n",
              "      <th>Movie_Budget</th>\n",
              "      <th>Movie_Popularity</th>\n",
              "      <th>Movie_Release_Date</th>\n",
              "      <th>Movie_Revenue</th>\n",
              "      <th>Movie_Runtime</th>\n",
              "      <th>Movie_Vote</th>\n",
              "      <th>...</th>\n",
              "      <th>Movie_Homepage</th>\n",
              "      <th>Movie_Keywords</th>\n",
              "      <th>Movie_Overview</th>\n",
              "      <th>Movie_Production_House</th>\n",
              "      <th>Movie_Production_Country</th>\n",
              "      <th>Movie_Spoken_Language</th>\n",
              "      <th>Movie_Tagline</th>\n",
              "      <th>Movie_Cast</th>\n",
              "      <th>Movie_Crew</th>\n",
              "      <th>Movie_Director</th>\n",
              "    </tr>\n",
              "  </thead>\n",
              "  <tbody>\n",
              "    <tr>\n",
              "      <th>0</th>\n",
              "      <td>1</td>\n",
              "      <td>Four Rooms</td>\n",
              "      <td>Crime Comedy</td>\n",
              "      <td>en</td>\n",
              "      <td>4000000</td>\n",
              "      <td>22.876230</td>\n",
              "      <td>09-12-1995</td>\n",
              "      <td>4300000</td>\n",
              "      <td>98.0</td>\n",
              "      <td>6.5</td>\n",
              "      <td>...</td>\n",
              "      <td>NaN</td>\n",
              "      <td>hotel new year's eve witch bet hotel room</td>\n",
              "      <td>It's Ted the Bellhop's first night on the job....</td>\n",
              "      <td>[{\"name\": \"Miramax Films\", \"id\": 14}, {\"name\":...</td>\n",
              "      <td>[{\"iso_3166_1\": \"US\", \"name\": \"United States o...</td>\n",
              "      <td>[{\"iso_639_1\": \"en\", \"name\": \"English\"}]</td>\n",
              "      <td>Twelve outrageous guests. Four scandalous requ...</td>\n",
              "      <td>Tim Roth Antonio Banderas Jennifer Beals Madon...</td>\n",
              "      <td>[{'name': 'Allison Anders', 'gender': 1, 'depa...</td>\n",
              "      <td>Allison Anders</td>\n",
              "    </tr>\n",
              "    <tr>\n",
              "      <th>1</th>\n",
              "      <td>2</td>\n",
              "      <td>Star Wars</td>\n",
              "      <td>Adventure Action Science Fiction</td>\n",
              "      <td>en</td>\n",
              "      <td>11000000</td>\n",
              "      <td>126.393695</td>\n",
              "      <td>25-05-1977</td>\n",
              "      <td>775398007</td>\n",
              "      <td>121.0</td>\n",
              "      <td>8.1</td>\n",
              "      <td>...</td>\n",
              "      <td>http://www.starwars.com/films/star-wars-episod...</td>\n",
              "      <td>android galaxy hermit death star lightsaber</td>\n",
              "      <td>Princess Leia is captured and held hostage by ...</td>\n",
              "      <td>[{\"name\": \"Lucasfilm\", \"id\": 1}, {\"name\": \"Twe...</td>\n",
              "      <td>[{\"iso_3166_1\": \"US\", \"name\": \"United States o...</td>\n",
              "      <td>[{\"iso_639_1\": \"en\", \"name\": \"English\"}]</td>\n",
              "      <td>A long time ago in a galaxy far, far away...</td>\n",
              "      <td>Mark Hamill Harrison Ford Carrie Fisher Peter ...</td>\n",
              "      <td>[{'name': 'George Lucas', 'gender': 2, 'depart...</td>\n",
              "      <td>George Lucas</td>\n",
              "    </tr>\n",
              "    <tr>\n",
              "      <th>2</th>\n",
              "      <td>3</td>\n",
              "      <td>Finding Nemo</td>\n",
              "      <td>Animation Family</td>\n",
              "      <td>en</td>\n",
              "      <td>94000000</td>\n",
              "      <td>85.688789</td>\n",
              "      <td>30-05-2003</td>\n",
              "      <td>940335536</td>\n",
              "      <td>100.0</td>\n",
              "      <td>7.6</td>\n",
              "      <td>...</td>\n",
              "      <td>http://movies.disney.com/finding-nemo</td>\n",
              "      <td>father son relationship harbor underwater fish...</td>\n",
              "      <td>Nemo, an adventurous young clownfish, is unexp...</td>\n",
              "      <td>[{\"name\": \"Pixar Animation Studios\", \"id\": 3}]</td>\n",
              "      <td>[{\"iso_3166_1\": \"US\", \"name\": \"United States o...</td>\n",
              "      <td>[{\"iso_639_1\": \"en\", \"name\": \"English\"}]</td>\n",
              "      <td>There are 3.7 trillion fish in the ocean, they...</td>\n",
              "      <td>Albert Brooks Ellen DeGeneres Alexander Gould ...</td>\n",
              "      <td>[{'name': 'Andrew Stanton', 'gender': 2, 'depa...</td>\n",
              "      <td>Andrew Stanton</td>\n",
              "    </tr>\n",
              "    <tr>\n",
              "      <th>3</th>\n",
              "      <td>4</td>\n",
              "      <td>Forrest Gump</td>\n",
              "      <td>Comedy Drama Romance</td>\n",
              "      <td>en</td>\n",
              "      <td>55000000</td>\n",
              "      <td>138.133331</td>\n",
              "      <td>06-07-1994</td>\n",
              "      <td>677945399</td>\n",
              "      <td>142.0</td>\n",
              "      <td>8.2</td>\n",
              "      <td>...</td>\n",
              "      <td>NaN</td>\n",
              "      <td>vietnam veteran hippie mentally disabled runni...</td>\n",
              "      <td>A man with a low IQ has accomplished great thi...</td>\n",
              "      <td>[{\"name\": \"Paramount Pictures\", \"id\": 4}]</td>\n",
              "      <td>[{\"iso_3166_1\": \"US\", \"name\": \"United States o...</td>\n",
              "      <td>[{\"iso_639_1\": \"en\", \"name\": \"English\"}]</td>\n",
              "      <td>The world will never be the same, once you've ...</td>\n",
              "      <td>Tom Hanks Robin Wright Gary Sinise Mykelti Wil...</td>\n",
              "      <td>[{'name': 'Alan Silvestri', 'gender': 2, 'depa...</td>\n",
              "      <td>Robert Zemeckis</td>\n",
              "    </tr>\n",
              "    <tr>\n",
              "      <th>4</th>\n",
              "      <td>5</td>\n",
              "      <td>American Beauty</td>\n",
              "      <td>Drama</td>\n",
              "      <td>en</td>\n",
              "      <td>15000000</td>\n",
              "      <td>80.878605</td>\n",
              "      <td>15-09-1999</td>\n",
              "      <td>356296601</td>\n",
              "      <td>122.0</td>\n",
              "      <td>7.9</td>\n",
              "      <td>...</td>\n",
              "      <td>http://www.dreamworks.com/ab/</td>\n",
              "      <td>male nudity female nudity adultery midlife cri...</td>\n",
              "      <td>Lester Burnham, a depressed suburban father in...</td>\n",
              "      <td>[{\"name\": \"DreamWorks SKG\", \"id\": 27}, {\"name\"...</td>\n",
              "      <td>[{\"iso_3166_1\": \"US\", \"name\": \"United States o...</td>\n",
              "      <td>[{\"iso_639_1\": \"en\", \"name\": \"English\"}]</td>\n",
              "      <td>Look closer.</td>\n",
              "      <td>Kevin Spacey Annette Bening Thora Birch Wes Be...</td>\n",
              "      <td>[{'name': 'Thomas Newman', 'gender': 2, 'depar...</td>\n",
              "      <td>Sam Mendes</td>\n",
              "    </tr>\n",
              "  </tbody>\n",
              "</table>\n",
              "<p>5 rows × 21 columns</p>\n",
              "</div>\n",
              "    <div class=\"colab-df-buttons\">\n",
              "\n",
              "  <div class=\"colab-df-container\">\n",
              "    <button class=\"colab-df-convert\" onclick=\"convertToInteractive('df-1e7cd277-5ad9-47e4-90af-b161cd20c5c0')\"\n",
              "            title=\"Convert this dataframe to an interactive table.\"\n",
              "            style=\"display:none;\">\n",
              "\n",
              "  <svg xmlns=\"http://www.w3.org/2000/svg\" height=\"24px\" viewBox=\"0 -960 960 960\">\n",
              "    <path d=\"M120-120v-720h720v720H120Zm60-500h600v-160H180v160Zm220 220h160v-160H400v160Zm0 220h160v-160H400v160ZM180-400h160v-160H180v160Zm440 0h160v-160H620v160ZM180-180h160v-160H180v160Zm440 0h160v-160H620v160Z\"/>\n",
              "  </svg>\n",
              "    </button>\n",
              "\n",
              "  <style>\n",
              "    .colab-df-container {\n",
              "      display:flex;\n",
              "      gap: 12px;\n",
              "    }\n",
              "\n",
              "    .colab-df-convert {\n",
              "      background-color: #E8F0FE;\n",
              "      border: none;\n",
              "      border-radius: 50%;\n",
              "      cursor: pointer;\n",
              "      display: none;\n",
              "      fill: #1967D2;\n",
              "      height: 32px;\n",
              "      padding: 0 0 0 0;\n",
              "      width: 32px;\n",
              "    }\n",
              "\n",
              "    .colab-df-convert:hover {\n",
              "      background-color: #E2EBFA;\n",
              "      box-shadow: 0px 1px 2px rgba(60, 64, 67, 0.3), 0px 1px 3px 1px rgba(60, 64, 67, 0.15);\n",
              "      fill: #174EA6;\n",
              "    }\n",
              "\n",
              "    .colab-df-buttons div {\n",
              "      margin-bottom: 4px;\n",
              "    }\n",
              "\n",
              "    [theme=dark] .colab-df-convert {\n",
              "      background-color: #3B4455;\n",
              "      fill: #D2E3FC;\n",
              "    }\n",
              "\n",
              "    [theme=dark] .colab-df-convert:hover {\n",
              "      background-color: #434B5C;\n",
              "      box-shadow: 0px 1px 3px 1px rgba(0, 0, 0, 0.15);\n",
              "      filter: drop-shadow(0px 1px 2px rgba(0, 0, 0, 0.3));\n",
              "      fill: #FFFFFF;\n",
              "    }\n",
              "  </style>\n",
              "\n",
              "    <script>\n",
              "      const buttonEl =\n",
              "        document.querySelector('#df-1e7cd277-5ad9-47e4-90af-b161cd20c5c0 button.colab-df-convert');\n",
              "      buttonEl.style.display =\n",
              "        google.colab.kernel.accessAllowed ? 'block' : 'none';\n",
              "\n",
              "      async function convertToInteractive(key) {\n",
              "        const element = document.querySelector('#df-1e7cd277-5ad9-47e4-90af-b161cd20c5c0');\n",
              "        const dataTable =\n",
              "          await google.colab.kernel.invokeFunction('convertToInteractive',\n",
              "                                                    [key], {});\n",
              "        if (!dataTable) return;\n",
              "\n",
              "        const docLinkHtml = 'Like what you see? Visit the ' +\n",
              "          '<a target=\"_blank\" href=https://colab.research.google.com/notebooks/data_table.ipynb>data table notebook</a>'\n",
              "          + ' to learn more about interactive tables.';\n",
              "        element.innerHTML = '';\n",
              "        dataTable['output_type'] = 'display_data';\n",
              "        await google.colab.output.renderOutput(dataTable, element);\n",
              "        const docLink = document.createElement('div');\n",
              "        docLink.innerHTML = docLinkHtml;\n",
              "        element.appendChild(docLink);\n",
              "      }\n",
              "    </script>\n",
              "  </div>\n",
              "\n",
              "\n",
              "<div id=\"df-204cb0a9-5718-4449-a58b-bde83a181028\">\n",
              "  <button class=\"colab-df-quickchart\" onclick=\"quickchart('df-204cb0a9-5718-4449-a58b-bde83a181028')\"\n",
              "            title=\"Suggest charts\"\n",
              "            style=\"display:none;\">\n",
              "\n",
              "<svg xmlns=\"http://www.w3.org/2000/svg\" height=\"24px\"viewBox=\"0 0 24 24\"\n",
              "     width=\"24px\">\n",
              "    <g>\n",
              "        <path d=\"M19 3H5c-1.1 0-2 .9-2 2v14c0 1.1.9 2 2 2h14c1.1 0 2-.9 2-2V5c0-1.1-.9-2-2-2zM9 17H7v-7h2v7zm4 0h-2V7h2v10zm4 0h-2v-4h2v4z\"/>\n",
              "    </g>\n",
              "</svg>\n",
              "  </button>\n",
              "\n",
              "<style>\n",
              "  .colab-df-quickchart {\n",
              "      --bg-color: #E8F0FE;\n",
              "      --fill-color: #1967D2;\n",
              "      --hover-bg-color: #E2EBFA;\n",
              "      --hover-fill-color: #174EA6;\n",
              "      --disabled-fill-color: #AAA;\n",
              "      --disabled-bg-color: #DDD;\n",
              "  }\n",
              "\n",
              "  [theme=dark] .colab-df-quickchart {\n",
              "      --bg-color: #3B4455;\n",
              "      --fill-color: #D2E3FC;\n",
              "      --hover-bg-color: #434B5C;\n",
              "      --hover-fill-color: #FFFFFF;\n",
              "      --disabled-bg-color: #3B4455;\n",
              "      --disabled-fill-color: #666;\n",
              "  }\n",
              "\n",
              "  .colab-df-quickchart {\n",
              "    background-color: var(--bg-color);\n",
              "    border: none;\n",
              "    border-radius: 50%;\n",
              "    cursor: pointer;\n",
              "    display: none;\n",
              "    fill: var(--fill-color);\n",
              "    height: 32px;\n",
              "    padding: 0;\n",
              "    width: 32px;\n",
              "  }\n",
              "\n",
              "  .colab-df-quickchart:hover {\n",
              "    background-color: var(--hover-bg-color);\n",
              "    box-shadow: 0 1px 2px rgba(60, 64, 67, 0.3), 0 1px 3px 1px rgba(60, 64, 67, 0.15);\n",
              "    fill: var(--button-hover-fill-color);\n",
              "  }\n",
              "\n",
              "  .colab-df-quickchart-complete:disabled,\n",
              "  .colab-df-quickchart-complete:disabled:hover {\n",
              "    background-color: var(--disabled-bg-color);\n",
              "    fill: var(--disabled-fill-color);\n",
              "    box-shadow: none;\n",
              "  }\n",
              "\n",
              "  .colab-df-spinner {\n",
              "    border: 2px solid var(--fill-color);\n",
              "    border-color: transparent;\n",
              "    border-bottom-color: var(--fill-color);\n",
              "    animation:\n",
              "      spin 1s steps(1) infinite;\n",
              "  }\n",
              "\n",
              "  @keyframes spin {\n",
              "    0% {\n",
              "      border-color: transparent;\n",
              "      border-bottom-color: var(--fill-color);\n",
              "      border-left-color: var(--fill-color);\n",
              "    }\n",
              "    20% {\n",
              "      border-color: transparent;\n",
              "      border-left-color: var(--fill-color);\n",
              "      border-top-color: var(--fill-color);\n",
              "    }\n",
              "    30% {\n",
              "      border-color: transparent;\n",
              "      border-left-color: var(--fill-color);\n",
              "      border-top-color: var(--fill-color);\n",
              "      border-right-color: var(--fill-color);\n",
              "    }\n",
              "    40% {\n",
              "      border-color: transparent;\n",
              "      border-right-color: var(--fill-color);\n",
              "      border-top-color: var(--fill-color);\n",
              "    }\n",
              "    60% {\n",
              "      border-color: transparent;\n",
              "      border-right-color: var(--fill-color);\n",
              "    }\n",
              "    80% {\n",
              "      border-color: transparent;\n",
              "      border-right-color: var(--fill-color);\n",
              "      border-bottom-color: var(--fill-color);\n",
              "    }\n",
              "    90% {\n",
              "      border-color: transparent;\n",
              "      border-bottom-color: var(--fill-color);\n",
              "    }\n",
              "  }\n",
              "</style>\n",
              "\n",
              "  <script>\n",
              "    async function quickchart(key) {\n",
              "      const quickchartButtonEl =\n",
              "        document.querySelector('#' + key + ' button');\n",
              "      quickchartButtonEl.disabled = true;  // To prevent multiple clicks.\n",
              "      quickchartButtonEl.classList.add('colab-df-spinner');\n",
              "      try {\n",
              "        const charts = await google.colab.kernel.invokeFunction(\n",
              "            'suggestCharts', [key], {});\n",
              "      } catch (error) {\n",
              "        console.error('Error during call to suggestCharts:', error);\n",
              "      }\n",
              "      quickchartButtonEl.classList.remove('colab-df-spinner');\n",
              "      quickchartButtonEl.classList.add('colab-df-quickchart-complete');\n",
              "    }\n",
              "    (() => {\n",
              "      let quickchartButtonEl =\n",
              "        document.querySelector('#df-204cb0a9-5718-4449-a58b-bde83a181028 button');\n",
              "      quickchartButtonEl.style.display =\n",
              "        google.colab.kernel.accessAllowed ? 'block' : 'none';\n",
              "    })();\n",
              "  </script>\n",
              "</div>\n",
              "\n",
              "    </div>\n",
              "  </div>\n"
            ],
            "application/vnd.google.colaboratory.intrinsic+json": {
              "type": "dataframe",
              "variable_name": "df"
            }
          },
          "metadata": {},
          "execution_count": 4
        }
      ]
    },
    {
      "cell_type": "code",
      "source": [
        "df.info()"
      ],
      "metadata": {
        "colab": {
          "base_uri": "https://localhost:8080/"
        },
        "id": "3qzTANCVBO5P",
        "outputId": "9e9948e3-7a73-419b-89a5-833346ae7049"
      },
      "execution_count": 5,
      "outputs": [
        {
          "output_type": "stream",
          "name": "stdout",
          "text": [
            "<class 'pandas.core.frame.DataFrame'>\n",
            "RangeIndex: 4760 entries, 0 to 4759\n",
            "Data columns (total 21 columns):\n",
            " #   Column                    Non-Null Count  Dtype  \n",
            "---  ------                    --------------  -----  \n",
            " 0   Movie_ID                  4760 non-null   int64  \n",
            " 1   Movie_Title               4760 non-null   object \n",
            " 2   Movie_Genre               4760 non-null   object \n",
            " 3   Movie_Language            4760 non-null   object \n",
            " 4   Movie_Budget              4760 non-null   int64  \n",
            " 5   Movie_Popularity          4760 non-null   float64\n",
            " 6   Movie_Release_Date        4760 non-null   object \n",
            " 7   Movie_Revenue             4760 non-null   int64  \n",
            " 8   Movie_Runtime             4758 non-null   float64\n",
            " 9   Movie_Vote                4760 non-null   float64\n",
            " 10  Movie_Vote_Count          4760 non-null   int64  \n",
            " 11  Movie_Homepage            1699 non-null   object \n",
            " 12  Movie_Keywords            4373 non-null   object \n",
            " 13  Movie_Overview            4757 non-null   object \n",
            " 14  Movie_Production_House    4760 non-null   object \n",
            " 15  Movie_Production_Country  4760 non-null   object \n",
            " 16  Movie_Spoken_Language     4760 non-null   object \n",
            " 17  Movie_Tagline             3942 non-null   object \n",
            " 18  Movie_Cast                4733 non-null   object \n",
            " 19  Movie_Crew                4760 non-null   object \n",
            " 20  Movie_Director            4738 non-null   object \n",
            "dtypes: float64(3), int64(4), object(14)\n",
            "memory usage: 781.1+ KB\n"
          ]
        }
      ]
    },
    {
      "cell_type": "code",
      "source": [
        "df.shape"
      ],
      "metadata": {
        "colab": {
          "base_uri": "https://localhost:8080/"
        },
        "id": "3TOFEqHJBZwv",
        "outputId": "c18521b8-4cdb-4cba-bf38-308e499216a7"
      },
      "execution_count": 6,
      "outputs": [
        {
          "output_type": "execute_result",
          "data": {
            "text/plain": [
              "(4760, 21)"
            ]
          },
          "metadata": {},
          "execution_count": 6
        }
      ]
    },
    {
      "cell_type": "code",
      "source": [
        "df.columns"
      ],
      "metadata": {
        "colab": {
          "base_uri": "https://localhost:8080/"
        },
        "id": "DflAy2AcBg9E",
        "outputId": "fd729c1a-34a2-4e9d-d6bf-dc8df13b1147"
      },
      "execution_count": 7,
      "outputs": [
        {
          "output_type": "execute_result",
          "data": {
            "text/plain": [
              "Index(['Movie_ID', 'Movie_Title', 'Movie_Genre', 'Movie_Language',\n",
              "       'Movie_Budget', 'Movie_Popularity', 'Movie_Release_Date',\n",
              "       'Movie_Revenue', 'Movie_Runtime', 'Movie_Vote', 'Movie_Vote_Count',\n",
              "       'Movie_Homepage', 'Movie_Keywords', 'Movie_Overview',\n",
              "       'Movie_Production_House', 'Movie_Production_Country',\n",
              "       'Movie_Spoken_Language', 'Movie_Tagline', 'Movie_Cast', 'Movie_Crew',\n",
              "       'Movie_Director'],\n",
              "      dtype='object')"
            ]
          },
          "metadata": {},
          "execution_count": 7
        }
      ]
    },
    {
      "cell_type": "markdown",
      "source": [
        "# **Get Feature Selection**"
      ],
      "metadata": {
        "id": "bNgI6_7pBl1A"
      }
    },
    {
      "cell_type": "code",
      "source": [
        "df_features =df[['Movie_Genre', 'Movie_Keywords', 'Movie_Tagline', 'Movie_Cast', 'Movie_Director']].fillna('')"
      ],
      "metadata": {
        "id": "ULUAGtsgBwyX"
      },
      "execution_count": 9,
      "outputs": []
    },
    {
      "cell_type": "code",
      "source": [
        "df_features.shape"
      ],
      "metadata": {
        "colab": {
          "base_uri": "https://localhost:8080/"
        },
        "id": "bngtblW8Clm9",
        "outputId": "1c3b68b5-433b-4e5c-d679-e9efd3b896fb"
      },
      "execution_count": 10,
      "outputs": [
        {
          "output_type": "execute_result",
          "data": {
            "text/plain": [
              "(4760, 5)"
            ]
          },
          "metadata": {},
          "execution_count": 10
        }
      ]
    },
    {
      "cell_type": "code",
      "source": [
        "df_features"
      ],
      "metadata": {
        "colab": {
          "base_uri": "https://localhost:8080/",
          "height": 580
        },
        "id": "43lPiCzZCxPg",
        "outputId": "72a316b0-9916-45b3-94cd-666251e16445"
      },
      "execution_count": 11,
      "outputs": [
        {
          "output_type": "execute_result",
          "data": {
            "text/plain": [
              "                           Movie_Genre  \\\n",
              "0                         Crime Comedy   \n",
              "1     Adventure Action Science Fiction   \n",
              "2                     Animation Family   \n",
              "3                 Comedy Drama Romance   \n",
              "4                                Drama   \n",
              "...                                ...   \n",
              "4755                            Horror   \n",
              "4756               Comedy Family Drama   \n",
              "4757                    Thriller Drama   \n",
              "4758                            Family   \n",
              "4759                       Documentary   \n",
              "\n",
              "                                         Movie_Keywords  \\\n",
              "0             hotel new year's eve witch bet hotel room   \n",
              "1           android galaxy hermit death star lightsaber   \n",
              "2     father son relationship harbor underwater fish...   \n",
              "3     vietnam veteran hippie mentally disabled runni...   \n",
              "4     male nudity female nudity adultery midlife cri...   \n",
              "...                                                 ...   \n",
              "4755                                                      \n",
              "4756                                                      \n",
              "4757                     christian film sex trafficking   \n",
              "4758                                                      \n",
              "4759  music actors legendary perfomer classic hollyw...   \n",
              "\n",
              "                                          Movie_Tagline  \\\n",
              "0     Twelve outrageous guests. Four scandalous requ...   \n",
              "1          A long time ago in a galaxy far, far away...   \n",
              "2     There are 3.7 trillion fish in the ocean, they...   \n",
              "3     The world will never be the same, once you've ...   \n",
              "4                                          Look closer.   \n",
              "...                                                 ...   \n",
              "4755                The hot spot where Satan's waitin'.   \n",
              "4756           It’s better to stand out than to fit in.   \n",
              "4757           She never knew it could happen to her...   \n",
              "4758                                                      \n",
              "4759                                                      \n",
              "\n",
              "                                             Movie_Cast     Movie_Director  \n",
              "0     Tim Roth Antonio Banderas Jennifer Beals Madon...     Allison Anders  \n",
              "1     Mark Hamill Harrison Ford Carrie Fisher Peter ...       George Lucas  \n",
              "2     Albert Brooks Ellen DeGeneres Alexander Gould ...     Andrew Stanton  \n",
              "3     Tom Hanks Robin Wright Gary Sinise Mykelti Wil...    Robert Zemeckis  \n",
              "4     Kevin Spacey Annette Bening Thora Birch Wes Be...         Sam Mendes  \n",
              "...                                                 ...                ...  \n",
              "4755  Lisa Hart Carroll Michael Des Barres Paul Drak...         Pece Dingo  \n",
              "4756  Roni Akurati Brighton Sharbino Jason Lee Anjul...       Frank Lotito  \n",
              "4757  Nicole Smolen Kim Baldwin Ariana Stephens Brys...       Jaco Booyens  \n",
              "4758                                                                        \n",
              "4759                                    Tony Oppedisano  Simon Napier-Bell  \n",
              "\n",
              "[4760 rows x 5 columns]"
            ],
            "text/html": [
              "\n",
              "  <div id=\"df-957ecb8d-bbe5-49c8-8295-ea72da90d6fa\" class=\"colab-df-container\">\n",
              "    <div>\n",
              "<style scoped>\n",
              "    .dataframe tbody tr th:only-of-type {\n",
              "        vertical-align: middle;\n",
              "    }\n",
              "\n",
              "    .dataframe tbody tr th {\n",
              "        vertical-align: top;\n",
              "    }\n",
              "\n",
              "    .dataframe thead th {\n",
              "        text-align: right;\n",
              "    }\n",
              "</style>\n",
              "<table border=\"1\" class=\"dataframe\">\n",
              "  <thead>\n",
              "    <tr style=\"text-align: right;\">\n",
              "      <th></th>\n",
              "      <th>Movie_Genre</th>\n",
              "      <th>Movie_Keywords</th>\n",
              "      <th>Movie_Tagline</th>\n",
              "      <th>Movie_Cast</th>\n",
              "      <th>Movie_Director</th>\n",
              "    </tr>\n",
              "  </thead>\n",
              "  <tbody>\n",
              "    <tr>\n",
              "      <th>0</th>\n",
              "      <td>Crime Comedy</td>\n",
              "      <td>hotel new year's eve witch bet hotel room</td>\n",
              "      <td>Twelve outrageous guests. Four scandalous requ...</td>\n",
              "      <td>Tim Roth Antonio Banderas Jennifer Beals Madon...</td>\n",
              "      <td>Allison Anders</td>\n",
              "    </tr>\n",
              "    <tr>\n",
              "      <th>1</th>\n",
              "      <td>Adventure Action Science Fiction</td>\n",
              "      <td>android galaxy hermit death star lightsaber</td>\n",
              "      <td>A long time ago in a galaxy far, far away...</td>\n",
              "      <td>Mark Hamill Harrison Ford Carrie Fisher Peter ...</td>\n",
              "      <td>George Lucas</td>\n",
              "    </tr>\n",
              "    <tr>\n",
              "      <th>2</th>\n",
              "      <td>Animation Family</td>\n",
              "      <td>father son relationship harbor underwater fish...</td>\n",
              "      <td>There are 3.7 trillion fish in the ocean, they...</td>\n",
              "      <td>Albert Brooks Ellen DeGeneres Alexander Gould ...</td>\n",
              "      <td>Andrew Stanton</td>\n",
              "    </tr>\n",
              "    <tr>\n",
              "      <th>3</th>\n",
              "      <td>Comedy Drama Romance</td>\n",
              "      <td>vietnam veteran hippie mentally disabled runni...</td>\n",
              "      <td>The world will never be the same, once you've ...</td>\n",
              "      <td>Tom Hanks Robin Wright Gary Sinise Mykelti Wil...</td>\n",
              "      <td>Robert Zemeckis</td>\n",
              "    </tr>\n",
              "    <tr>\n",
              "      <th>4</th>\n",
              "      <td>Drama</td>\n",
              "      <td>male nudity female nudity adultery midlife cri...</td>\n",
              "      <td>Look closer.</td>\n",
              "      <td>Kevin Spacey Annette Bening Thora Birch Wes Be...</td>\n",
              "      <td>Sam Mendes</td>\n",
              "    </tr>\n",
              "    <tr>\n",
              "      <th>...</th>\n",
              "      <td>...</td>\n",
              "      <td>...</td>\n",
              "      <td>...</td>\n",
              "      <td>...</td>\n",
              "      <td>...</td>\n",
              "    </tr>\n",
              "    <tr>\n",
              "      <th>4755</th>\n",
              "      <td>Horror</td>\n",
              "      <td></td>\n",
              "      <td>The hot spot where Satan's waitin'.</td>\n",
              "      <td>Lisa Hart Carroll Michael Des Barres Paul Drak...</td>\n",
              "      <td>Pece Dingo</td>\n",
              "    </tr>\n",
              "    <tr>\n",
              "      <th>4756</th>\n",
              "      <td>Comedy Family Drama</td>\n",
              "      <td></td>\n",
              "      <td>It’s better to stand out than to fit in.</td>\n",
              "      <td>Roni Akurati Brighton Sharbino Jason Lee Anjul...</td>\n",
              "      <td>Frank Lotito</td>\n",
              "    </tr>\n",
              "    <tr>\n",
              "      <th>4757</th>\n",
              "      <td>Thriller Drama</td>\n",
              "      <td>christian film sex trafficking</td>\n",
              "      <td>She never knew it could happen to her...</td>\n",
              "      <td>Nicole Smolen Kim Baldwin Ariana Stephens Brys...</td>\n",
              "      <td>Jaco Booyens</td>\n",
              "    </tr>\n",
              "    <tr>\n",
              "      <th>4758</th>\n",
              "      <td>Family</td>\n",
              "      <td></td>\n",
              "      <td></td>\n",
              "      <td></td>\n",
              "      <td></td>\n",
              "    </tr>\n",
              "    <tr>\n",
              "      <th>4759</th>\n",
              "      <td>Documentary</td>\n",
              "      <td>music actors legendary perfomer classic hollyw...</td>\n",
              "      <td></td>\n",
              "      <td>Tony Oppedisano</td>\n",
              "      <td>Simon Napier-Bell</td>\n",
              "    </tr>\n",
              "  </tbody>\n",
              "</table>\n",
              "<p>4760 rows × 5 columns</p>\n",
              "</div>\n",
              "    <div class=\"colab-df-buttons\">\n",
              "\n",
              "  <div class=\"colab-df-container\">\n",
              "    <button class=\"colab-df-convert\" onclick=\"convertToInteractive('df-957ecb8d-bbe5-49c8-8295-ea72da90d6fa')\"\n",
              "            title=\"Convert this dataframe to an interactive table.\"\n",
              "            style=\"display:none;\">\n",
              "\n",
              "  <svg xmlns=\"http://www.w3.org/2000/svg\" height=\"24px\" viewBox=\"0 -960 960 960\">\n",
              "    <path d=\"M120-120v-720h720v720H120Zm60-500h600v-160H180v160Zm220 220h160v-160H400v160Zm0 220h160v-160H400v160ZM180-400h160v-160H180v160Zm440 0h160v-160H620v160ZM180-180h160v-160H180v160Zm440 0h160v-160H620v160Z\"/>\n",
              "  </svg>\n",
              "    </button>\n",
              "\n",
              "  <style>\n",
              "    .colab-df-container {\n",
              "      display:flex;\n",
              "      gap: 12px;\n",
              "    }\n",
              "\n",
              "    .colab-df-convert {\n",
              "      background-color: #E8F0FE;\n",
              "      border: none;\n",
              "      border-radius: 50%;\n",
              "      cursor: pointer;\n",
              "      display: none;\n",
              "      fill: #1967D2;\n",
              "      height: 32px;\n",
              "      padding: 0 0 0 0;\n",
              "      width: 32px;\n",
              "    }\n",
              "\n",
              "    .colab-df-convert:hover {\n",
              "      background-color: #E2EBFA;\n",
              "      box-shadow: 0px 1px 2px rgba(60, 64, 67, 0.3), 0px 1px 3px 1px rgba(60, 64, 67, 0.15);\n",
              "      fill: #174EA6;\n",
              "    }\n",
              "\n",
              "    .colab-df-buttons div {\n",
              "      margin-bottom: 4px;\n",
              "    }\n",
              "\n",
              "    [theme=dark] .colab-df-convert {\n",
              "      background-color: #3B4455;\n",
              "      fill: #D2E3FC;\n",
              "    }\n",
              "\n",
              "    [theme=dark] .colab-df-convert:hover {\n",
              "      background-color: #434B5C;\n",
              "      box-shadow: 0px 1px 3px 1px rgba(0, 0, 0, 0.15);\n",
              "      filter: drop-shadow(0px 1px 2px rgba(0, 0, 0, 0.3));\n",
              "      fill: #FFFFFF;\n",
              "    }\n",
              "  </style>\n",
              "\n",
              "    <script>\n",
              "      const buttonEl =\n",
              "        document.querySelector('#df-957ecb8d-bbe5-49c8-8295-ea72da90d6fa button.colab-df-convert');\n",
              "      buttonEl.style.display =\n",
              "        google.colab.kernel.accessAllowed ? 'block' : 'none';\n",
              "\n",
              "      async function convertToInteractive(key) {\n",
              "        const element = document.querySelector('#df-957ecb8d-bbe5-49c8-8295-ea72da90d6fa');\n",
              "        const dataTable =\n",
              "          await google.colab.kernel.invokeFunction('convertToInteractive',\n",
              "                                                    [key], {});\n",
              "        if (!dataTable) return;\n",
              "\n",
              "        const docLinkHtml = 'Like what you see? Visit the ' +\n",
              "          '<a target=\"_blank\" href=https://colab.research.google.com/notebooks/data_table.ipynb>data table notebook</a>'\n",
              "          + ' to learn more about interactive tables.';\n",
              "        element.innerHTML = '';\n",
              "        dataTable['output_type'] = 'display_data';\n",
              "        await google.colab.output.renderOutput(dataTable, element);\n",
              "        const docLink = document.createElement('div');\n",
              "        docLink.innerHTML = docLinkHtml;\n",
              "        element.appendChild(docLink);\n",
              "      }\n",
              "    </script>\n",
              "  </div>\n",
              "\n",
              "\n",
              "<div id=\"df-ecd662b5-bd17-42eb-a020-a574fff6b68f\">\n",
              "  <button class=\"colab-df-quickchart\" onclick=\"quickchart('df-ecd662b5-bd17-42eb-a020-a574fff6b68f')\"\n",
              "            title=\"Suggest charts\"\n",
              "            style=\"display:none;\">\n",
              "\n",
              "<svg xmlns=\"http://www.w3.org/2000/svg\" height=\"24px\"viewBox=\"0 0 24 24\"\n",
              "     width=\"24px\">\n",
              "    <g>\n",
              "        <path d=\"M19 3H5c-1.1 0-2 .9-2 2v14c0 1.1.9 2 2 2h14c1.1 0 2-.9 2-2V5c0-1.1-.9-2-2-2zM9 17H7v-7h2v7zm4 0h-2V7h2v10zm4 0h-2v-4h2v4z\"/>\n",
              "    </g>\n",
              "</svg>\n",
              "  </button>\n",
              "\n",
              "<style>\n",
              "  .colab-df-quickchart {\n",
              "      --bg-color: #E8F0FE;\n",
              "      --fill-color: #1967D2;\n",
              "      --hover-bg-color: #E2EBFA;\n",
              "      --hover-fill-color: #174EA6;\n",
              "      --disabled-fill-color: #AAA;\n",
              "      --disabled-bg-color: #DDD;\n",
              "  }\n",
              "\n",
              "  [theme=dark] .colab-df-quickchart {\n",
              "      --bg-color: #3B4455;\n",
              "      --fill-color: #D2E3FC;\n",
              "      --hover-bg-color: #434B5C;\n",
              "      --hover-fill-color: #FFFFFF;\n",
              "      --disabled-bg-color: #3B4455;\n",
              "      --disabled-fill-color: #666;\n",
              "  }\n",
              "\n",
              "  .colab-df-quickchart {\n",
              "    background-color: var(--bg-color);\n",
              "    border: none;\n",
              "    border-radius: 50%;\n",
              "    cursor: pointer;\n",
              "    display: none;\n",
              "    fill: var(--fill-color);\n",
              "    height: 32px;\n",
              "    padding: 0;\n",
              "    width: 32px;\n",
              "  }\n",
              "\n",
              "  .colab-df-quickchart:hover {\n",
              "    background-color: var(--hover-bg-color);\n",
              "    box-shadow: 0 1px 2px rgba(60, 64, 67, 0.3), 0 1px 3px 1px rgba(60, 64, 67, 0.15);\n",
              "    fill: var(--button-hover-fill-color);\n",
              "  }\n",
              "\n",
              "  .colab-df-quickchart-complete:disabled,\n",
              "  .colab-df-quickchart-complete:disabled:hover {\n",
              "    background-color: var(--disabled-bg-color);\n",
              "    fill: var(--disabled-fill-color);\n",
              "    box-shadow: none;\n",
              "  }\n",
              "\n",
              "  .colab-df-spinner {\n",
              "    border: 2px solid var(--fill-color);\n",
              "    border-color: transparent;\n",
              "    border-bottom-color: var(--fill-color);\n",
              "    animation:\n",
              "      spin 1s steps(1) infinite;\n",
              "  }\n",
              "\n",
              "  @keyframes spin {\n",
              "    0% {\n",
              "      border-color: transparent;\n",
              "      border-bottom-color: var(--fill-color);\n",
              "      border-left-color: var(--fill-color);\n",
              "    }\n",
              "    20% {\n",
              "      border-color: transparent;\n",
              "      border-left-color: var(--fill-color);\n",
              "      border-top-color: var(--fill-color);\n",
              "    }\n",
              "    30% {\n",
              "      border-color: transparent;\n",
              "      border-left-color: var(--fill-color);\n",
              "      border-top-color: var(--fill-color);\n",
              "      border-right-color: var(--fill-color);\n",
              "    }\n",
              "    40% {\n",
              "      border-color: transparent;\n",
              "      border-right-color: var(--fill-color);\n",
              "      border-top-color: var(--fill-color);\n",
              "    }\n",
              "    60% {\n",
              "      border-color: transparent;\n",
              "      border-right-color: var(--fill-color);\n",
              "    }\n",
              "    80% {\n",
              "      border-color: transparent;\n",
              "      border-right-color: var(--fill-color);\n",
              "      border-bottom-color: var(--fill-color);\n",
              "    }\n",
              "    90% {\n",
              "      border-color: transparent;\n",
              "      border-bottom-color: var(--fill-color);\n",
              "    }\n",
              "  }\n",
              "</style>\n",
              "\n",
              "  <script>\n",
              "    async function quickchart(key) {\n",
              "      const quickchartButtonEl =\n",
              "        document.querySelector('#' + key + ' button');\n",
              "      quickchartButtonEl.disabled = true;  // To prevent multiple clicks.\n",
              "      quickchartButtonEl.classList.add('colab-df-spinner');\n",
              "      try {\n",
              "        const charts = await google.colab.kernel.invokeFunction(\n",
              "            'suggestCharts', [key], {});\n",
              "      } catch (error) {\n",
              "        console.error('Error during call to suggestCharts:', error);\n",
              "      }\n",
              "      quickchartButtonEl.classList.remove('colab-df-spinner');\n",
              "      quickchartButtonEl.classList.add('colab-df-quickchart-complete');\n",
              "    }\n",
              "    (() => {\n",
              "      let quickchartButtonEl =\n",
              "        document.querySelector('#df-ecd662b5-bd17-42eb-a020-a574fff6b68f button');\n",
              "      quickchartButtonEl.style.display =\n",
              "        google.colab.kernel.accessAllowed ? 'block' : 'none';\n",
              "    })();\n",
              "  </script>\n",
              "</div>\n",
              "\n",
              "  <div id=\"id_83781708-ef5c-42a9-a7fa-13d3c228fc2c\">\n",
              "    <style>\n",
              "      .colab-df-generate {\n",
              "        background-color: #E8F0FE;\n",
              "        border: none;\n",
              "        border-radius: 50%;\n",
              "        cursor: pointer;\n",
              "        display: none;\n",
              "        fill: #1967D2;\n",
              "        height: 32px;\n",
              "        padding: 0 0 0 0;\n",
              "        width: 32px;\n",
              "      }\n",
              "\n",
              "      .colab-df-generate:hover {\n",
              "        background-color: #E2EBFA;\n",
              "        box-shadow: 0px 1px 2px rgba(60, 64, 67, 0.3), 0px 1px 3px 1px rgba(60, 64, 67, 0.15);\n",
              "        fill: #174EA6;\n",
              "      }\n",
              "\n",
              "      [theme=dark] .colab-df-generate {\n",
              "        background-color: #3B4455;\n",
              "        fill: #D2E3FC;\n",
              "      }\n",
              "\n",
              "      [theme=dark] .colab-df-generate:hover {\n",
              "        background-color: #434B5C;\n",
              "        box-shadow: 0px 1px 3px 1px rgba(0, 0, 0, 0.15);\n",
              "        filter: drop-shadow(0px 1px 2px rgba(0, 0, 0, 0.3));\n",
              "        fill: #FFFFFF;\n",
              "      }\n",
              "    </style>\n",
              "    <button class=\"colab-df-generate\" onclick=\"generateWithVariable('df_features')\"\n",
              "            title=\"Generate code using this dataframe.\"\n",
              "            style=\"display:none;\">\n",
              "\n",
              "  <svg xmlns=\"http://www.w3.org/2000/svg\" height=\"24px\"viewBox=\"0 0 24 24\"\n",
              "       width=\"24px\">\n",
              "    <path d=\"M7,19H8.4L18.45,9,17,7.55,7,17.6ZM5,21V16.75L18.45,3.32a2,2,0,0,1,2.83,0l1.4,1.43a1.91,1.91,0,0,1,.58,1.4,1.91,1.91,0,0,1-.58,1.4L9.25,21ZM18.45,9,17,7.55Zm-12,3A5.31,5.31,0,0,0,4.9,8.1,5.31,5.31,0,0,0,1,6.5,5.31,5.31,0,0,0,4.9,4.9,5.31,5.31,0,0,0,6.5,1,5.31,5.31,0,0,0,8.1,4.9,5.31,5.31,0,0,0,12,6.5,5.46,5.46,0,0,0,6.5,12Z\"/>\n",
              "  </svg>\n",
              "    </button>\n",
              "    <script>\n",
              "      (() => {\n",
              "      const buttonEl =\n",
              "        document.querySelector('#id_83781708-ef5c-42a9-a7fa-13d3c228fc2c button.colab-df-generate');\n",
              "      buttonEl.style.display =\n",
              "        google.colab.kernel.accessAllowed ? 'block' : 'none';\n",
              "\n",
              "      buttonEl.onclick = () => {\n",
              "        google.colab.notebook.generateWithVariable('df_features');\n",
              "      }\n",
              "      })();\n",
              "    </script>\n",
              "  </div>\n",
              "\n",
              "    </div>\n",
              "  </div>\n"
            ],
            "application/vnd.google.colaboratory.intrinsic+json": {
              "type": "dataframe",
              "variable_name": "df_features",
              "summary": "{\n  \"name\": \"df_features\",\n  \"rows\": 4760,\n  \"fields\": [\n    {\n      \"column\": \"Movie_Genre\",\n      \"properties\": {\n        \"dtype\": \"category\",\n        \"num_unique_values\": 1164,\n        \"samples\": [\n          \"Family Animation Adventure\",\n          \"Adventure Science Fiction Action\",\n          \"Action Crime Drama Romance Thriller\"\n        ],\n        \"semantic_type\": \"\",\n        \"description\": \"\"\n      }\n    },\n    {\n      \"column\": \"Movie_Keywords\",\n      \"properties\": {\n        \"dtype\": \"string\",\n        \"num_unique_values\": 4203,\n        \"samples\": [\n          \"canada nazis sequel spin off ancient evil\",\n          \"sex professor wedding woman director columbia university\",\n          \"prophecy sea beach gold small town\"\n        ],\n        \"semantic_type\": \"\",\n        \"description\": \"\"\n      }\n    },\n    {\n      \"column\": \"Movie_Tagline\",\n      \"properties\": {\n        \"dtype\": \"string\",\n        \"num_unique_values\": 3928,\n        \"samples\": [\n          \"The messenger must be silenced.\",\n          \"It's not the house that's haunted.\",\n          \"The final hunt begins.\"\n        ],\n        \"semantic_type\": \"\",\n        \"description\": \"\"\n      }\n    },\n    {\n      \"column\": \"Movie_Cast\",\n      \"properties\": {\n        \"dtype\": \"string\",\n        \"num_unique_values\": 4715,\n        \"samples\": [\n          \"Robin Tunney Fairuza Balk Neve Campbell Rachel True Skeet Ulrich\",\n          \"Peter Sellers Christopher Plummer Herbert Lom Catherine Schell Peter Arne\",\n          \"John Wayne Laraine Day Cedric Hardwicke Judith Anderson Anthony Quinn\"\n        ],\n        \"semantic_type\": \"\",\n        \"description\": \"\"\n      }\n    },\n    {\n      \"column\": \"Movie_Director\",\n      \"properties\": {\n        \"dtype\": \"category\",\n        \"num_unique_values\": 2332,\n        \"samples\": [\n          \"Rob McKittrick\",\n          \"Terron R. Parsons\",\n          \"Cyrus Nowrasteh\"\n        ],\n        \"semantic_type\": \"\",\n        \"description\": \"\"\n      }\n    }\n  ]\n}"
            }
          },
          "metadata": {},
          "execution_count": 11
        }
      ]
    },
    {
      "cell_type": "code",
      "source": [
        "x=df_features['Movie_Genre'] + '' + df_features['Movie_Keywords'] + '' + df_features['Movie_Tagline'] + '' + df_features['Movie_Cast'] + '' + ['Movie_Director']"
      ],
      "metadata": {
        "id": "Fdta8SEGDGGl"
      },
      "execution_count": 12,
      "outputs": []
    },
    {
      "cell_type": "code",
      "source": [
        "x"
      ],
      "metadata": {
        "colab": {
          "base_uri": "https://localhost:8080/",
          "height": 458
        },
        "id": "wx9MRWiuD4VW",
        "outputId": "d1dea0a0-b7ac-4ef7-d196-b2e743c2f0d4"
      },
      "execution_count": 13,
      "outputs": [
        {
          "output_type": "execute_result",
          "data": {
            "text/plain": [
              "0       Crime Comedyhotel new year's eve witch bet hot...\n",
              "1       Adventure Action Science Fictionandroid galaxy...\n",
              "2       Animation Familyfather son relationship harbor...\n",
              "3       Comedy Drama Romancevietnam veteran hippie men...\n",
              "4       Dramamale nudity female nudity adultery midlif...\n",
              "                              ...                        \n",
              "4755    HorrorThe hot spot where Satan's waitin'.Lisa ...\n",
              "4756    Comedy Family DramaIt’s better to stand out th...\n",
              "4757    Thriller Dramachristian film sex traffickingSh...\n",
              "4758                                 FamilyMovie_Director\n",
              "4759    Documentarymusic actors legendary perfomer cla...\n",
              "Length: 4760, dtype: object"
            ],
            "text/html": [
              "<div>\n",
              "<style scoped>\n",
              "    .dataframe tbody tr th:only-of-type {\n",
              "        vertical-align: middle;\n",
              "    }\n",
              "\n",
              "    .dataframe tbody tr th {\n",
              "        vertical-align: top;\n",
              "    }\n",
              "\n",
              "    .dataframe thead th {\n",
              "        text-align: right;\n",
              "    }\n",
              "</style>\n",
              "<table border=\"1\" class=\"dataframe\">\n",
              "  <thead>\n",
              "    <tr style=\"text-align: right;\">\n",
              "      <th></th>\n",
              "      <th>0</th>\n",
              "    </tr>\n",
              "  </thead>\n",
              "  <tbody>\n",
              "    <tr>\n",
              "      <th>0</th>\n",
              "      <td>Crime Comedyhotel new year's eve witch bet hot...</td>\n",
              "    </tr>\n",
              "    <tr>\n",
              "      <th>1</th>\n",
              "      <td>Adventure Action Science Fictionandroid galaxy...</td>\n",
              "    </tr>\n",
              "    <tr>\n",
              "      <th>2</th>\n",
              "      <td>Animation Familyfather son relationship harbor...</td>\n",
              "    </tr>\n",
              "    <tr>\n",
              "      <th>3</th>\n",
              "      <td>Comedy Drama Romancevietnam veteran hippie men...</td>\n",
              "    </tr>\n",
              "    <tr>\n",
              "      <th>4</th>\n",
              "      <td>Dramamale nudity female nudity adultery midlif...</td>\n",
              "    </tr>\n",
              "    <tr>\n",
              "      <th>...</th>\n",
              "      <td>...</td>\n",
              "    </tr>\n",
              "    <tr>\n",
              "      <th>4755</th>\n",
              "      <td>HorrorThe hot spot where Satan's waitin'.Lisa ...</td>\n",
              "    </tr>\n",
              "    <tr>\n",
              "      <th>4756</th>\n",
              "      <td>Comedy Family DramaIt’s better to stand out th...</td>\n",
              "    </tr>\n",
              "    <tr>\n",
              "      <th>4757</th>\n",
              "      <td>Thriller Dramachristian film sex traffickingSh...</td>\n",
              "    </tr>\n",
              "    <tr>\n",
              "      <th>4758</th>\n",
              "      <td>FamilyMovie_Director</td>\n",
              "    </tr>\n",
              "    <tr>\n",
              "      <th>4759</th>\n",
              "      <td>Documentarymusic actors legendary perfomer cla...</td>\n",
              "    </tr>\n",
              "  </tbody>\n",
              "</table>\n",
              "<p>4760 rows × 1 columns</p>\n",
              "</div><br><label><b>dtype:</b> object</label>"
            ]
          },
          "metadata": {},
          "execution_count": 13
        }
      ]
    },
    {
      "cell_type": "code",
      "source": [
        "x.shape"
      ],
      "metadata": {
        "colab": {
          "base_uri": "https://localhost:8080/"
        },
        "id": "ZIEAP5RBD-yQ",
        "outputId": "e8a6f4b6-8024-4a03-f254-09daa7da156f"
      },
      "execution_count": 14,
      "outputs": [
        {
          "output_type": "execute_result",
          "data": {
            "text/plain": [
              "(4760,)"
            ]
          },
          "metadata": {},
          "execution_count": 14
        }
      ]
    },
    {
      "cell_type": "markdown",
      "source": [
        "# **Get Feature Text Conversion to Token**"
      ],
      "metadata": {
        "id": "yBII8D4QEDbn"
      }
    },
    {
      "cell_type": "code",
      "source": [
        "from sklearn.feature_extraction.text import TfidfVectorizer"
      ],
      "metadata": {
        "id": "ETwj5ZX-ELnT"
      },
      "execution_count": 15,
      "outputs": []
    },
    {
      "cell_type": "code",
      "source": [
        "tfidf =TfidfVectorizer()"
      ],
      "metadata": {
        "id": "hUZbSDvAEaJO"
      },
      "execution_count": 16,
      "outputs": []
    },
    {
      "cell_type": "code",
      "source": [
        "x = tfidf.fit_transform(x)"
      ],
      "metadata": {
        "id": "DVIchYidEnM0"
      },
      "execution_count": 17,
      "outputs": []
    },
    {
      "cell_type": "code",
      "source": [
        "x.shape"
      ],
      "metadata": {
        "colab": {
          "base_uri": "https://localhost:8080/"
        },
        "id": "zJ0lDD_MEwfm",
        "outputId": "57236ecd-d13c-4e9d-bb93-240ece1d0940"
      },
      "execution_count": 18,
      "outputs": [
        {
          "output_type": "execute_result",
          "data": {
            "text/plain": [
              "(4760, 24399)"
            ]
          },
          "metadata": {},
          "execution_count": 18
        }
      ]
    },
    {
      "cell_type": "code",
      "source": [
        "print(x)"
      ],
      "metadata": {
        "colab": {
          "base_uri": "https://localhost:8080/"
        },
        "id": "gtEV4nlgEz3F",
        "outputId": "ef8ec562-0ed5-4e7d-e0bf-8ddd435a73b3"
      },
      "execution_count": 19,
      "outputs": [
        {
          "output_type": "stream",
          "name": "stdout",
          "text": [
            "  (0, 4996)\t0.07452851233799133\n",
            "  (0, 4332)\t0.17744824872932385\n",
            "  (0, 15727)\t0.19782542382959706\n",
            "  (0, 24172)\t0.26330681580614185\n",
            "  (0, 7607)\t0.3052839753400208\n",
            "  (0, 23914)\t0.14981584997689812\n",
            "  (0, 2184)\t0.16683573979768865\n",
            "  (0, 11151)\t0.13699097949282849\n",
            "  (0, 18796)\t0.19813775615205245\n",
            "  (0, 16292)\t0.1889825032699209\n",
            "  (0, 10000)\t0.1889825032699209\n",
            "  (0, 9006)\t0.15118473162050677\n",
            "  (0, 19241)\t0.19813775615205245\n",
            "  (0, 18002)\t0.19813775615205245\n",
            "  (0, 978)\t0.07687072650474552\n",
            "  (0, 16149)\t0.08696414057771944\n",
            "  (0, 13503)\t0.15587315204143945\n",
            "  (0, 2086)\t0.19813775615205245\n",
            "  (0, 11480)\t0.15512779665569842\n",
            "  (0, 10724)\t0.20409517546286157\n",
            "  (0, 8763)\t0.11918790254104503\n",
            "  (0, 5539)\t0.12133997131564658\n",
            "  (0, 16145)\t0.07378354969756228\n",
            "  (0, 21435)\t0.10873161414491835\n",
            "  (0, 12014)\t0.1393699811512939\n",
            "  :\t:\n",
            "  (4757, 10554)\t0.18108613295652434\n",
            "  (4757, 12655)\t0.24367638946089634\n",
            "  (4757, 8622)\t0.14752995493732057\n",
            "  (4757, 15779)\t0.19739463209260866\n",
            "  (4757, 19591)\t0.1721226024585437\n",
            "  (4757, 10216)\t0.2256316936049411\n",
            "  (4757, 4867)\t0.20631666620276123\n",
            "  (4757, 1696)\t0.20206033261618808\n",
            "  (4757, 20605)\t0.27483603378666094\n",
            "  (4757, 6527)\t0.2672477504496494\n",
            "  (4757, 9204)\t0.2846190325060319\n",
            "  (4757, 22199)\t0.29840739477541395\n",
            "  (4757, 20112)\t0.29840739477541395\n",
            "  (4757, 1252)\t0.29840739477541395\n",
            "  (4757, 2944)\t0.29840739477541395\n",
            "  (4758, 7970)\t1.0\n",
            "  (4759, 9043)\t0.2362416997200862\n",
            "  (4759, 3963)\t0.3046021661920278\n",
            "  (4759, 10887)\t0.29974655955168933\n",
            "  (4759, 13139)\t0.34503686043658716\n",
            "  (4759, 343)\t0.34503686043658716\n",
            "  (4759, 6260)\t0.3617521629449992\n",
            "  (4759, 16709)\t0.3617521629449992\n",
            "  (4759, 19946)\t0.3617521629449992\n",
            "  (4759, 16180)\t0.3617521629449992\n"
          ]
        }
      ]
    },
    {
      "cell_type": "markdown",
      "source": [
        ""
      ],
      "metadata": {
        "id": "qOZm-mfKFSmF"
      }
    },
    {
      "cell_type": "markdown",
      "source": [
        "# **Get Similarity Score using Cosine Similarity**"
      ],
      "metadata": {
        "id": "xyAK62BAZJL3"
      }
    },
    {
      "cell_type": "code",
      "source": [
        "from sklearn.metrics.pairwise import cosine_similarity"
      ],
      "metadata": {
        "id": "BYLVp2yrZShA"
      },
      "execution_count": 21,
      "outputs": []
    },
    {
      "cell_type": "code",
      "source": [
        "similarity_Score = cosine_similarity(x)"
      ],
      "metadata": {
        "id": "u0t2WL61ZiZl"
      },
      "execution_count": 22,
      "outputs": []
    },
    {
      "cell_type": "code",
      "source": [
        "similarity_Score"
      ],
      "metadata": {
        "colab": {
          "base_uri": "https://localhost:8080/"
        },
        "id": "7Yb1BVmQZq8P",
        "outputId": "e0419b99-e3c5-4289-c980-6262f60e40a1"
      },
      "execution_count": 23,
      "outputs": [
        {
          "output_type": "execute_result",
          "data": {
            "text/plain": [
              "array([[1.        , 0.0148036 , 0.03931129, ..., 0.        , 0.        ,\n",
              "        0.        ],\n",
              "       [0.0148036 , 1.        , 0.00873629, ..., 0.        , 0.        ,\n",
              "        0.        ],\n",
              "       [0.03931129, 0.00873629, 1.        , ..., 0.        , 0.        ,\n",
              "        0.        ],\n",
              "       ...,\n",
              "       [0.        , 0.        , 0.        , ..., 1.        , 0.        ,\n",
              "        0.        ],\n",
              "       [0.        , 0.        , 0.        , ..., 0.        , 1.        ,\n",
              "        0.        ],\n",
              "       [0.        , 0.        , 0.        , ..., 0.        , 0.        ,\n",
              "        1.        ]])"
            ]
          },
          "metadata": {},
          "execution_count": 23
        }
      ]
    },
    {
      "cell_type": "code",
      "source": [
        "similarity_Score.shape"
      ],
      "metadata": {
        "colab": {
          "base_uri": "https://localhost:8080/"
        },
        "id": "6pp4mwRTZwuH",
        "outputId": "58a083c6-4b31-48c6-d5f5-10b79e4a9088"
      },
      "execution_count": 24,
      "outputs": [
        {
          "output_type": "execute_result",
          "data": {
            "text/plain": [
              "(4760, 4760)"
            ]
          },
          "metadata": {},
          "execution_count": 24
        }
      ]
    },
    {
      "cell_type": "markdown",
      "source": [
        "# **Get Movie Name as input from User and Validate for Closest Spelling**"
      ],
      "metadata": {
        "id": "frh5F7aBZ4hp"
      }
    },
    {
      "cell_type": "code",
      "source": [
        "Favourite_Movie_Name =input('Enter your favourite movie name :')"
      ],
      "metadata": {
        "colab": {
          "base_uri": "https://localhost:8080/"
        },
        "id": "exdrJXTNaEsd",
        "outputId": "e5054728-cf24-42a4-c95d-8b42a7ca9985"
      },
      "execution_count": 25,
      "outputs": [
        {
          "name": "stdout",
          "output_type": "stream",
          "text": [
            "Enter your favourite movie name :avtaar\n"
          ]
        }
      ]
    },
    {
      "cell_type": "code",
      "source": [
        "All_Movie_Title_List =df['Movie_Title'].tolist()"
      ],
      "metadata": {
        "id": "EakfOaoNabZX"
      },
      "execution_count": 26,
      "outputs": []
    },
    {
      "cell_type": "code",
      "source": [
        "import difflib"
      ],
      "metadata": {
        "id": "brAM7oFNabb3"
      },
      "execution_count": 27,
      "outputs": []
    },
    {
      "cell_type": "code",
      "source": [
        "Movie_Recommendation = difflib.get_close_matches(Favourite_Movie_Name, All_Movie_Title_List)\n",
        "print(Movie_Recommendation)"
      ],
      "metadata": {
        "colab": {
          "base_uri": "https://localhost:8080/"
        },
        "id": "7e6vYktua-rE",
        "outputId": "dfcc27d5-fb02-4001-cb24-6286878746f8"
      },
      "execution_count": 73,
      "outputs": [
        {
          "output_type": "stream",
          "name": "stdout",
          "text": [
            "['Avatar', 'Gattaca']\n"
          ]
        }
      ]
    },
    {
      "cell_type": "code",
      "source": [
        "Close_Match = Movie_Recommendation[0]\n",
        "print(Close_Match)"
      ],
      "metadata": {
        "colab": {
          "base_uri": "https://localhost:8080/"
        },
        "id": "uUq9quqhbssx",
        "outputId": "4fe48f1a-558c-475a-a41d-3435196de38b"
      },
      "execution_count": 38,
      "outputs": [
        {
          "output_type": "stream",
          "name": "stdout",
          "text": [
            "Avatar\n"
          ]
        }
      ]
    },
    {
      "cell_type": "code",
      "source": [
        "Index_of_Close_Match_Movie = df[df.Movie_Title == Close_Match]['Movie_ID'].values[0]\n",
        "print(Index_of_Close_Match_Movie)"
      ],
      "metadata": {
        "colab": {
          "base_uri": "https://localhost:8080/"
        },
        "id": "7BomEVD2cDby",
        "outputId": "5a941469-d0e9-4ca5-f2cb-7644cb43ea35"
      },
      "execution_count": 44,
      "outputs": [
        {
          "output_type": "stream",
          "name": "stdout",
          "text": [
            "2692\n"
          ]
        }
      ]
    },
    {
      "cell_type": "code",
      "source": [
        "#getting a list of similar movies\n",
        "Recommendation_Score = list(enumerate(similarity_Score[Index_of_Close_Match_Movie]))\n",
        "print(Recommendation_Score)"
      ],
      "metadata": {
        "colab": {
          "base_uri": "https://localhost:8080/"
        },
        "id": "TWT2OqdCcEP1",
        "outputId": "e094bf4b-a075-40a1-8bbb-c421d6ef6b79"
      },
      "execution_count": 51,
      "outputs": [
        {
          "output_type": "stream",
          "name": "stdout",
          "text": [
            "[(0, 0.011330821905528008), (1, 0.0), (2, 0.0), (3, 0.008833418957419938), (4, 0.0), (5, 0.013320862803467556), (6, 0.0), (7, 0.014447024270298862), (8, 0.004288304506133923), (9, 0.006109113368423075), (10, 0.0), (11, 0.0040018759349219925), (12, 0.004356812966418863), (13, 0.013923146582614643), (14, 0.0), (15, 0.023787444472435082), (16, 0.0035937174543206416), (17, 0.0), (18, 0.003642496115453706), (19, 0.010342287394586959), (20, 0.0), (21, 0.0152618017922902), (22, 0.006435363646857547), (23, 0.004062235271840732), (24, 0.0), (25, 0.029235123161060653), (26, 0.0), (27, 0.0), (28, 0.0), (29, 0.010010882188684149), (30, 0.0), (31, 0.0036045164938502674), (32, 0.009576586135290971), (33, 0.01967129441383477), (34, 0.004122524734898589), (35, 0.005995458159670132), (36, 0.0), (37, 0.0), (38, 0.0), (39, 0.0), (40, 0.007198188344744681), (41, 0.0041581643788371715), (42, 0.0), (43, 0.013821797272820766), (44, 0.03743910715940646), (45, 0.049178568413310975), (46, 0.014372305579407328), (47, 0.0), (48, 0.01456789202919175), (49, 0.0), (50, 0.0), (51, 0.013331554377347003), (52, 0.0126217897738721), (53, 0.0), (54, 0.0), (55, 0.0), (56, 0.006527678762247122), (57, 0.01093529703897269), (58, 0.0), (59, 0.0), (60, 0.008995124339123918), (61, 0.01845287843258362), (62, 0.07036177890769166), (63, 0.00861443373675917), (64, 0.0), (65, 0.032968439278367165), (66, 0.0), (67, 0.04204990830435302), (68, 0.02354421465859653), (69, 0.0), (70, 0.0), (71, 0.003953820768340296), (72, 0.0), (73, 0.0), (74, 0.004140120917774529), (75, 0.014276855143467828), (76, 0.0), (77, 0.0), (78, 0.005723672977076845), (79, 0.0101918696934051), (80, 0.0), (81, 0.0), (82, 0.0102021289514245), (83, 0.01598521253703576), (84, 0.02637411128603854), (85, 0.0186237308329689), (86, 0.013346932816781058), (87, 0.013349880033302158), (88, 0.012742224960935425), (89, 0.03938898210435054), (90, 0.0), (91, 0.0), (92, 0.0036983085465861626), (93, 0.0), (94, 0.0), (95, 0.0), (96, 0.003609240475647946), (97, 0.0033252858590997344), (98, 0.0), (99, 0.0), (100, 0.0), (101, 0.0), (102, 0.0), (103, 0.003659059718331753), (104, 0.010157741783734586), (105, 0.009085192598399032), (106, 0.01747270135850175), (107, 0.004440778051142829), (108, 0.0377242124197539), (109, 0.02585823482917868), (110, 0.08620129364166063), (111, 0.003627970509415372), (112, 0.028126161501573346), (113, 0.008465188495778393), (114, 0.0037823797826567218), (115, 0.0), (116, 0.020924608298190473), (117, 0.0), (118, 0.0), (119, 0.009910775692018443), (120, 0.014074829774526768), (121, 0.003576562719916585), (122, 0.008261200558906315), (123, 0.01951279104195689), (124, 0.023704748430509105), (125, 0.008085279807986418), (126, 0.03392639899440966), (127, 0.0038432759790815803), (128, 0.0), (129, 0.002640765368863059), (130, 0.011621100729360147), (131, 0.006776329783407331), (132, 0.0036731329515576148), (133, 0.0), (134, 0.0), (135, 0.0), (136, 0.0035550517739027345), (137, 0.05149018717856177), (138, 0.023988084260873604), (139, 0.0), (140, 0.0), (141, 0.0), (142, 0.009119848171147464), (143, 0.0), (144, 0.014873925881366786), (145, 0.018153495112341673), (146, 0.0), (147, 0.017208506213748913), (148, 0.00816175250078164), (149, 0.012608608905577974), (150, 0.0), (151, 0.0), (152, 0.0), (153, 0.0), (154, 0.0), (155, 0.004834452579617661), (156, 0.008352888211302608), (157, 0.0), (158, 0.0), (159, 0.005229569359941977), (160, 0.014044974807978648), (161, 0.015244300309899497), (162, 0.009794825102626593), (163, 0.0), (164, 0.006273969559555855), (165, 0.0033405258170343525), (166, 0.03345733563003645), (167, 0.0), (168, 0.005138864040257913), (169, 0.004048120441144393), (170, 0.008477645328988174), (171, 0.0), (172, 0.041999775199157985), (173, 0.0108386238209049), (174, 0.038671666243208704), (175, 0.02124612366046979), (176, 0.02826398446191173), (177, 0.005452295307627737), (178, 0.004112195093438586), (179, 0.03207165241220424), (180, 0.009857653316139829), (181, 0.01809916749693451), (182, 0.006538626313206055), (183, 0.009529487435082779), (184, 0.0034869860158414367), (185, 0.041595009602477924), (186, 0.0), (187, 0.0), (188, 0.0), (189, 0.0), (190, 0.003348697046949173), (191, 0.0), (192, 0.004106753221013634), (193, 0.02900262347321822), (194, 0.003408998784546211), (195, 0.0033251918496709377), (196, 0.0), (197, 0.009979859324450602), (198, 0.0039235018937869145), (199, 0.018922081229510036), (200, 0.0036206348900709737), (201, 0.009592876593875754), (202, 0.002513348851738717), (203, 0.0149753163392062), (204, 0.02045187182039626), (205, 0.0), (206, 0.004225759591232743), (207, 0.01044849627974987), (208, 0.011646913582959877), (209, 0.016374943368145253), (210, 0.041442540420514234), (211, 0.0), (212, 0.0), (213, 0.05043884140044382), (214, 0.0), (215, 0.0037129313989660235), (216, 0.003999173614102604), (217, 0.0), (218, 0.017966117474642593), (219, 0.0), (220, 0.0), (221, 0.0037734803586501734), (222, 0.014781378028337533), (223, 0.0), (224, 0.010108456557825591), (225, 0.0), (226, 0.0), (227, 0.057694303194498184), (228, 0.002938211203888552), (229, 0.0), (230, 0.006259785101815145), (231, 0.013506194867421384), (232, 0.006869816254057203), (233, 0.0), (234, 0.0), (235, 0.0), (236, 0.012156433896727324), (237, 0.0), (238, 0.004008793419152257), (239, 0.0), (240, 0.02524264328025536), (241, 0.0), (242, 0.009291254409333743), (243, 0.007498789698591989), (244, 0.009371185278472138), (245, 0.0), (246, 0.0), (247, 0.0), (248, 0.006187594314986776), (249, 0.0), (250, 0.026641030311480865), (251, 0.0173654263988124), (252, 0.015796766726236814), (253, 0.0), (254, 0.06390942989855639), (255, 0.0040309497463005516), (256, 0.0030688064568777933), (257, 0.0), (258, 0.0), (259, 0.0), (260, 0.0), (261, 0.01794133149404185), (262, 0.0), (263, 0.0062068073751466325), (264, 0.0), (265, 0.0), (266, 0.007848944090363281), (267, 0.003459744201031042), (268, 0.0), (269, 0.025528632868868178), (270, 0.0133344061248445), (271, 0.008064896116736553), (272, 0.0), (273, 0.0064295328500568886), (274, 0.004404274690093083), (275, 0.0), (276, 0.01234044048388996), (277, 0.00560594000248515), (278, 0.0), (279, 0.0), (280, 0.010407468325135566), (281, 0.010610042610175808), (282, 0.028809735864453526), (283, 0.007278662928658312), (284, 0.02468508745219134), (285, 0.008263040538534886), (286, 0.003512841715724968), (287, 0.014970206164354127), (288, 0.00542511333332445), (289, 0.0), (290, 0.0), (291, 0.0), (292, 0.0530737240897437), (293, 0.0), (294, 0.0), (295, 0.0), (296, 0.013285828124893422), (297, 0.0), (298, 0.0), (299, 0.0), (300, 0.006205727774878036), (301, 0.006812036665896803), (302, 0.0), (303, 0.0), (304, 0.0), (305, 0.0), (306, 0.0), (307, 0.009495787990698149), (308, 0.0), (309, 0.008493248042081394), (310, 0.0), (311, 0.0), (312, 0.0), (313, 0.006705443365867553), (314, 0.0), (315, 0.0), (316, 0.0), (317, 0.011499316503922621), (318, 0.004280581139256311), (319, 0.0), (320, 0.0), (321, 0.006426113483040994), (322, 0.006374987705399444), (323, 0.0), (324, 0.0), (325, 0.003692621808176719), (326, 0.004838467031810703), (327, 0.005921132776016201), (328, 0.04581851065708302), (329, 0.012652823348850402), (330, 0.020677600183640166), (331, 0.0), (332, 0.0098692329840967), (333, 0.008039382514265817), (334, 0.0213116698953177), (335, 0.0), (336, 0.00494441185764057), (337, 0.0), (338, 0.0), (339, 0.0), (340, 0.0071406998582482974), (341, 0.0070844365858173716), (342, 0.011069444853280649), (343, 0.016462715739996713), (344, 0.0), (345, 0.017167094428202863), (346, 0.0065211015095230146), (347, 0.0), (348, 0.003839802645806335), (349, 0.003723132346841318), (350, 0.0043109445878224805), (351, 0.0030357604031558427), (352, 0.0), (353, 0.010215241649927008), (354, 0.0059588145077737326), (355, 0.0036345818513003484), (356, 0.009889149259295371), (357, 0.003426951258151243), (358, 0.016282453191099704), (359, 0.0036022969263852507), (360, 0.009149051209897808), (361, 0.0), (362, 0.0), (363, 0.006859893234496866), (364, 0.020170525663105243), (365, 0.0), (366, 0.0), (367, 0.0), (368, 0.010674795014288137), (369, 0.007010586171410245), (370, 0.012815700251274171), (371, 0.023663783477142646), (372, 0.0036440239453180835), (373, 0.003778502058436531), (374, 0.01635495464486576), (375, 0.0), (376, 0.0), (377, 0.0), (378, 0.0), (379, 0.0), (380, 0.0), (381, 0.026941555995941717), (382, 0.0), (383, 0.02227474911641296), (384, 0.030709223686080832), (385, 0.010155277636431582), (386, 0.007035604485688115), (387, 0.03774312226872202), (388, 0.003686115939405521), (389, 0.0), (390, 0.0), (391, 0.0), (392, 0.0), (393, 0.0), (394, 0.0), (395, 0.0), (396, 0.008834123977550864), (397, 0.0), (398, 0.02502913155595614), (399, 0.0), (400, 0.00381676722846942), (401, 0.0), (402, 0.007830854749645608), (403, 0.009003298742175387), (404, 0.0), (405, 0.0), (406, 0.0105648398858001), (407, 0.013463059089568427), (408, 0.048051195680254094), (409, 0.017460652063770024), (410, 0.003468381615034641), (411, 0.0), (412, 0.042657620623841125), (413, 0.006773068034746439), (414, 0.004882483032024206), (415, 0.0), (416, 0.0035020652270904887), (417, 0.0), (418, 0.009637904742369753), (419, 0.004570651821772963), (420, 0.0), (421, 0.03029676783684518), (422, 0.0), (423, 0.0), (424, 0.02812702821301643), (425, 0.0), (426, 0.0), (427, 0.0), (428, 0.009693427754576205), (429, 0.01368944012881561), (430, 0.03203991411967737), (431, 0.004464096449732691), (432, 0.0), (433, 0.013586941257967545), (434, 0.011997738571642089), (435, 0.00734924002702851), (436, 0.0045944407826982656), (437, 0.01678797307803674), (438, 0.04184133993701525), (439, 0.0), (440, 0.0), (441, 0.008787588307653854), (442, 0.018654184510195918), (443, 0.004352123430525549), (444, 0.0), (445, 0.006063817129872383), (446, 0.006439950747315182), (447, 0.009296527302969902), (448, 0.004623593192301404), (449, 0.006279600910622351), (450, 0.014018419962062895), (451, 0.0), (452, 0.012756531782229446), (453, 0.003327013896403024), (454, 0.0), (455, 0.022033501749147675), (456, 0.00411860344769755), (457, 0.0037252681962780514), (458, 0.01484375713565931), (459, 0.027938907328231125), (460, 0.0), (461, 0.010720094238575773), (462, 0.0), (463, 0.009362142618577412), (464, 0.010655162484354946), (465, 0.029618525320491047), (466, 0.0), (467, 0.0), (468, 0.006022393988129222), (469, 0.0), (470, 0.010940693373360216), (471, 0.00368391233555729), (472, 0.011063905278984449), (473, 0.0), (474, 0.0), (475, 0.0036681930238275425), (476, 0.0), (477, 0.005245748675937698), (478, 0.0), (479, 0.04575962758483945), (480, 0.0034204763189366414), (481, 0.00423586607385673), (482, 0.010867921017739045), (483, 0.009354016020869067), (484, 0.0), (485, 0.009637455970315333), (486, 0.0), (487, 0.0), (488, 0.0037099456404906975), (489, 0.0), (490, 0.003845149310378352), (491, 0.0), (492, 0.0), (493, 0.004174278444593781), (494, 0.00906865499374574), (495, 0.0035096029884501435), (496, 0.014549127619631397), (497, 0.0), (498, 0.0), (499, 0.0), (500, 0.008525813248433302), (501, 0.008436378894827352), (502, 0.013144712459766388), (503, 0.0), (504, 0.003928581794675103), (505, 0.0), (506, 0.0), (507, 0.0), (508, 0.0), (509, 0.00391703507268611), (510, 0.01572100463598996), (511, 0.012282408693222772), (512, 0.0), (513, 0.0), (514, 0.0), (515, 0.025996789303669242), (516, 0.0), (517, 0.0), (518, 0.0), (519, 0.04719907205044007), (520, 0.0), (521, 0.0064653235870442095), (522, 0.0037599505148496254), (523, 0.006634951298691679), (524, 0.0), (525, 0.0), (526, 0.0), (527, 0.010404397709398288), (528, 0.0), (529, 0.0), (530, 0.02683470298318827), (531, 0.0), (532, 0.0), (533, 0.014900408366229995), (534, 0.014122390212803567), (535, 0.0), (536, 0.0), (537, 0.0072908401712250635), (538, 0.011246132365074173), (539, 0.0), (540, 0.0329262577097774), (541, 0.0), (542, 0.009438532105116373), (543, 0.013533201436128569), (544, 0.00966595899655664), (545, 0.013357851984964838), (546, 0.0), (547, 0.016803612737204602), (548, 0.0), (549, 0.0), (550, 0.0), (551, 0.017570552422677563), (552, 0.0), (553, 0.01842661162276654), (554, 0.0), (555, 0.010722302128036909), (556, 0.0), (557, 0.0), (558, 0.003617352648156274), (559, 0.0), (560, 0.0), (561, 0.004819473376003903), (562, 0.00297846195104519), (563, 0.003558205671063897), (564, 0.004085012619728929), (565, 0.0), (566, 0.022256303301499747), (567, 0.0), (568, 0.0063052990057927945), (569, 0.0), (570, 0.0), (571, 0.003017893780001819), (572, 0.0), (573, 0.0), (574, 0.0), (575, 0.0), (576, 0.004295664366821722), (577, 0.0), (578, 0.037228787789575626), (579, 0.004034926953276567), (580, 0.003989446051947408), (581, 0.0), (582, 0.007760426399060537), (583, 0.005860551470292942), (584, 0.01390840899389472), (585, 0.0), (586, 0.015455538183041321), (587, 0.00427135805056372), (588, 0.004022175205142676), (589, 0.0037435952998132933), (590, 0.02022784351576567), (591, 0.0), (592, 0.0), (593, 0.0), (594, 0.0036081894161577826), (595, 0.0), (596, 0.0043778555790402384), (597, 0.005807070279878572), (598, 0.00375854002340856), (599, 0.0), (600, 0.00676401970292157), (601, 0.0), (602, 0.0), (603, 0.0), (604, 0.003500465059908095), (605, 0.0035952135507466773), (606, 0.004062866290863611), (607, 0.002970120706186489), (608, 0.0035564757931762043), (609, 0.01356732550059287), (610, 0.0), (611, 0.003409444564777708), (612, 0.004224070671709113), (613, 0.024266507957278548), (614, 0.004388052621525937), (615, 0.04423962101550381), (616, 0.008548545967475146), (617, 0.003479341655598908), (618, 0.032476498785523306), (619, 0.0), (620, 0.012661873268597267), (621, 0.0), (622, 0.013511381498861327), (623, 0.0042868929182029196), (624, 0.0), (625, 0.0), (626, 0.003262818839069044), (627, 0.00545014330952309), (628, 0.08189428359493295), (629, 0.027966866813138026), (630, 0.0), (631, 0.00665792587437018), (632, 0.035014029310442916), (633, 0.0), (634, 0.0), (635, 0.00698687427869702), (636, 0.004016246577386267), (637, 0.0420928069118451), (638, 0.01827400203876904), (639, 0.0), (640, 0.0), (641, 0.007928161916088937), (642, 0.003350580046482147), (643, 0.018482523849202702), (644, 0.003980227683597502), (645, 0.0), (646, 0.0), (647, 0.0), (648, 0.0119087672267222), (649, 0.0), (650, 0.0), (651, 0.0100096405972241), (652, 0.004205815823476857), (653, 0.011343662893661123), (654, 0.00958171161373604), (655, 0.0036633175918574417), (656, 0.0), (657, 0.01978749908823576), (658, 0.0), (659, 0.003622321310777515), (660, 0.0039963016829985), (661, 0.0), (662, 0.0), (663, 0.0), (664, 0.00579177839102782), (665, 0.0), (666, 0.0), (667, 0.010047122280631206), (668, 0.007213809521208219), (669, 0.018047126921281534), (670, 0.023576128090897604), (671, 0.00660350108534629), (672, 0.025737874255935565), (673, 0.00418446255891658), (674, 0.0), (675, 0.00985581546788963), (676, 0.012525593030021875), (677, 0.016602254552339), (678, 0.0), (679, 0.0), (680, 0.0), (681, 0.0), (682, 0.04249951257013236), (683, 0.01011832190158998), (684, 0.015179003331598627), (685, 0.0), (686, 0.0), (687, 0.0), (688, 0.004260300974783926), (689, 0.010398696863355495), (690, 0.0), (691, 0.020941034684730252), (692, 0.0131093629876192), (693, 0.004018076873693219), (694, 0.03368356853586606), (695, 0.008178160535257351), (696, 0.003899980469224126), (697, 0.010323828630714328), (698, 0.0038861574560175465), (699, 0.0), (700, 0.0), (701, 0.014465858287066374), (702, 0.0), (703, 0.00346839606765079), (704, 0.0), (705, 0.009112508930964009), (706, 0.021715450717900396), (707, 0.003252635678735694), (708, 0.0), (709, 0.0), (710, 0.0376426358374173), (711, 0.0), (712, 0.0033491553798546533), (713, 0.0), (714, 0.0), (715, 0.007102656490824554), (716, 0.00435068123084486), (717, 0.0), (718, 0.0), (719, 0.00857713979643105), (720, 0.0), (721, 0.004527928121786167), (722, 0.0034609910789911965), (723, 0.0), (724, 0.0), (725, 0.0), (726, 0.0), (727, 0.003807531337717963), (728, 0.00412184088583641), (729, 0.004263513962918724), (730, 0.0), (731, 0.0), (732, 0.008962656631995306), (733, 0.011237173968096618), (734, 0.009591382843557827), (735, 0.005786285116484642), (736, 0.0), (737, 0.007058698600465062), (738, 0.0), (739, 0.004394775081126136), (740, 0.0), (741, 0.0), (742, 0.009694117011195394), (743, 0.004060370795888309), (744, 0.003505030784380505), (745, 0.0), (746, 0.0), (747, 0.0), (748, 0.006848421816484137), (749, 0.003902770250911733), (750, 0.00395701667460771), (751, 0.0), (752, 0.0067653726385051354), (753, 0.009918684545298255), (754, 0.0), (755, 0.003911561478037283), (756, 0.0), (757, 0.017692560297752295), (758, 0.006425801741427778), (759, 0.0), (760, 0.011054730244104765), (761, 0.004247926509817158), (762, 0.011311944517399026), (763, 0.02056746540211281), (764, 0.0), (765, 0.0), (766, 0.0060852767568405665), (767, 0.0), (768, 0.018043007208813747), (769, 0.003891897945176996), (770, 0.0), (771, 0.0), (772, 0.0), (773, 0.0), (774, 0.004245654390926598), (775, 0.010191574714369525), (776, 0.017159123980917297), (777, 0.0), (778, 0.006650567571227972), (779, 0.01611577848979755), (780, 0.0), (781, 0.0), (782, 0.006664438056732426), (783, 0.004057254449618812), (784, 0.0), (785, 0.0), (786, 0.0), (787, 0.01628820068726303), (788, 0.03804773545765453), (789, 0.0), (790, 0.008856737977175361), (791, 0.0), (792, 0.004114609460689037), (793, 0.0), (794, 0.017277203131509697), (795, 0.02146631505361905), (796, 0.018933521808547838), (797, 0.0), (798, 0.003670053204145239), (799, 0.012679584704225609), (800, 0.009187936667112082), (801, 0.008270576764486968), (802, 0.0), (803, 0.0), (804, 0.003530032508064436), (805, 0.0), (806, 0.012884087313350128), (807, 0.0), (808, 0.014848398859774728), (809, 0.0066357873681819396), (810, 0.0), (811, 0.0), (812, 0.03233819893046779), (813, 0.004490793544970179), (814, 0.013048836378940025), (815, 0.003422570263329788), (816, 0.01184914916812076), (817, 0.006666988886033374), (818, 0.03672360446721652), (819, 0.0), (820, 0.0), (821, 0.0065715584671680516), (822, 0.0), (823, 0.0), (824, 0.026802187220327563), (825, 0.0), (826, 0.004154332840574212), (827, 0.008706436148832123), (828, 0.008700374352422425), (829, 0.008414544902049216), (830, 0.04121089829132145), (831, 0.0028959368948033135), (832, 0.02214058863138699), (833, 0.014854263080147005), (834, 0.0064166886902876875), (835, 0.00613531632114354), (836, 0.029631761700672134), (837, 0.0), (838, 0.010004659603653161), (839, 0.0), (840, 0.0), (841, 0.0), (842, 0.010606147999407503), (843, 0.008510709631845128), (844, 0.010890110774302676), (845, 0.0), (846, 0.0), (847, 0.01176128559001513), (848, 0.0), (849, 0.0), (850, 0.0103139260887335), (851, 0.0035204254977709744), (852, 0.003770182551683671), (853, 0.012139458138150871), (854, 0.0037431358059072293), (855, 0.0), (856, 0.0035415867761424964), (857, 0.0044078793887107354), (858, 0.021395061040103944), (859, 0.0), (860, 0.015140329121202535), (861, 0.0033628361720731284), (862, 0.0), (863, 0.0), (864, 0.02582810800437168), (865, 0.004059358829579187), (866, 0.012739315901799582), (867, 0.01675392406999396), (868, 0.0), (869, 0.00913362617778777), (870, 0.018693125087854822), (871, 0.004006568016569662), (872, 0.004037429203524959), (873, 0.053098105476794485), (874, 0.014316309392473936), (875, 0.0), (876, 0.004262413778222394), (877, 0.047689506630489424), (878, 0.012492451000952025), (879, 0.013602298988552655), (880, 0.00370870544615611), (881, 0.0), (882, 0.0), (883, 0.0), (884, 0.0), (885, 0.024366873680849763), (886, 0.0035952796373707107), (887, 0.0), (888, 0.0042524622371019685), (889, 0.0), (890, 0.0), (891, 0.0), (892, 0.0), (893, 0.0), (894, 0.0037682918338080504), (895, 0.01214414488659111), (896, 0.013830126559026995), (897, 0.010396354795688505), (898, 0.0), (899, 0.012058078177599331), (900, 0.009639098231094174), (901, 0.0), (902, 0.0), (903, 0.03565254682566379), (904, 0.04518363044344044), (905, 0.010578062673053666), (906, 0.013014891387431941), (907, 0.0036836189315073422), (908, 0.009359755087396764), (909, 0.0), (910, 0.003559001677128496), (911, 0.028916392364867646), (912, 0.0), (913, 0.0), (914, 0.0), (915, 0.008508077894045816), (916, 0.014335134880511184), (917, 0.023880494091912646), (918, 0.009587911174853487), (919, 0.0), (920, 0.0), (921, 0.006554087164310654), (922, 0.0), (923, 0.003894342079133157), (924, 0.008763194212101796), (925, 0.0046292744712412535), (926, 0.0), (927, 0.0), (928, 0.0), (929, 0.01881134200616763), (930, 0.004097575430261489), (931, 0.009335441221362567), (932, 0.0), (933, 0.0), (934, 0.015689561240579204), (935, 0.03208701983205687), (936, 0.009322616871291083), (937, 0.015557325869224458), (938, 0.0), (939, 0.00859429004279537), (940, 0.007192194804289885), (941, 0.0), (942, 0.02310787239747762), (943, 0.0), (944, 0.0035496293786282046), (945, 0.0), (946, 0.0), (947, 0.019098336946099977), (948, 0.01148446485439469), (949, 0.007508810849789006), (950, 0.0), (951, 0.003526360803454745), (952, 0.02446039819299257), (953, 0.003074139545069029), (954, 0.0), (955, 0.0), (956, 0.0), (957, 0.015246913270500422), (958, 0.00636760342335369), (959, 0.0039095187586525235), (960, 0.0), (961, 0.0), (962, 0.01041202728977916), (963, 0.009712907826452273), (964, 0.0), (965, 0.0), (966, 0.010135848135146727), (967, 0.021692219556480964), (968, 0.015545818106250317), (969, 0.0038347250592960574), (970, 0.005808214217570367), (971, 0.0), (972, 0.0), (973, 0.0), (974, 0.0), (975, 0.0036660347384559126), (976, 0.025288098804836907), (977, 0.0), (978, 0.0), (979, 0.005735486749789623), (980, 0.004015610425996653), (981, 0.003508970850008107), (982, 0.0), (983, 0.0), (984, 0.0), (985, 0.004487933895893231), (986, 0.014020566286541535), (987, 0.0), (988, 0.01274504488817008), (989, 0.012601885566616016), (990, 0.0), (991, 0.0041193289579507025), (992, 0.0), (993, 0.0), (994, 0.009463634369800085), (995, 0.0), (996, 0.0), (997, 0.0), (998, 0.00443852975971796), (999, 0.0044427203806560326), (1000, 0.011912808233449885), (1001, 0.00364559439023402), (1002, 0.003695055969009062), (1003, 0.016985655912537055), (1004, 0.0), (1005, 0.008388912039744978), (1006, 0.010843018588799068), (1007, 0.004318008674086915), (1008, 0.0), (1009, 0.00965061641073465), (1010, 0.0), (1011, 0.0), (1012, 0.006335756795893188), (1013, 0.0), (1014, 0.007575690024188256), (1015, 0.01089170144667454), (1016, 0.0), (1017, 0.010401358651491631), (1018, 0.013650967721643082), (1019, 0.01061219234982904), (1020, 0.010509862514334011), (1021, 0.0621533075542114), (1022, 0.0), (1023, 0.0496722068680389), (1024, 0.038095090882867846), (1025, 0.0), (1026, 0.00384854467844646), (1027, 0.0038444804921448873), (1028, 0.0), (1029, 0.0), (1030, 0.04845174533336075), (1031, 0.0), (1032, 0.0), (1033, 0.018143372706874376), (1034, 0.0036975884242378366), (1035, 0.012849870560146737), (1036, 0.0), (1037, 0.00567867842569998), (1038, 0.0), (1039, 0.0), (1040, 0.0036019648128397946), (1041, 0.003598980467100031), (1042, 0.0), (1043, 0.026166513739692948), (1044, 0.0037286053419736467), (1045, 0.015911172297806954), (1046, 0.029294829396150582), (1047, 0.0), (1048, 0.006664278775735227), (1049, 0.00456649885691749), (1050, 0.012084223672006313), (1051, 0.0), (1052, 0.02067289255786622), (1053, 0.015790477408013565), (1054, 0.0), (1055, 0.0), (1056, 0.0), (1057, 0.0), (1058, 0.01150844935391995), (1059, 0.026800637958047064), (1060, 0.0037889354747356846), (1061, 0.008599385683631116), (1062, 0.0), (1063, 0.03268673641742558), (1064, 0.017090709054150326), (1065, 0.003589964453769714), (1066, 0.0), (1067, 0.0), (1068, 0.02980015467163461), (1069, 0.00749897240893304), (1070, 0.05140348470353139), (1071, 0.004029672764578091), (1072, 0.0), (1073, 0.0), (1074, 0.015066889061147042), (1075, 0.010419316020398552), (1076, 0.0), (1077, 0.010461885093065752), (1078, 0.0033057517942238794), (1079, 0.00350865378856165), (1080, 0.003489540234337091), (1081, 0.0), (1082, 0.0), (1083, 0.0040660800683120345), (1084, 0.003715205770272494), (1085, 0.03957930680445846), (1086, 0.0), (1087, 0.00640596240943456), (1088, 0.0033651481868170255), (1089, 0.0), (1090, 0.011152211975244136), (1091, 0.0), (1092, 0.0), (1093, 0.0), (1094, 0.006622176029642122), (1095, 0.029596489443177665), (1096, 0.0062504622790439225), (1097, 0.0), (1098, 0.0), (1099, 0.006994299579088629), (1100, 0.0), (1101, 0.0), (1102, 0.0038909240170997097), (1103, 0.0), (1104, 0.0), (1105, 0.0), (1106, 0.0), (1107, 0.003630711871646762), (1108, 0.0), (1109, 0.00432709903139982), (1110, 0.0), (1111, 0.00652578422257907), (1112, 0.015351288708610722), (1113, 0.0), (1114, 0.012058590922051953), (1115, 0.008099897559488055), (1116, 0.01636500234926204), (1117, 0.0), (1118, 0.06553281238990606), (1119, 0.014366352748883971), (1120, 0.0), (1121, 0.0), (1122, 0.004043282136488269), (1123, 0.0037730899946897167), (1124, 0.0068979609037283516), (1125, 0.00982081711659805), (1126, 0.0), (1127, 0.0), (1128, 0.015584033429082737), (1129, 0.012861077023544502), (1130, 0.0), (1131, 0.003965385544440553), (1132, 0.021158073670306293), (1133, 0.0), (1134, 0.05609597736243438), (1135, 0.0), (1136, 0.009117381264031605), (1137, 0.01958928599930055), (1138, 0.0038179074498617773), (1139, 0.0), (1140, 0.00397619728160417), (1141, 0.021374862430917824), (1142, 0.0), (1143, 0.0), (1144, 0.005231148751154297), (1145, 0.0), (1146, 0.03172100224139183), (1147, 0.0), (1148, 0.010489194155962332), (1149, 0.0), (1150, 0.0), (1151, 0.0), (1152, 0.014484529057588416), (1153, 0.0), (1154, 0.0), (1155, 0.0), (1156, 0.0), (1157, 0.011840202975939282), (1158, 0.0), (1159, 0.0), (1160, 0.013141971133541748), (1161, 0.00413323726709262), (1162, 0.01450182657867938), (1163, 0.003930561278454335), (1164, 0.0), (1165, 0.0), (1166, 0.0), (1167, 0.0), (1168, 0.0), (1169, 0.0), (1170, 0.0038781556256697785), (1171, 0.0), (1172, 0.006701375687346371), (1173, 0.020301788863137212), (1174, 0.0), (1175, 0.019585166315608565), (1176, 0.004053176751676465), (1177, 0.0036549563151700767), (1178, 0.0), (1179, 0.004044316292547154), (1180, 0.0), (1181, 0.0), (1182, 0.011229798218892887), (1183, 0.012727163756224912), (1184, 0.01480704321235339), (1185, 0.009476376226577071), (1186, 0.027393768409906056), (1187, 0.004609665378874192), (1188, 0.004286214021537482), (1189, 0.0), (1190, 0.0), (1191, 0.003861215403894207), (1192, 0.010630826512366125), (1193, 0.0), (1194, 0.0056773496172870495), (1195, 0.03460260258634108), (1196, 0.0), (1197, 0.0), (1198, 0.0), (1199, 0.003436832329104003), (1200, 0.0), (1201, 0.0), (1202, 0.016333356018636194), (1203, 0.0), (1204, 0.0), (1205, 0.0), (1206, 0.009595554743788943), (1207, 0.0), (1208, 0.0049519936917949495), (1209, 0.0035605253237394312), (1210, 0.0), (1211, 0.0), (1212, 0.0), (1213, 0.0), (1214, 0.0), (1215, 0.008894404973033492), (1216, 0.017597623719886588), (1217, 0.0035665201682989166), (1218, 0.0), (1219, 0.0035331416752980615), (1220, 0.009797794459004467), (1221, 0.0), (1222, 0.0), (1223, 0.003963431963076179), (1224, 0.013748746821718373), (1225, 0.004132159917669294), (1226, 0.006325716665680369), (1227, 0.0), (1228, 0.0), (1229, 0.004000927705076014), (1230, 0.00869349178310832), (1231, 0.008905238152900013), (1232, 0.013972186326951993), (1233, 0.0), (1234, 0.009635931597787884), (1235, 0.0), (1236, 0.008412159827417822), (1237, 0.011517118778393521), (1238, 0.006392873540553043), (1239, 0.012968059589611636), (1240, 0.0), (1241, 0.04023902042549457), (1242, 0.0), (1243, 0.055393429583012785), (1244, 0.0), (1245, 0.01883083236232558), (1246, 0.0), (1247, 0.0038056168718913356), (1248, 0.04314813467772326), (1249, 0.011495802993247555), (1250, 0.0066967885316396554), (1251, 0.0034342271670854334), (1252, 0.013294402786312064), (1253, 0.0), (1254, 0.013766629985874752), (1255, 0.009789074281151847), (1256, 0.0), (1257, 0.01654328932036471), (1258, 0.0), (1259, 0.0), (1260, 0.0), (1261, 0.021365120918186334), (1262, 0.006447718916723411), (1263, 0.0), (1264, 0.004775619659623313), (1265, 0.0), (1266, 0.006774333957432183), (1267, 0.006178124766747004), (1268, 0.0), (1269, 0.0), (1270, 0.016909187861083076), (1271, 0.0), (1272, 0.031089039338165977), (1273, 0.0034940399295450373), (1274, 0.017644907478132268), (1275, 0.014697744923811323), (1276, 0.006784129659543578), (1277, 0.0), (1278, 0.014772796694240796), (1279, 0.005407184691910957), (1280, 0.0), (1281, 0.0), (1282, 0.0), (1283, 0.026012866974954), (1284, 0.0), (1285, 0.0), (1286, 0.003996300722890085), (1287, 0.0), (1288, 0.0), (1289, 0.0), (1290, 0.01158222575711231), (1291, 0.0), (1292, 0.04188059281864641), (1293, 0.012537188257476396), (1294, 0.0), (1295, 0.0), (1296, 0.0), (1297, 0.0), (1298, 0.0), (1299, 0.0), (1300, 0.0076289752926128425), (1301, 0.0), (1302, 0.006578124345825855), (1303, 0.003114123409239371), (1304, 0.0), (1305, 0.0031731542052601644), (1306, 0.0075027545115030625), (1307, 0.006257264790521907), (1308, 0.009482003176958794), (1309, 0.0), (1310, 0.012066049397451558), (1311, 0.04146218892693458), (1312, 0.006009105047832302), (1313, 0.003837095095001293), (1314, 0.023334932123104876), (1315, 0.0), (1316, 0.005962962843969872), (1317, 0.013668082068823069), (1318, 0.003376591748227522), (1319, 0.0), (1320, 0.04429859116626895), (1321, 0.0), (1322, 0.0), (1323, 0.0), (1324, 0.0041098598827006), (1325, 0.0043425893655615186), (1326, 0.0), (1327, 0.006133253105127204), (1328, 0.0), (1329, 0.006416321207295704), (1330, 0.0), (1331, 0.014302970488367697), (1332, 0.0), (1333, 0.0), (1334, 0.01320345373848919), (1335, 0.003884324223296276), (1336, 0.0), (1337, 0.012875114382266531), (1338, 0.0038829274033958506), (1339, 0.00929590328108561), (1340, 0.003602826738537853), (1341, 0.07933702055672301), (1342, 0.013066512962319672), (1343, 0.010895955421987723), (1344, 0.0), (1345, 0.006530788618877582), (1346, 0.0), (1347, 0.0), (1348, 0.008115803263432269), (1349, 0.004307410227540296), (1350, 0.004139746070306236), (1351, 0.022687811765973634), (1352, 0.0034182670367008667), (1353, 0.0), (1354, 0.0), (1355, 0.0), (1356, 0.0031897744488191397), (1357, 0.0036006962780421943), (1358, 0.042710475564491465), (1359, 0.006794118170228178), (1360, 0.012641206190724242), (1361, 0.016214655397844353), (1362, 0.0), (1363, 0.0), (1364, 0.004241798173613476), (1365, 0.018926629143595816), (1366, 0.0), (1367, 0.030993558918343947), (1368, 0.0), (1369, 0.03855765433848061), (1370, 0.003344975010513853), (1371, 0.010147106324105563), (1372, 0.003659394088594935), (1373, 0.0), (1374, 0.006386753386251039), (1375, 0.0036201427634567802), (1376, 0.012641187876547198), (1377, 0.016554107001934867), (1378, 0.0038500846118811236), (1379, 0.035866785834000714), (1380, 0.0), (1381, 0.0), (1382, 0.010934490968842046), (1383, 0.08467787395826493), (1384, 0.0146936818739556), (1385, 0.018461334193946712), (1386, 0.017971053054686985), (1387, 0.011520378633834913), (1388, 0.0097303066766483), (1389, 0.03640198919365837), (1390, 0.0), (1391, 0.0), (1392, 0.0), (1393, 0.03706434040064966), (1394, 0.0033655267424723503), (1395, 0.0), (1396, 0.006599325895991569), (1397, 0.02222290604880982), (1398, 0.032147241600709656), (1399, 0.0), (1400, 0.0041200083486811504), (1401, 0.013743514618343543), (1402, 0.0), (1403, 0.017958504792858924), (1404, 0.0), (1405, 0.03054499691730607), (1406, 0.009130849068416552), (1407, 0.006863788955295894), (1408, 0.0037760807315127733), (1409, 0.0), (1410, 0.0039407456026429285), (1411, 0.0), (1412, 0.020742125279058096), (1413, 0.010990844472065097), (1414, 0.003419627620203397), (1415, 0.00366752682933728), (1416, 0.0), (1417, 0.015210803224778907), (1418, 0.010175514299252697), (1419, 0.00934409787303512), (1420, 0.0063926448859329245), (1421, 0.00398522978630628), (1422, 0.003812175115317502), (1423, 0.0034053970534848755), (1424, 0.0), (1425, 0.006279462711660887), (1426, 0.0), (1427, 0.0034795384753950084), (1428, 0.0), (1429, 0.004696960988572045), (1430, 0.0), (1431, 0.0), (1432, 0.009721010975139152), (1433, 0.0), (1434, 0.0), (1435, 0.0), (1436, 0.009342316465168816), (1437, 0.0), (1438, 0.003757258401375281), (1439, 0.0), (1440, 0.009315970404962452), (1441, 0.0), (1442, 0.007658048222354107), (1443, 0.013384876531506997), (1444, 0.0), (1445, 0.016459462922005844), (1446, 0.010105444547160515), (1447, 0.0), (1448, 0.00375028748824791), (1449, 0.0), (1450, 0.0), (1451, 0.0), (1452, 0.0), (1453, 0.005418553860546554), (1454, 0.004083426834736765), (1455, 0.00904194109608412), (1456, 0.0), (1457, 0.0), (1458, 0.0), (1459, 0.0), (1460, 0.0), (1461, 0.00671598717346185), (1462, 0.0035657623393209213), (1463, 0.004058328095566903), (1464, 0.031531961884093934), (1465, 0.011362261998701894), (1466, 0.0), (1467, 0.0), (1468, 0.0), (1469, 0.0), (1470, 0.0), (1471, 0.019567235940465916), (1472, 0.003821759594900507), (1473, 0.0), (1474, 0.004255682390314238), (1475, 0.010685695605052477), (1476, 0.003834732580300669), (1477, 0.009431006262583577), (1478, 0.003687030529167718), (1479, 0.0), (1480, 0.0), (1481, 0.0037232825562518745), (1482, 0.0), (1483, 0.003792476760016856), (1484, 0.0), (1485, 0.0), (1486, 0.007162511233761593), (1487, 0.0), (1488, 0.003783030413191656), (1489, 0.004443745250828152), (1490, 0.0), (1491, 0.0), (1492, 0.021558164349061486), (1493, 0.012442208689734523), (1494, 0.006737171067441663), (1495, 0.0), (1496, 0.0), (1497, 0.0), (1498, 0.004590522590454155), (1499, 0.0), (1500, 0.024792112842736466), (1501, 0.006555632453079695), (1502, 0.0), (1503, 0.0036260882879726565), (1504, 0.0), (1505, 0.022742495723649565), (1506, 0.042301049097834345), (1507, 0.0), (1508, 0.0), (1509, 0.007161344478216701), (1510, 0.016185760930361334), (1511, 0.0), (1512, 0.015835338360069066), (1513, 0.004174250372476517), (1514, 0.009701274883250864), (1515, 0.021689464448830867), (1516, 0.0), (1517, 0.0), (1518, 0.004223350897654315), (1519, 0.010005436245364522), (1520, 0.0), (1521, 0.0), (1522, 0.0), (1523, 0.015349930142626046), (1524, 0.0), (1525, 0.0), (1526, 0.006884443540264633), (1527, 0.03960029435806615), (1528, 0.0), (1529, 0.0), (1530, 0.0), (1531, 0.0), (1532, 0.0), (1533, 0.003950457681283585), (1534, 0.0), (1535, 0.0), (1536, 0.0), (1537, 0.004156172377481559), (1538, 0.005939585725427273), (1539, 0.009270082523188238), (1540, 0.0), (1541, 0.0), (1542, 0.009228282861053568), (1543, 0.0035538842035450526), (1544, 0.026170903338470844), (1545, 0.0), (1546, 0.0), (1547, 0.0046328750037791765), (1548, 0.0), (1549, 0.0), (1550, 0.0), (1551, 0.006435324299194079), (1552, 0.006273862918133043), (1553, 0.005689235076957093), (1554, 0.0), (1555, 0.0), (1556, 0.0), (1557, 0.0), (1558, 0.0037994290573263706), (1559, 0.0), (1560, 0.0), (1561, 0.0), (1562, 0.0), (1563, 0.0), (1564, 0.0), (1565, 0.0036017522954346283), (1566, 0.0), (1567, 0.0063155724624876), (1568, 0.03178157819440188), (1569, 0.0), (1570, 0.004103514044694253), (1571, 0.005778925420911008), (1572, 0.016828352155303712), (1573, 0.0), (1574, 0.0), (1575, 0.0), (1576, 0.0), (1577, 0.0), (1578, 0.0), (1579, 0.01700704921078255), (1580, 0.0), (1581, 0.0), (1582, 0.003680163859454203), (1583, 0.006968531302711359), (1584, 0.0), (1585, 0.026430438071848566), (1586, 0.0), (1587, 0.0), (1588, 0.0), (1589, 0.0), (1590, 0.0), (1591, 0.010187134564290753), (1592, 0.0), (1593, 0.0), (1594, 0.0), (1595, 0.012374799436088645), (1596, 0.0), (1597, 0.003763503454683659), (1598, 0.003789758186209122), (1599, 0.0), (1600, 0.0), (1601, 0.0), (1602, 0.0), (1603, 0.0), (1604, 0.0), (1605, 0.0035278769096026273), (1606, 0.0), (1607, 0.0), (1608, 0.003645701322119156), (1609, 0.01719366249691532), (1610, 0.0), (1611, 0.0), (1612, 0.006513942705685119), (1613, 0.0), (1614, 0.0), (1615, 0.0), (1616, 0.0034042424383820716), (1617, 0.0), (1618, 0.0), (1619, 0.010755553415177293), (1620, 0.003845555728857932), (1621, 0.012868104323511164), (1622, 0.0), (1623, 0.0), (1624, 0.003207971544988215), (1625, 0.0), (1626, 0.0), (1627, 0.0035911677875488717), (1628, 0.004020872291164097), (1629, 0.01927076886505833), (1630, 0.008562961042964062), (1631, 0.0), (1632, 0.0), (1633, 0.0), (1634, 0.0038304169662645945), (1635, 0.0), (1636, 0.0), (1637, 0.0), (1638, 0.0), (1639, 0.0), (1640, 0.0), (1641, 0.0), (1642, 0.0), (1643, 0.004081789455658212), (1644, 0.006679542562983932), (1645, 0.003925509766200496), (1646, 0.0), (1647, 0.043289640127775024), (1648, 0.03233053492778136), (1649, 0.0), (1650, 0.0059211551008142675), (1651, 0.0), (1652, 0.023164007798524407), (1653, 0.0037947013183167923), (1654, 0.012387170363260933), (1655, 0.012889282566704645), (1656, 0.0), (1657, 0.0), (1658, 0.01235395325492124), (1659, 0.0), (1660, 0.0), (1661, 0.0), (1662, 0.005975527035291985), (1663, 0.0), (1664, 0.006047636159152762), (1665, 0.0123756862748354), (1666, 0.003791722317167182), (1667, 0.0036791111611951415), (1668, 0.0), (1669, 0.0), (1670, 0.0), (1671, 0.022089272120949036), (1672, 0.0), (1673, 0.0), (1674, 0.010895764828446374), (1675, 0.03993196414525336), (1676, 0.037715053745992516), (1677, 0.0031032333571814033), (1678, 0.010496254519715332), (1679, 0.0), (1680, 0.008480844995742252), (1681, 0.0), (1682, 0.015630072040560727), (1683, 0.0), (1684, 0.005830063069129336), (1685, 0.01118700156842635), (1686, 0.0), (1687, 0.004207481090992428), (1688, 0.006597896171529039), (1689, 0.0), (1690, 0.00939834335984156), (1691, 0.0), (1692, 0.006322804639311967), (1693, 0.0037865769261243736), (1694, 0.008009015894537513), (1695, 0.005124781871271669), (1696, 0.006288102649894953), (1697, 0.0), (1698, 0.0), (1699, 0.0), (1700, 0.0), (1701, 0.005057606737542561), (1702, 0.0), (1703, 0.004124829037153845), (1704, 0.0), (1705, 0.00995290742911319), (1706, 0.0037796669717699567), (1707, 0.022267750825411693), (1708, 0.007498737588954503), (1709, 0.0), (1710, 0.01002889338453267), (1711, 0.004863928186579087), (1712, 0.007624605538849221), (1713, 0.0077530399281191854), (1714, 0.01197966510470129), (1715, 0.005890871760656841), (1716, 0.014493963830338208), (1717, 0.003976665699824663), (1718, 0.007020938291067635), (1719, 0.003452699726417259), (1720, 0.027718271307142786), (1721, 0.012812336523216217), (1722, 0.0040130675565451975), (1723, 0.00614181110222229), (1724, 0.0), (1725, 0.0), (1726, 0.0), (1727, 0.009655776686313048), (1728, 0.0), (1729, 0.0), (1730, 0.010344055041233991), (1731, 0.0), (1732, 0.0), (1733, 0.0), (1734, 0.0), (1735, 0.009649009436160524), (1736, 0.009873535934044875), (1737, 0.006861409716375044), (1738, 0.0), (1739, 0.011852276225988367), (1740, 0.003876660571343824), (1741, 0.015223882616018394), (1742, 0.0), (1743, 0.008631072220375647), (1744, 0.0036970341711359883), (1745, 0.0), (1746, 0.006095471500684718), (1747, 0.008132964316369853), (1748, 0.0045494800703988056), (1749, 0.02376356823088981), (1750, 0.03312571503825679), (1751, 0.0), (1752, 0.012557319020228292), (1753, 0.0), (1754, 0.00997182739020885), (1755, 0.0), (1756, 0.0), (1757, 0.02418267627113274), (1758, 0.0), (1759, 0.015611869267683856), (1760, 0.003554392960902294), (1761, 0.006748607080325793), (1762, 0.009234229965252187), (1763, 0.028482656451767202), (1764, 0.009493475273325828), (1765, 0.0), (1766, 0.0), (1767, 0.0), (1768, 0.003934411579532739), (1769, 0.0), (1770, 0.007324071710589445), (1771, 0.0), (1772, 0.0), (1773, 0.006497218140109985), (1774, 0.014811884269915528), (1775, 0.0), (1776, 0.008594151940216824), (1777, 0.0), (1778, 0.0), (1779, 0.010820136667670077), (1780, 0.0), (1781, 0.0), (1782, 0.003734785409997404), (1783, 0.0), (1784, 0.0), (1785, 0.0), (1786, 0.0), (1787, 0.012229536576286448), (1788, 0.024263569481138874), (1789, 0.0), (1790, 0.007907429275308086), (1791, 0.0), (1792, 0.0), (1793, 0.006209449580344935), (1794, 0.0), (1795, 0.03123858742614274), (1796, 0.003686765845270751), (1797, 0.008631539836251253), (1798, 0.011349899080960846), (1799, 0.0072416438488828614), (1800, 0.0), (1801, 0.0), (1802, 0.012989520694336449), (1803, 0.0), (1804, 0.0), (1805, 0.0), (1806, 0.010892703315253011), (1807, 0.006432727734844698), (1808, 0.0), (1809, 0.04970948849302179), (1810, 0.0), (1811, 0.0), (1812, 0.007020339636927479), (1813, 0.0038183751756123243), (1814, 0.0), (1815, 0.010644737713888857), (1816, 0.008154858787713604), (1817, 0.01689612326725119), (1818, 0.006057309988706107), (1819, 0.003684446055947183), (1820, 0.0), (1821, 0.04966272822202979), (1822, 0.00432480709904755), (1823, 0.0), (1824, 0.0), (1825, 0.0), (1826, 0.0), (1827, 0.0035195897520074746), (1828, 0.0032974317907350373), (1829, 0.0), (1830, 0.0034664508930698354), (1831, 0.0), (1832, 0.009632101064634378), (1833, 0.005969389215489931), (1834, 0.0), (1835, 0.0), (1836, 0.0), (1837, 0.0), (1838, 0.016173732822533), (1839, 0.0), (1840, 0.0), (1841, 0.00707430472648206), (1842, 0.0), (1843, 0.01505838411646999), (1844, 0.0), (1845, 0.023900962063816776), (1846, 0.0), (1847, 0.01902701127156121), (1848, 0.0), (1849, 0.006337577548506384), (1850, 0.04370029646916035), (1851, 0.004196512323411642), (1852, 0.006350246881964947), (1853, 0.013930534479797928), (1854, 0.008564243186981705), (1855, 0.0), (1856, 0.0), (1857, 0.0), (1858, 0.010061495250595322), (1859, 0.0), (1860, 0.006606072613028421), (1861, 0.020825046558629205), (1862, 0.0), (1863, 0.005698771482714521), (1864, 0.00992543163236857), (1865, 0.02016470452030333), (1866, 0.00428695597220878), (1867, 0.006546797780153902), (1868, 0.03114230671953136), (1869, 0.003527480430881249), (1870, 0.01170176934803559), (1871, 0.04186350977211422), (1872, 0.016563906842090886), (1873, 0.006562792348613003), (1874, 0.009653703030878973), (1875, 0.009585128423357838), (1876, 0.010797807512732151), (1877, 0.0), (1878, 0.018324019979346403), (1879, 0.0), (1880, 0.015491388855666796), (1881, 0.0), (1882, 0.003795823229284917), (1883, 0.0), (1884, 0.003648165234826085), (1885, 0.037238151707959515), (1886, 0.06989515757891204), (1887, 0.0), (1888, 0.0), (1889, 0.0), (1890, 0.0), (1891, 0.0038515122178782927), (1892, 0.0038200008484335422), (1893, 0.004169847729946679), (1894, 0.0), (1895, 0.014480951448497878), (1896, 0.004221201809063302), (1897, 0.011383150916810598), (1898, 0.0), (1899, 0.0), (1900, 0.0), (1901, 0.0), (1902, 0.004036695786198599), (1903, 0.005883294669638603), (1904, 0.0), (1905, 0.004207345000780265), (1906, 0.015391948128458647), (1907, 0.0042348650920794465), (1908, 0.006840053105179588), (1909, 0.004474622832593414), (1910, 0.0), (1911, 0.0066784400569285425), (1912, 0.0), (1913, 0.006229756504851127), (1914, 0.0), (1915, 0.0), (1916, 0.004122386919992852), (1917, 0.0), (1918, 0.004094706862777897), (1919, 0.012584544874788562), (1920, 0.009315614211235886), (1921, 0.0), (1922, 0.009254295444746116), (1923, 0.00425593557937282), (1924, 0.004391517550520635), (1925, 0.0), (1926, 0.0), (1927, 0.015418477420387343), (1928, 0.0), (1929, 0.0), (1930, 0.0), (1931, 0.004002487894276096), (1932, 0.0), (1933, 0.0), (1934, 0.009210824432841326), (1935, 0.023885010083056397), (1936, 0.006584739704930529), (1937, 0.008950434399957052), (1938, 0.0), (1939, 0.0), (1940, 0.0), (1941, 0.0), (1942, 0.01993941238720442), (1943, 0.003327002700564638), (1944, 0.0), (1945, 0.015946300184878522), (1946, 0.004029906079363403), (1947, 0.004618709118290759), (1948, 0.009186933446082308), (1949, 0.009430264242978218), (1950, 0.008608470259120569), (1951, 0.010980532019981514), (1952, 0.0), (1953, 0.0), (1954, 0.0), (1955, 0.0), (1956, 0.0), (1957, 0.010885562811111221), (1958, 0.0), (1959, 0.0), (1960, 0.0041830385614698715), (1961, 0.0), (1962, 0.0), (1963, 0.0), (1964, 0.003473260034041483), (1965, 0.0), (1966, 0.0), (1967, 0.013139743199697691), (1968, 0.004389374663914796), (1969, 0.003814557443920546), (1970, 0.02479403351932514), (1971, 0.011517615296188171), (1972, 0.0), (1973, 0.0), (1974, 0.0), (1975, 0.0), (1976, 0.026655523215249742), (1977, 0.07886696214195395), (1978, 0.0), (1979, 0.0), (1980, 0.0), (1981, 0.0), (1982, 0.0346296246703486), (1983, 0.003992760828473055), (1984, 0.0), (1985, 0.019667527662593387), (1986, 0.0065097402519408275), (1987, 0.0), (1988, 0.012419640523544129), (1989, 0.0031254193870759255), (1990, 0.024884574444107063), (1991, 0.0), (1992, 0.008573669764792163), (1993, 0.0), (1994, 0.08441522059962148), (1995, 0.004718151415791056), (1996, 0.01692029440542641), (1997, 0.014128557651317647), (1998, 0.0), (1999, 0.027700605854759766), (2000, 0.01373741616337068), (2001, 0.0), (2002, 0.0), (2003, 0.0), (2004, 0.0036919239430642857), (2005, 0.011860788149938113), (2006, 0.0), (2007, 0.0), (2008, 0.010324962189550268), (2009, 0.0), (2010, 0.0032416036592645622), (2011, 0.02615637846487215), (2012, 0.0), (2013, 0.024681424179036748), (2014, 0.03486424584746276), (2015, 0.0), (2016, 0.01386817721695017), (2017, 0.0), (2018, 0.021535585543597285), (2019, 0.0), (2020, 0.02725529427269808), (2021, 0.0), (2022, 0.005256657174049638), (2023, 0.027049494235801132), (2024, 0.012878486864971242), (2025, 0.0), (2026, 0.05954146094104332), (2027, 0.016721394812021395), (2028, 0.0), (2029, 0.0037391260415342367), (2030, 0.0), (2031, 0.003538384526440074), (2032, 0.0), (2033, 0.0), (2034, 0.003286171272118242), (2035, 0.018835146639616565), (2036, 0.0), (2037, 0.027836068569530123), (2038, 0.0), (2039, 0.0031896004796882218), (2040, 0.021241485428990563), (2041, 0.0), (2042, 0.0), (2043, 0.0), (2044, 0.0), (2045, 0.01023549951288058), (2046, 0.0), (2047, 0.0), (2048, 0.004161039429541461), (2049, 0.011758732487998844), (2050, 0.0), (2051, 0.012187004658303923), (2052, 0.013492342400294986), (2053, 0.013841783291841159), (2054, 0.0), (2055, 0.023276615506261672), (2056, 0.006273194812332337), (2057, 0.0), (2058, 0.0059114662182338466), (2059, 0.0), (2060, 0.0), (2061, 0.0038677336121466614), (2062, 0.0061627406753473665), (2063, 0.0), (2064, 0.0047558503682771655), (2065, 0.011464649975639066), (2066, 0.0), (2067, 0.004104265888146791), (2068, 0.003916158160224595), (2069, 0.003745925966771136), (2070, 0.016583730780926998), (2071, 0.0), (2072, 0.0), (2073, 0.0039029257700100993), (2074, 0.0058371282062430405), (2075, 0.0050041167978661875), (2076, 0.007823666425397743), (2077, 0.0), (2078, 0.0), (2079, 0.0), (2080, 0.009485363603840722), (2081, 0.0), (2082, 0.03755259306173617), (2083, 0.004009005122852076), (2084, 0.0), (2085, 0.0), (2086, 0.0), (2087, 0.010324509550683923), (2088, 0.004043128404663015), (2089, 0.004506465911339512), (2090, 0.0), (2091, 0.003991473079487456), (2092, 0.0), (2093, 0.0), (2094, 0.006121950303956745), (2095, 0.006302733174662041), (2096, 0.011640719439908954), (2097, 0.014264745374365784), (2098, 0.006177360548955391), (2099, 0.0), (2100, 0.0), (2101, 0.007182565493740804), (2102, 0.030451159204609047), (2103, 0.010069528177028879), (2104, 0.004167840483922594), (2105, 0.0041175370686383815), (2106, 0.0), (2107, 0.0), (2108, 0.004600642594056183), (2109, 0.006560339308769544), (2110, 0.015292398103182399), (2111, 0.0), (2112, 0.06089803777643934), (2113, 0.005960830040441677), (2114, 0.029691953298075856), (2115, 0.0), (2116, 0.011908441201112131), (2117, 0.003718129395648367), (2118, 0.0), (2119, 0.01541796115964308), (2120, 0.0), (2121, 0.010203750324818801), (2122, 0.03957587569807058), (2123, 0.036365612265492765), (2124, 0.0), (2125, 0.0), (2126, 0.009955190068881908), (2127, 0.003252914667208362), (2128, 0.0), (2129, 0.0), (2130, 0.0), (2131, 0.003724379978302598), (2132, 0.0032426641383776237), (2133, 0.049641896342452266), (2134, 0.004421756970169978), (2135, 0.0), (2136, 0.0), (2137, 0.0), (2138, 0.0), (2139, 0.0), (2140, 0.0), (2141, 0.0), (2142, 0.0), (2143, 0.00969698056669123), (2144, 0.01067963391306721), (2145, 0.012121032923424396), (2146, 0.0), (2147, 0.0), (2148, 0.0), (2149, 0.018214819735595147), (2150, 0.0), (2151, 0.0), (2152, 0.0), (2153, 0.0), (2154, 0.0126374353119715), (2155, 0.010477321289794075), (2156, 0.00569790584011536), (2157, 0.026094255905642492), (2158, 0.0), (2159, 0.004281091563015371), (2160, 0.0064431527517221695), (2161, 0.016414874027419125), (2162, 0.004531384723267541), (2163, 0.0), (2164, 0.0), (2165, 0.0), (2166, 0.0), (2167, 0.018201247322361957), (2168, 0.0), (2169, 0.003958841527687125), (2170, 0.0), (2171, 0.0), (2172, 0.0), (2173, 0.0), (2174, 0.010177873917251026), (2175, 0.006078588282729375), (2176, 0.004465960248032535), (2177, 0.013192000947874033), (2178, 0.0), (2179, 0.0), (2180, 0.0), (2181, 0.0), (2182, 0.0), (2183, 0.0), (2184, 0.0), (2185, 0.005822919967039715), (2186, 0.0), (2187, 0.0), (2188, 0.004649901334074869), (2189, 0.0), (2190, 0.0), (2191, 0.049062417958972135), (2192, 0.0), (2193, 0.006707448685378555), (2194, 0.0), (2195, 0.0037866614217729687), (2196, 0.009613696714735378), (2197, 0.005483919694153491), (2198, 0.03140209657288613), (2199, 0.005053618663781328), (2200, 0.0), (2201, 0.003568367025961642), (2202, 0.00632249098727895), (2203, 0.0061021418357638454), (2204, 0.0), (2205, 0.006121027415297863), (2206, 0.008905816569738762), (2207, 0.0), (2208, 0.0), (2209, 0.007446224118580115), (2210, 0.021999845761510668), (2211, 0.008910448412123087), (2212, 0.041132781282475696), (2213, 0.0), (2214, 0.05385854284321093), (2215, 0.0), (2216, 0.012809710985473753), (2217, 0.0), (2218, 0.0), (2219, 0.0), (2220, 0.0), (2221, 0.025927677797020182), (2222, 0.0), (2223, 0.004323439667189339), (2224, 0.012147416726420892), (2225, 0.0), (2226, 0.00382933602582195), (2227, 0.0), (2228, 0.0), (2229, 0.004629306228410227), (2230, 0.004162481072464457), (2231, 0.0), (2232, 0.0), (2233, 0.0), (2234, 0.0), (2235, 0.009660434900782403), (2236, 0.005867951048580421), (2237, 0.019473256020303985), (2238, 0.0), (2239, 0.006507108019760795), (2240, 0.00347461828045148), (2241, 0.0), (2242, 0.004205421138922136), (2243, 0.0), (2244, 0.007144472462438194), (2245, 0.0), (2246, 0.0), (2247, 0.0), (2248, 0.0), (2249, 0.0), (2250, 0.012938851189652477), (2251, 0.005458254412585701), (2252, 0.0), (2253, 0.0), (2254, 0.013781006231230039), (2255, 0.005140904414683048), (2256, 0.0), (2257, 0.00523007936878925), (2258, 0.01667540839106343), (2259, 0.0), (2260, 0.004388491795482488), (2261, 0.0), (2262, 0.0), (2263, 0.0), (2264, 0.008146159530985601), (2265, 0.009835333105695399), (2266, 0.004847141665293128), (2267, 0.0), (2268, 0.0), (2269, 0.004382174590291973), (2270, 0.0), (2271, 0.0), (2272, 0.0), (2273, 0.0), (2274, 0.0), (2275, 0.011889100682397676), (2276, 0.015536238901252119), (2277, 0.010901731593449477), (2278, 0.0), (2279, 0.01336383626846159), (2280, 0.008904912422941969), (2281, 0.0), (2282, 0.0), (2283, 0.0), (2284, 0.009304305328460065), (2285, 0.005809804711213742), (2286, 0.004953622411043299), (2287, 0.0035359915430631435), (2288, 0.0), (2289, 0.004257067372530261), (2290, 0.016049976181701623), (2291, 0.006243102129507832), (2292, 0.0), (2293, 0.0), (2294, 0.05108291231212571), (2295, 0.0042342028989090655), (2296, 0.0), (2297, 0.0), (2298, 0.015284594577331294), (2299, 0.0), (2300, 0.0), (2301, 0.021491316429946415), (2302, 0.004451640945542406), (2303, 0.00683439826511687), (2304, 0.0), (2305, 0.0), (2306, 0.008077898955343794), (2307, 0.0), (2308, 0.0), (2309, 0.006839076196083681), (2310, 0.0), (2311, 0.0), (2312, 0.0), (2313, 0.0039218665314819665), (2314, 0.0), (2315, 0.0), (2316, 0.038662838751864215), (2317, 0.0), (2318, 0.060681809955950655), (2319, 0.004055849385984881), (2320, 0.004596200280133489), (2321, 0.03999039042396655), (2322, 0.0), (2323, 0.0), (2324, 0.0), (2325, 0.0), (2326, 0.0), (2327, 0.0), (2328, 0.0), (2329, 0.0), (2330, 0.0), (2331, 0.0), (2332, 0.0), (2333, 0.0), (2334, 0.013957019866020442), (2335, 0.006531758763326705), (2336, 0.0), (2337, 0.0), (2338, 0.003477890584254117), (2339, 0.007452725662006357), (2340, 0.0), (2341, 0.0), (2342, 0.0), (2343, 0.0), (2344, 0.0042528694561770235), (2345, 0.0), (2346, 0.010147502216947931), (2347, 0.01793833253014403), (2348, 0.004290162757744682), (2349, 0.0055055343378614075), (2350, 0.004919642382276912), (2351, 0.0), (2352, 0.0), (2353, 0.016081474575771543), (2354, 0.0), (2355, 0.0035275985335508566), (2356, 0.0), (2357, 0.0), (2358, 0.0), (2359, 0.003324914718960389), (2360, 0.0), (2361, 0.004206864313683705), (2362, 0.02211284795102303), (2363, 0.0), (2364, 0.0), (2365, 0.035792994593630556), (2366, 0.014133423475281761), (2367, 0.003590902522156069), (2368, 0.01908623450716274), (2369, 0.0), (2370, 0.0), (2371, 0.0), (2372, 0.0), (2373, 0.0), (2374, 0.044083614486451435), (2375, 0.04340984635552763), (2376, 0.015159560420045303), (2377, 0.0), (2378, 0.0), (2379, 0.005421449494300829), (2380, 0.0), (2381, 0.0), (2382, 0.0), (2383, 0.0), (2384, 0.0), (2385, 0.0), (2386, 0.004297347024523355), (2387, 0.0), (2388, 0.004750475761804316), (2389, 0.0), (2390, 0.00423991155503508), (2391, 0.004227648744322558), (2392, 0.0), (2393, 0.004060623532921065), (2394, 0.004378550828685607), (2395, 0.0), (2396, 0.0), (2397, 0.003754664604645034), (2398, 0.0), (2399, 0.0036201148462503704), (2400, 0.004477982906290159), (2401, 0.0), (2402, 0.004062341430814408), (2403, 0.0076222702240037405), (2404, 0.0), (2405, 0.004000964521218821), (2406, 0.015997634458810105), (2407, 0.005342436490516169), (2408, 0.0), (2409, 0.0), (2410, 0.0), (2411, 0.004430758399754737), (2412, 0.011194178934259412), (2413, 0.02831393311274513), (2414, 0.0), (2415, 0.005061141175177223), (2416, 0.0), (2417, 0.0076175701439265735), (2418, 0.007179083939584261), (2419, 0.0), (2420, 0.0), (2421, 0.006571112829419811), (2422, 0.003899264002644826), (2423, 0.005018503006705025), (2424, 0.0), (2425, 0.0), (2426, 0.0060555112450481965), (2427, 0.0045125767121063235), (2428, 0.004730856496587268), (2429, 0.0), (2430, 0.003783429328542997), (2431, 0.0), (2432, 0.0), (2433, 0.0), (2434, 0.004650226335353969), (2435, 0.0), (2436, 0.011482383855872776), (2437, 0.00470630916043328), (2438, 0.005084094399375131), (2439, 0.005732414009436653), (2440, 0.015609602097139842), (2441, 0.0032482598591076), (2442, 0.0), (2443, 0.027863198712880382), (2444, 0.0), (2445, 0.0), (2446, 0.0), (2447, 0.011179986394268775), (2448, 0.004921068297704552), (2449, 0.02526403161168113), (2450, 0.0), (2451, 0.0), (2452, 0.0), (2453, 0.0036158811713744464), (2454, 0.0), (2455, 0.0), (2456, 0.0), (2457, 0.0036610051083570726), (2458, 0.0), (2459, 0.00463805857516417), (2460, 0.01430076394964162), (2461, 0.0037358108620231443), (2462, 0.0), (2463, 0.006496423240036056), (2464, 0.011466581847528351), (2465, 0.0), (2466, 0.004064174426064192), (2467, 0.02981358827191354), (2468, 0.01170436271039683), (2469, 0.020101364395239102), (2470, 0.0), (2471, 0.0), (2472, 0.0), (2473, 0.010032886620109352), (2474, 0.013769082092696908), (2475, 0.004528989079305872), (2476, 0.0), (2477, 0.0042069557451084195), (2478, 0.004463646139713008), (2479, 0.0), (2480, 0.006356059705509507), (2481, 0.02651215165826409), (2482, 0.003629864707985873), (2483, 0.0), (2484, 0.02747771190427703), (2485, 0.0), (2486, 0.010664340838457185), (2487, 0.026185730243089563), (2488, 0.004780221207281581), (2489, 0.013261578791528577), (2490, 0.0054225144910800185), (2491, 0.0), (2492, 0.003899590799210032), (2493, 0.0), (2494, 0.010813577732545227), (2495, 0.0), (2496, 0.0037835330418042805), (2497, 0.0), (2498, 0.0), (2499, 0.0), (2500, 0.0), (2501, 0.0), (2502, 0.003508777732022362), (2503, 0.006561180818301233), (2504, 0.0), (2505, 0.007685040847604867), (2506, 0.0), (2507, 0.0), (2508, 0.0), (2509, 0.0033747619157228005), (2510, 0.007285305268275336), (2511, 0.0), (2512, 0.01267255859778647), (2513, 0.018077402874086573), (2514, 0.0), (2515, 0.0), (2516, 0.0), (2517, 0.03225809328285961), (2518, 0.0), (2519, 0.0), (2520, 0.003440185151967305), (2521, 0.0), (2522, 0.014247888195219993), (2523, 0.0), (2524, 0.01036326234800831), (2525, 0.0), (2526, 0.003267849421749907), (2527, 0.00367382508702275), (2528, 0.003706455841702377), (2529, 0.005717314760109985), (2530, 0.004864152508465431), (2531, 0.004065506101884538), (2532, 0.0), (2533, 0.0), (2534, 0.0017501842471156607), (2535, 0.004766085097988116), (2536, 0.0), (2537, 0.0), (2538, 0.07014798939672139), (2539, 0.0), (2540, 0.03601480155071374), (2541, 0.0), (2542, 0.0), (2543, 0.0), (2544, 0.0), (2545, 0.007595023642069347), (2546, 0.009787124742341882), (2547, 0.0), (2548, 0.0), (2549, 0.0), (2550, 0.04871671870065587), (2551, 0.0), (2552, 0.0), (2553, 0.018861999869139476), (2554, 0.004000865152134562), (2555, 0.004282842603466767), (2556, 0.003948726957957894), (2557, 0.0), (2558, 0.0803938687170954), (2559, 0.005312405764765474), (2560, 0.02454626790717465), (2561, 0.0), (2562, 0.0), (2563, 0.008617268208030236), (2564, 0.0), (2565, 0.006714737199739099), (2566, 0.0), (2567, 0.0), (2568, 0.014560845784230673), (2569, 0.0), (2570, 0.004718171280854284), (2571, 0.0), (2572, 0.006482800981383459), (2573, 0.0), (2574, 0.0), (2575, 0.0), (2576, 0.0), (2577, 0.0), (2578, 0.0), (2579, 0.04957000097274123), (2580, 0.0034437931471205346), (2581, 0.0), (2582, 0.01973980294361852), (2583, 0.0), (2584, 0.0), (2585, 0.0), (2586, 0.0), (2587, 0.005743601510747326), (2588, 0.0), (2589, 0.0), (2590, 0.0), (2591, 0.0034681494649031817), (2592, 0.004294571866998381), (2593, 0.003940975955422692), (2594, 0.0), (2595, 0.0), (2596, 0.0), (2597, 0.0), (2598, 0.018167084837677868), (2599, 0.0), (2600, 0.0), (2601, 0.011546108870964076), (2602, 0.011707548050609497), (2603, 0.008820315529322827), (2604, 0.0), (2605, 0.0), (2606, 0.0038557734280840117), (2607, 0.017755665947375057), (2608, 0.0), (2609, 0.004066355471177769), (2610, 0.0), (2611, 0.003618165523564003), (2612, 0.0038140882971672363), (2613, 0.0), (2614, 0.008729481071686205), (2615, 0.0), (2616, 0.0), (2617, 0.0077801004133545215), (2618, 0.014859148131411442), (2619, 0.0), (2620, 0.0), (2621, 0.021762077019760902), (2622, 0.03330919944997749), (2623, 0.004596748857159808), (2624, 0.0), (2625, 0.004690212151577549), (2626, 0.0), (2627, 0.0), (2628, 0.0), (2629, 0.004373376455872223), (2630, 0.04678410845502517), (2631, 0.0), (2632, 0.01037950973137789), (2633, 0.011793966844018816), (2634, 0.003766901120019042), (2635, 0.0), (2636, 0.0), (2637, 0.0), (2638, 0.022099259817612384), (2639, 0.015274696711560875), (2640, 0.006544039235008221), (2641, 0.0), (2642, 0.0037548234558968377), (2643, 0.005359747422939647), (2644, 0.01495497314016911), (2645, 0.01733394526826792), (2646, 0.022088732434624503), (2647, 0.01968405878637236), (2648, 0.0), (2649, 0.02511037254797886), (2650, 0.01613666084978233), (2651, 0.0), (2652, 0.004073456179950632), (2653, 0.04761177260922481), (2654, 0.016476955664468454), (2655, 0.005493377184919129), (2656, 0.0), (2657, 0.0), (2658, 0.0), (2659, 0.0), (2660, 0.004280907074031368), (2661, 0.004037736932537615), (2662, 0.0), (2663, 0.0), (2664, 0.0043969084594405365), (2665, 0.0054080816228497955), (2666, 0.0), (2667, 0.0), (2668, 0.010556564272166193), (2669, 0.0), (2670, 0.0), (2671, 0.0), (2672, 0.0), (2673, 0.0), (2674, 0.0038417270008658196), (2675, 0.0), (2676, 0.0), (2677, 0.0), (2678, 0.006994984587233993), (2679, 0.0), (2680, 0.006117199026635154), (2681, 0.0), (2682, 0.0), (2683, 0.0), (2684, 0.0), (2685, 0.0), (2686, 0.0), (2687, 0.03036071872153922), (2688, 0.011368063642925334), (2689, 0.019433292733609078), (2690, 0.0), (2691, 0.006618883122371306), (2692, 0.9999999999999993), (2693, 0.0), (2694, 0.046912674215390214), (2695, 0.0132069259528261), (2696, 0.004912957707537697), (2697, 0.003349368480792409), (2698, 0.010159554668982905), (2699, 0.0), (2700, 0.0), (2701, 0.0), (2702, 0.004554888210406838), (2703, 0.0), (2704, 0.0), (2705, 0.004680813869507144), (2706, 0.03466670754429069), (2707, 0.0), (2708, 0.00686289611104834), (2709, 0.0), (2710, 0.031138079706058894), (2711, 0.0), (2712, 0.018879290682857864), (2713, 0.0), (2714, 0.004186931661998158), (2715, 0.0), (2716, 0.0390871091413951), (2717, 0.0), (2718, 0.024867735607527867), (2719, 0.0), (2720, 0.0), (2721, 0.0), (2722, 0.0), (2723, 0.030753089354897813), (2724, 0.003481607656636682), (2725, 0.0), (2726, 0.00664641610089355), (2727, 0.011332714378716802), (2728, 0.0), (2729, 0.0), (2730, 0.0), (2731, 0.005277334347841775), (2732, 0.006659421257016382), (2733, 0.0), (2734, 0.0), (2735, 0.0), (2736, 0.0), (2737, 0.0), (2738, 0.0), (2739, 0.0095862753535086), (2740, 0.01192207015382431), (2741, 0.0035998943665128363), (2742, 0.014366615484190982), (2743, 0.0037027789368895767), (2744, 0.010740549061175478), (2745, 0.019779514429691347), (2746, 0.003978304881169557), (2747, 0.0035166044573414247), (2748, 0.004656711172591099), (2749, 0.0), (2750, 0.0), (2751, 0.02955668130662724), (2752, 0.008994717145914039), (2753, 0.0), (2754, 0.0), (2755, 0.004223080084731117), (2756, 0.0), (2757, 0.0), (2758, 0.0032217411581439664), (2759, 0.00708500322591635), (2760, 0.01893868871694757), (2761, 0.003279788238986188), (2762, 0.027191890820555006), (2763, 0.0), (2764, 0.005517413454478851), (2765, 0.0), (2766, 0.0030339301260192825), (2767, 0.022089287787979195), (2768, 0.005625995988829672), (2769, 0.012313081141119585), (2770, 0.0), (2771, 0.0034960919434767037), (2772, 0.0047042125531358775), (2773, 0.0), (2774, 0.005157077725865776), (2775, 0.005504968706596656), (2776, 0.004171176941314238), (2777, 0.01901818748080982), (2778, 0.004847705927211591), (2779, 0.0038233304133792204), (2780, 0.00974689270295285), (2781, 0.0), (2782, 0.03426052835743741), (2783, 0.0), (2784, 0.013066803486553943), (2785, 0.0), (2786, 0.0), (2787, 0.0), (2788, 0.0), (2789, 0.005467651914932829), (2790, 0.0), (2791, 0.02647103457482434), (2792, 0.0), (2793, 0.0), (2794, 0.0), (2795, 0.01743273325424835), (2796, 0.0045961320642650865), (2797, 0.004920624117505561), (2798, 0.010890246151870935), (2799, 0.0), (2800, 0.003596351004114638), (2801, 0.0), (2802, 0.003942950806708566), (2803, 0.009524127323103648), (2804, 0.0), (2805, 0.01362290732726647), (2806, 0.0), (2807, 0.03377722995303253), (2808, 0.019645112392658953), (2809, 0.008280488934553954), (2810, 0.0), (2811, 0.0), (2812, 0.010567715500305542), (2813, 0.0), (2814, 0.0), (2815, 0.0), (2816, 0.006689301779832506), (2817, 0.0), (2818, 0.0), (2819, 0.0), (2820, 0.005759943331816843), (2821, 0.004071263863961921), (2822, 0.0), (2823, 0.01808743635527992), (2824, 0.0), (2825, 0.0), (2826, 0.0), (2827, 0.0), (2828, 0.0), (2829, 0.0), (2830, 0.004282082653107164), (2831, 0.010260840880110197), (2832, 0.006124232538221089), (2833, 0.0), (2834, 0.004743963056016873), (2835, 0.0), (2836, 0.0), (2837, 0.0), (2838, 0.004845579483321899), (2839, 0.0), (2840, 0.004352897138625466), (2841, 0.019445607333023075), (2842, 0.0), (2843, 0.007316649196700442), (2844, 0.008330962030519924), (2845, 0.003461718217894201), (2846, 0.0), (2847, 0.0), (2848, 0.004676785180504867), (2849, 0.010541599052729134), (2850, 0.0), (2851, 0.0), (2852, 0.0), (2853, 0.0), (2854, 0.004311410839884021), (2855, 0.0), (2856, 0.0), (2857, 0.0046267184359638875), (2858, 0.0), (2859, 0.04216308313940638), (2860, 0.0), (2861, 0.0), (2862, 0.003658059243528885), (2863, 0.0), (2864, 0.0), (2865, 0.0), (2866, 0.0), (2867, 0.019738988692916286), (2868, 0.034941389996149534), (2869, 0.042323358857027656), (2870, 0.00560686657141311), (2871, 0.008667497259465081), (2872, 0.004947841547108409), (2873, 0.00711005357038511), (2874, 0.014185045532567563), (2875, 0.0), (2876, 0.031054534637173507), (2877, 0.0), (2878, 0.0039429160737392), (2879, 0.004861792564492599), (2880, 0.0), (2881, 0.004499672858358471), (2882, 0.0), (2883, 0.005311376195502372), (2884, 0.0), (2885, 0.02201052596313147), (2886, 0.013240992442495901), (2887, 0.03260338078218047), (2888, 0.004369699274455642), (2889, 0.005345724151963384), (2890, 0.0047751806345618705), (2891, 0.0), (2892, 0.0036613490566573823), (2893, 0.048065517874614466), (2894, 0.004058046751284906), (2895, 0.0), (2896, 0.0), (2897, 0.008910751535063587), (2898, 0.0), (2899, 0.0037116517079675794), (2900, 0.0), (2901, 0.005315501478949374), (2902, 0.0), (2903, 0.06458380602050255), (2904, 0.003903717979865555), (2905, 0.0), (2906, 0.0), (2907, 0.0037649082077754886), (2908, 0.027807703768316414), (2909, 0.0), (2910, 0.01363742055738138), (2911, 0.004030151710448311), (2912, 0.0), (2913, 0.008509089438032916), (2914, 0.004812226505661824), (2915, 0.011585144669557252), (2916, 0.004365140089337857), (2917, 0.013642233943137329), (2918, 0.00901153777640009), (2919, 0.013643619153734963), (2920, 0.02989820131164255), (2921, 0.0), (2922, 0.0), (2923, 0.0), (2924, 0.0044555247801205036), (2925, 0.010502704458182861), (2926, 0.00437898976443291), (2927, 0.0), (2928, 0.0), (2929, 0.005863352044188433), (2930, 0.0), (2931, 0.01861524704197286), (2932, 0.021414812313098358), (2933, 0.009147754243465978), (2934, 0.01359503585243545), (2935, 0.006169411441531407), (2936, 0.007488373923343022), (2937, 0.0), (2938, 0.0), (2939, 0.011562427762899324), (2940, 0.0), (2941, 0.0), (2942, 0.005716412594116), (2943, 0.0044195557039764105), (2944, 0.049786054528318455), (2945, 0.0038745769885158493), (2946, 0.003946407013562171), (2947, 0.0), (2948, 0.0), (2949, 0.0), (2950, 0.0), (2951, 0.0), (2952, 0.0), (2953, 0.0), (2954, 0.0), (2955, 0.0), (2956, 0.0), (2957, 0.0), (2958, 0.0), (2959, 0.0), (2960, 0.0), (2961, 0.013152002498714215), (2962, 0.0), (2963, 0.0), (2964, 0.006938174985186963), (2965, 0.0038243526451405365), (2966, 0.004804594825192049), (2967, 0.0), (2968, 0.0), (2969, 0.014171338203363484), (2970, 0.0), (2971, 0.024551333785323343), (2972, 0.0039142461054912404), (2973, 0.0), (2974, 0.00454872513396835), (2975, 0.009084806453073848), (2976, 0.0034804021721032007), (2977, 0.010743716853808004), (2978, 0.010125628717626614), (2979, 0.0), (2980, 0.010454451090896676), (2981, 0.03296650300605067), (2982, 0.0), (2983, 0.0), (2984, 0.0), (2985, 0.005407877343953462), (2986, 0.004660073880852677), (2987, 0.0), (2988, 0.01074495550864733), (2989, 0.005540896241941441), (2990, 0.0), (2991, 0.0), (2992, 0.00615925568510969), (2993, 0.0), (2994, 0.0), (2995, 0.021483832099625216), (2996, 0.013782595141762902), (2997, 0.0), (2998, 0.005867630769674108), (2999, 0.00416491264373005), (3000, 0.016024643923828134), (3001, 0.0), (3002, 0.0), (3003, 0.0), (3004, 0.036862345206014696), (3005, 0.0), (3006, 0.0), (3007, 0.0), (3008, 0.007438672338457353), (3009, 0.0), (3010, 0.0235642717380176), (3011, 0.0), (3012, 0.004684616411489731), (3013, 0.004297432653532574), (3014, 0.00370512125490009), (3015, 0.0051381700015322), (3016, 0.0), (3017, 0.031605313494865284), (3018, 0.0), (3019, 0.016097301632887043), (3020, 0.0), (3021, 0.0), (3022, 0.0), (3023, 0.04521033611778769), (3024, 0.0031968790803544598), (3025, 0.0), (3026, 0.0), (3027, 0.003571123488184141), (3028, 0.003707676969353879), (3029, 0.0), (3030, 0.0), (3031, 0.0), (3032, 0.004478234993166264), (3033, 0.006490447531214412), (3034, 0.0), (3035, 0.0), (3036, 0.01962114019835162), (3037, 0.0043349338843665965), (3038, 0.0), (3039, 0.007410912320585429), (3040, 0.0), (3041, 0.0), (3042, 0.0), (3043, 0.014542642215050312), (3044, 0.004439716993391135), (3045, 0.02569259844386332), (3046, 0.0062491439487197915), (3047, 0.0), (3048, 0.0), (3049, 0.0), (3050, 0.00389861050499167), (3051, 0.005531728704098846), (3052, 0.0), (3053, 0.082214952563375), (3054, 0.0), (3055, 0.0), (3056, 0.0032935320550875023), (3057, 0.0), (3058, 0.0), (3059, 0.0), (3060, 0.0), (3061, 0.0), (3062, 0.004624858689652265), (3063, 0.0), (3064, 0.0), (3065, 0.009498121686050505), (3066, 0.006420744907658198), (3067, 0.011462704581775184), (3068, 0.0), (3069, 0.0), (3070, 0.008346779483818997), (3071, 0.0036646869095004393), (3072, 0.004714644389981804), (3073, 0.0), (3074, 0.00507182017672812), (3075, 0.004165944737101216), (3076, 0.005053772171262623), (3077, 0.0), (3078, 0.0), (3079, 0.0), (3080, 0.0), (3081, 0.004790363443570571), (3082, 0.0), (3083, 0.023238639323368972), (3084, 0.0), (3085, 0.006119312912623429), (3086, 0.013888320640188098), (3087, 0.0), (3088, 0.0), (3089, 0.0), (3090, 0.0), (3091, 0.01838616645482047), (3092, 0.0), (3093, 0.0), (3094, 0.011844670157507528), (3095, 0.016633816881834233), (3096, 0.008978898950580502), (3097, 0.004250139268180479), (3098, 0.01674806531224822), (3099, 0.008239763951859276), (3100, 0.0), (3101, 0.0), (3102, 0.03477967047664321), (3103, 0.0), (3104, 0.0), (3105, 0.0), (3106, 0.0), (3107, 0.0), (3108, 0.00924616330081562), (3109, 0.0), (3110, 0.010102092055816865), (3111, 0.01949233001906734), (3112, 0.004251330184168151), (3113, 0.0), (3114, 0.00603252858606252), (3115, 0.0), (3116, 0.004337276987453426), (3117, 0.0), (3118, 0.008940176357366764), (3119, 0.01274815085191649), (3120, 0.003580949494644304), (3121, 0.0), (3122, 0.004001683940390363), (3123, 0.004729897663554292), (3124, 0.0), (3125, 0.004008706963002825), (3126, 0.0), (3127, 0.02917027076492698), (3128, 0.0), (3129, 0.013344402407891922), (3130, 0.0), (3131, 0.0), (3132, 0.0), (3133, 0.0), (3134, 0.0), (3135, 0.0), (3136, 0.0), (3137, 0.003520263642046002), (3138, 0.0), (3139, 0.0), (3140, 0.005005381647648228), (3141, 0.0), (3142, 0.012867163388609406), (3143, 0.0), (3144, 0.02018708802406016), (3145, 0.0), (3146, 0.0043068085130023494), (3147, 0.003610912979643652), (3148, 0.004471475392805166), (3149, 0.0), (3150, 0.0), (3151, 0.010320324454165117), (3152, 0.008450069125037818), (3153, 0.020450133126450012), (3154, 0.02753219580171562), (3155, 0.009325113969170294), (3156, 0.025223532990205372), (3157, 0.028612014793861155), (3158, 0.0), (3159, 0.0), (3160, 0.0), (3161, 0.0), (3162, 0.0), (3163, 0.0), (3164, 0.005433190699195358), (3165, 0.0047876270277718395), (3166, 0.00530437854081095), (3167, 0.024609640648554452), (3168, 0.0), (3169, 0.0), (3170, 0.0038676201617127907), (3171, 0.012858484246836242), (3172, 0.0), (3173, 0.0), (3174, 0.0), (3175, 0.0), (3176, 0.0), (3177, 0.0), (3178, 0.0060592265853425305), (3179, 0.0), (3180, 0.0), (3181, 0.0), (3182, 0.003997865472395088), (3183, 0.004271675182869732), (3184, 0.004127849598715906), (3185, 0.0), (3186, 0.0), (3187, 0.004221703365275235), (3188, 0.0), (3189, 0.0), (3190, 0.0), (3191, 0.0), (3192, 0.010104280292351537), (3193, 0.0), (3194, 0.0037282861897230462), (3195, 0.003915507157077174), (3196, 0.004358268714765766), (3197, 0.0), (3198, 0.004229808236914545), (3199, 0.003094768031975177), (3200, 0.0032692093926461117), (3201, 0.0), (3202, 0.0), (3203, 0.05378903061536873), (3204, 0.0), (3205, 0.00515904188777418), (3206, 0.0), (3207, 0.0), (3208, 0.0), (3209, 0.04144852779929484), (3210, 0.013837377176840986), (3211, 0.0), (3212, 0.0), (3213, 0.01298042510953345), (3214, 0.004274494723223184), (3215, 0.00559360117474996), (3216, 0.0), (3217, 0.0), (3218, 0.011375749116414789), (3219, 0.005205594048607685), (3220, 0.003755672720642071), (3221, 0.0), (3222, 0.020955207391578592), (3223, 0.0), (3224, 0.0), (3225, 0.0), (3226, 0.016020306078495004), (3227, 0.004088213795336781), (3228, 0.012453514376448115), (3229, 0.0), (3230, 0.0), (3231, 0.0), (3232, 0.008637932198749825), (3233, 0.004028856275549382), (3234, 0.004148632293113001), (3235, 0.004229437509323628), (3236, 0.0), (3237, 0.010289808767749854), (3238, 0.0), (3239, 0.0), (3240, 0.010010215028159136), (3241, 0.004046183712778737), (3242, 0.0), (3243, 0.0), (3244, 0.005975668825290954), (3245, 0.010316404694774892), (3246, 0.006119010595664369), (3247, 0.0), (3248, 0.03238474699696246), (3249, 0.04479465139713948), (3250, 0.0), (3251, 0.0), (3252, 0.0), (3253, 0.014167576278725343), (3254, 0.0036389034100164836), (3255, 0.0359152710711923), (3256, 0.007883043524273178), (3257, 0.005680823348889854), (3258, 0.004522856462276991), (3259, 0.009756789580625754), (3260, 0.026237946673990386), (3261, 0.0), (3262, 0.00554828903929441), (3263, 0.0), (3264, 0.007010764658393376), (3265, 0.006530332198492822), (3266, 0.0), (3267, 0.008535167350844813), (3268, 0.0039476170112248046), (3269, 0.0), (3270, 0.0), (3271, 0.0), (3272, 0.0), (3273, 0.004265080968180452), (3274, 0.004980010194048319), (3275, 0.01661986236940697), (3276, 0.04691935452785122), (3277, 0.0), (3278, 0.0036081537042001836), (3279, 0.013205021058340411), (3280, 0.03203701773333541), (3281, 0.0), (3282, 0.004837129529543726), (3283, 0.0), (3284, 0.015527893678585956), (3285, 0.024138763131868798), (3286, 0.0), (3287, 0.0), (3288, 0.0064526153914606765), (3289, 0.0), (3290, 0.0), (3291, 0.005830441101178149), (3292, 0.0), (3293, 0.0036785696746512776), (3294, 0.04780840223667759), (3295, 0.015116791065935675), (3296, 0.004558217350812951), (3297, 0.013196772910459027), (3298, 0.0037417211251871653), (3299, 0.012932660417581348), (3300, 0.0037009744246734202), (3301, 0.0032895095751910514), (3302, 0.004700128190292197), (3303, 0.003936778555163625), (3304, 0.0035205414776429706), (3305, 0.0), (3306, 0.016627467483872723), (3307, 0.0), (3308, 0.004525849081211058), (3309, 0.006335156862698651), (3310, 0.0), (3311, 0.003575269481668697), (3312, 0.010519561750154473), (3313, 0.029943520424597296), (3314, 0.004045069598220035), (3315, 0.0037828496408720456), (3316, 0.008019869177567756), (3317, 0.010661979626683155), (3318, 0.0035038235964561025), (3319, 0.02267079101313735), (3320, 0.0), (3321, 0.0), (3322, 0.0), (3323, 0.0), (3324, 0.0), (3325, 0.005915577014934934), (3326, 0.0040593586167153506), (3327, 0.0034021805289116552), (3328, 0.014403721376326608), (3329, 0.005925779735658925), (3330, 0.0038948194829430223), (3331, 0.0033352134575437807), (3332, 0.0), (3333, 0.0), (3334, 0.00952950603488703), (3335, 0.0), (3336, 0.0), (3337, 0.0), (3338, 0.0), (3339, 0.0), (3340, 0.0), (3341, 0.0), (3342, 0.00358255028785022), (3343, 0.0), (3344, 0.024034680129896194), (3345, 0.023006641187630503), (3346, 0.010363304927716276), (3347, 0.003274123372400456), (3348, 0.0), (3349, 0.004153972396614923), (3350, 0.0), (3351, 0.03622886570815606), (3352, 0.02138712229180394), (3353, 0.0040815443870096365), (3354, 0.0), (3355, 0.004673058903580172), (3356, 0.013988733054280753), (3357, 0.004666751705216303), (3358, 0.0), (3359, 0.00474224688554961), (3360, 0.014701615600784968), (3361, 0.0), (3362, 0.03856562590349494), (3363, 0.004809958375764573), (3364, 0.004622165556321498), (3365, 0.0029104433557105808), (3366, 0.0), (3367, 0.0), (3368, 0.0), (3369, 0.0), (3370, 0.012302244374127845), (3371, 0.0), (3372, 0.0), (3373, 0.010232524649665833), (3374, 0.013939200758829536), (3375, 0.01573860138177408), (3376, 0.0297978159640524), (3377, 0.02925535728039505), (3378, 0.0), (3379, 0.0037298776327840347), (3380, 0.0034484920453944994), (3381, 0.0), (3382, 0.009567023888624702), (3383, 0.0), (3384, 0.0075424753057178615), (3385, 0.055257039832259006), (3386, 0.010879665605532506), (3387, 0.007071919052633612), (3388, 0.00401631340101275), (3389, 0.009635244529497648), (3390, 0.0), (3391, 0.004383788639380693), (3392, 0.0), (3393, 0.0033717539362227195), (3394, 0.0), (3395, 0.017952509793492707), (3396, 0.0), (3397, 0.0), (3398, 0.0), (3399, 0.009878093772440673), (3400, 0.0), (3401, 0.0), (3402, 0.0037592145368394057), (3403, 0.019485539105825695), (3404, 0.0), (3405, 0.0), (3406, 0.00421306768222206), (3407, 0.009908331313334857), (3408, 0.0450998349810236), (3409, 0.008942149842486211), (3410, 0.0052030296673344295), (3411, 0.0), (3412, 0.0), (3413, 0.004595492252898757), (3414, 0.0), (3415, 0.0), (3416, 0.006546146881447534), (3417, 0.004295639759544249), (3418, 0.008900733906584466), (3419, 0.0), (3420, 0.028032459338352952), (3421, 0.01419426834157336), (3422, 0.0), (3423, 0.007685254523407774), (3424, 0.0), (3425, 0.004477430354493133), (3426, 0.006219946136821294), (3427, 0.04486201146900635), (3428, 0.027095693831999737), (3429, 0.0), (3430, 0.03328619468469763), (3431, 0.0), (3432, 0.0), (3433, 0.01931588784123481), (3434, 0.0), (3435, 0.003908551850411982), (3436, 0.003931788959207061), (3437, 0.013738745169760463), (3438, 0.0), (3439, 0.0), (3440, 0.0), (3441, 0.0), (3442, 0.0), (3443, 0.0), (3444, 0.0), (3445, 0.003938696028285699), (3446, 0.018573386167624484), (3447, 0.02722478199708327), (3448, 0.0), (3449, 0.0041940373196473054), (3450, 0.0251086742409525), (3451, 0.0), (3452, 0.0), (3453, 0.010532517289639755), (3454, 0.0), (3455, 0.0), (3456, 0.004436537065259678), (3457, 0.007027675980269205), (3458, 0.004686774080559314), (3459, 0.0), (3460, 0.0036449516568782263), (3461, 0.0), (3462, 0.01662174458289568), (3463, 0.03571289651250236), (3464, 0.0), (3465, 0.008655795181214131), (3466, 0.014701859709165153), (3467, 0.0), (3468, 0.0), (3469, 0.020155292708266298), (3470, 0.030525289352054435), (3471, 0.01942160296137515), (3472, 0.0), (3473, 0.0), (3474, 0.0034808152277321295), (3475, 0.0), (3476, 0.0), (3477, 0.003822284834092848), (3478, 0.0), (3479, 0.00515982819096171), (3480, 0.07369662427345539), (3481, 0.0), (3482, 0.0), (3483, 0.02035655103527037), (3484, 0.0), (3485, 0.0), (3486, 0.034542645420769964), (3487, 0.003751152035906842), (3488, 0.027095467743490875), (3489, 0.0), (3490, 0.0), (3491, 0.0), (3492, 0.022180464018799265), (3493, 0.00412608613824704), (3494, 0.0), (3495, 0.0), (3496, 0.0041210531468391185), (3497, 0.0), (3498, 0.03426122185779299), (3499, 0.0), (3500, 0.003868308960809134), (3501, 0.004277712727934399), (3502, 0.0), (3503, 0.0036136014500510317), (3504, 0.018668170669576063), (3505, 0.0), (3506, 0.0045216518971131995), (3507, 0.0), (3508, 0.01286128963080247), (3509, 0.005688633783439713), (3510, 0.0), (3511, 0.004140837626766381), (3512, 0.006819328679317823), (3513, 0.0), (3514, 0.0), (3515, 0.007060856916240663), (3516, 0.004122703092748567), (3517, 0.0), (3518, 0.04925733372833531), (3519, 0.0), (3520, 0.0), (3521, 0.004716005485345169), (3522, 0.0), (3523, 0.0), (3524, 0.012138218641310868), (3525, 0.0), (3526, 0.004004430694111215), (3527, 0.004368144957754739), (3528, 0.017357484989230548), (3529, 0.0), (3530, 0.0), (3531, 0.0), (3532, 0.0), (3533, 0.0), (3534, 0.003432522439850583), (3535, 0.011326258353653425), (3536, 0.006531204551380403), (3537, 0.0), (3538, 0.0), (3539, 0.0), (3540, 0.0), (3541, 0.016941839362625864), (3542, 0.004009855274492366), (3543, 0.0), (3544, 0.0), (3545, 0.0), (3546, 0.0029114235586787046), (3547, 0.0), (3548, 0.0), (3549, 0.0), (3550, 0.0), (3551, 0.004012595016980268), (3552, 0.04755000302124761), (3553, 0.019712248678081013), (3554, 0.0), (3555, 0.0), (3556, 0.031079205400509104), (3557, 0.003825784245726011), (3558, 0.016365487696636486), (3559, 0.02690671990820748), (3560, 0.004369905069945152), (3561, 0.0), (3562, 0.0), (3563, 0.003635314557197433), (3564, 0.004002958656850209), (3565, 0.0), (3566, 0.006284726559161965), (3567, 0.0), (3568, 0.0), (3569, 0.0034188736738426677), (3570, 0.0), (3571, 0.003971848530047687), (3572, 0.0333927300823953), (3573, 0.0), (3574, 0.02915124364121884), (3575, 0.003335852863090389), (3576, 0.0), (3577, 0.004594903213333079), (3578, 0.0), (3579, 0.009382018263121183), (3580, 0.015207647985486992), (3581, 0.0), (3582, 0.008724511125760137), (3583, 0.0), (3584, 0.0), (3585, 0.0), (3586, 0.009861202624314268), (3587, 0.0), (3588, 0.0), (3589, 0.0), (3590, 0.004449656268901352), (3591, 0.0), (3592, 0.0), (3593, 0.0), (3594, 0.006634777460351865), (3595, 0.0), (3596, 0.006861092654380434), (3597, 0.01542923206789938), (3598, 0.0059009930341533), (3599, 0.007016194309437441), (3600, 0.0), (3601, 0.004260632187661588), (3602, 0.0), (3603, 0.0), (3604, 0.0), (3605, 0.0), (3606, 0.0), (3607, 0.0), (3608, 0.0), (3609, 0.0), (3610, 0.0), (3611, 0.0), (3612, 0.013664283263512421), (3613, 0.005093088332590667), (3614, 0.003632146500655816), (3615, 0.0), (3616, 0.0), (3617, 0.0), (3618, 0.004334155533904175), (3619, 0.0), (3620, 0.004899422248019203), (3621, 0.0), (3622, 0.0), (3623, 0.004088023417150305), (3624, 0.004023605491603689), (3625, 0.0), (3626, 0.0030258241522647766), (3627, 0.0), (3628, 0.0), (3629, 0.0), (3630, 0.014094699174902324), (3631, 0.0), (3632, 0.006595096260243162), (3633, 0.0), (3634, 0.009678544334492811), (3635, 0.005298984672823298), (3636, 0.0), (3637, 0.011619010394533719), (3638, 0.0048198420433641495), (3639, 0.0044209504570263585), (3640, 0.004439695964104387), (3641, 0.0038340822382690954), (3642, 0.009695085515829935), (3643, 0.010839231188301046), (3644, 0.0), (3645, 0.010814372611826866), (3646, 0.003708994508736065), (3647, 0.0), (3648, 0.006833796705852177), (3649, 0.0), (3650, 0.0), (3651, 0.0), (3652, 0.03793510286303949), (3653, 0.0040090189653495195), (3654, 0.004113962043574795), (3655, 0.05810369106208768), (3656, 0.030788049957889252), (3657, 0.0033991309020125183), (3658, 0.0), (3659, 0.00981469164450099), (3660, 0.0037930739499231186), (3661, 0.0074649289419799125), (3662, 0.0), (3663, 0.0), (3664, 0.0), (3665, 0.01789666879000137), (3666, 0.003980357696958856), (3667, 0.010852655202177122), (3668, 0.0), (3669, 0.0036554791835981103), (3670, 0.009387199287684663), (3671, 0.0), (3672, 0.0), (3673, 0.003955253577225975), (3674, 0.0), (3675, 0.0162543764480756), (3676, 0.0), (3677, 0.0), (3678, 0.0), (3679, 0.0), (3680, 0.004586994295692918), (3681, 0.0), (3682, 0.0), (3683, 0.0), (3684, 0.01574654848211882), (3685, 0.0), (3686, 0.0), (3687, 0.0), (3688, 0.0), (3689, 0.010829193283699547), (3690, 0.0), (3691, 0.0), (3692, 0.0214191722918381), (3693, 0.0), (3694, 0.014164343680781896), (3695, 0.0), (3696, 0.0038392528125744223), (3697, 0.0), (3698, 0.0), (3699, 0.009738485810049052), (3700, 0.0), (3701, 0.0), (3702, 0.0), (3703, 0.0), (3704, 0.00425294898098427), (3705, 0.0035486986205436034), (3706, 0.003790324680075513), (3707, 0.004000919448053114), (3708, 0.010718178745292947), (3709, 0.0), (3710, 0.0), (3711, 0.022346428618169593), (3712, 0.0), (3713, 0.005464252934195728), (3714, 0.0), (3715, 0.0), (3716, 0.0), (3717, 0.0), (3718, 0.0), (3719, 0.0), (3720, 0.02742605291785728), (3721, 0.0), (3722, 0.0), (3723, 0.0), (3724, 0.0), (3725, 0.0), (3726, 0.0), (3727, 0.003950738141771454), (3728, 0.060998108226386044), (3729, 0.0), (3730, 0.0), (3731, 0.03857621013880905), (3732, 0.0), (3733, 0.006639923126417691), (3734, 0.003739900010214777), (3735, 0.0), (3736, 0.0), (3737, 0.0), (3738, 0.0), (3739, 0.0038098095904757624), (3740, 0.0), (3741, 0.011240388095862603), (3742, 0.0035763252236494752), (3743, 0.0), (3744, 0.0), (3745, 0.004621962603736039), (3746, 0.0), (3747, 0.0068395164270656636), (3748, 0.005903114786852271), (3749, 0.004258148397768281), (3750, 0.01395567345652665), (3751, 0.027179392768882177), (3752, 0.005869240489596523), (3753, 0.047561633666005694), (3754, 0.004409748992057894), (3755, 0.003694143588962063), (3756, 0.01088358751816802), (3757, 0.0), (3758, 0.0), (3759, 0.0), (3760, 0.0), (3761, 0.0), (3762, 0.0), (3763, 0.004929503841133963), (3764, 0.0), (3765, 0.004028513395595448), (3766, 0.004985822735163139), (3767, 0.009444610029695343), (3768, 0.0), (3769, 0.0), (3770, 0.0), (3771, 0.004206817860091783), (3772, 0.004614525731020708), (3773, 0.0), (3774, 0.0), (3775, 0.0), (3776, 0.0), (3777, 0.013758886789764179), (3778, 0.0231201472100956), (3779, 0.048661476542516464), (3780, 0.004235204053058752), (3781, 0.0), (3782, 0.0), (3783, 0.0), (3784, 0.01022782299141185), (3785, 0.0), (3786, 0.0), (3787, 0.0), (3788, 0.0), (3789, 0.0), (3790, 0.0), (3791, 0.0), (3792, 0.0), (3793, 0.040534197992633275), (3794, 0.00901100660990341), (3795, 0.0), (3796, 0.0), (3797, 0.011748312199128152), (3798, 0.0), (3799, 0.003899511730395272), (3800, 0.0), (3801, 0.023670449047201458), (3802, 0.0), (3803, 0.0), (3804, 0.0), (3805, 0.0), (3806, 0.0), (3807, 0.00413126943077503), (3808, 0.0), (3809, 0.004049560310967956), (3810, 0.020102665749126867), (3811, 0.003826057346974691), (3812, 0.0), (3813, 0.004277447941385571), (3814, 0.0), (3815, 0.0), (3816, 0.0), (3817, 0.0), (3818, 0.0), (3819, 0.0038465774221015554), (3820, 0.0), (3821, 0.005504768267445225), (3822, 0.011363214430330466), (3823, 0.0), (3824, 0.0), (3825, 0.006055703800183729), (3826, 0.009967800849210971), (3827, 0.004388372730572662), (3828, 0.01676996569485203), (3829, 0.009662276700474178), (3830, 0.0), (3831, 0.0), (3832, 0.0051235994918893525), (3833, 0.0), (3834, 0.0), (3835, 0.02668951882172465), (3836, 0.0), (3837, 0.0), (3838, 0.0), (3839, 0.023677357885292783), (3840, 0.0), (3841, 0.0), (3842, 0.008465727147066855), (3843, 0.0), (3844, 0.0), (3845, 0.004174999658569272), (3846, 0.0), (3847, 0.0), (3848, 0.0), (3849, 0.0), (3850, 0.02949811475529369), (3851, 0.0), (3852, 0.024219265278051613), (3853, 0.01455822148638091), (3854, 0.011926647912077436), (3855, 0.0032435116116940775), (3856, 0.0), (3857, 0.017095393718528383), (3858, 0.0), (3859, 0.0), (3860, 0.008362280935936613), (3861, 0.014403143908110462), (3862, 0.014253530617260158), (3863, 0.0), (3864, 0.006216503025683256), (3865, 0.005841719869032464), (3866, 0.004494464579144184), (3867, 0.004300347170584416), (3868, 0.02768011109891149), (3869, 0.0), (3870, 0.0), (3871, 0.028354131289202795), (3872, 0.0), (3873, 0.004259250158826073), (3874, 0.0), (3875, 0.018906385086502338), (3876, 0.003889813582996896), (3877, 0.0), (3878, 0.0), (3879, 0.0), (3880, 0.009329865636042855), (3881, 0.0), (3882, 0.00414891915820175), (3883, 0.0044878992414483666), (3884, 0.0), (3885, 0.0), (3886, 0.0), (3887, 0.0), (3888, 0.003944002895985062), (3889, 0.0), (3890, 0.003801636095456313), (3891, 0.0), (3892, 0.005091334442352973), (3893, 0.004402257932315307), (3894, 0.0), (3895, 0.017042920987878886), (3896, 0.0), (3897, 0.0), (3898, 0.003754220371119395), (3899, 0.0), (3900, 0.003924547615119138), (3901, 0.004971430382763817), (3902, 0.00422635965643868), (3903, 0.012020143481721559), (3904, 0.030814982883160945), (3905, 0.0), (3906, 0.0), (3907, 0.0), (3908, 0.0), (3909, 0.006115273996266744), (3910, 0.0035910848924589358), (3911, 0.0), (3912, 0.0), (3913, 0.025303577147555854), (3914, 0.0), (3915, 0.004247331164225442), (3916, 0.0), (3917, 0.0038612591520487344), (3918, 0.0), (3919, 0.01130674203272379), (3920, 0.004284202969362613), (3921, 0.0), (3922, 0.005207912965177334), (3923, 0.0224656066953903), (3924, 0.014080395300730514), (3925, 0.006029414673351153), (3926, 0.006888243576388582), (3927, 0.022213658598497575), (3928, 0.0034267331836089314), (3929, 0.0), (3930, 0.0), (3931, 0.0), (3932, 0.007160561439384752), (3933, 0.0), (3934, 0.01968849996045862), (3935, 0.0), (3936, 0.0), (3937, 0.0), (3938, 0.0), (3939, 0.0), (3940, 0.005323782348258063), (3941, 0.008380716066983868), (3942, 0.0), (3943, 0.0), (3944, 0.0), (3945, 0.0), (3946, 0.05373068235938955), (3947, 0.03992185893467208), (3948, 0.0), (3949, 0.0), (3950, 0.0), (3951, 0.007715820716912822), (3952, 0.004742491440385333), (3953, 0.003699476867749924), (3954, 0.009521223686284724), (3955, 0.04105776537205403), (3956, 0.0035124343183429016), (3957, 0.005546918908689801), (3958, 0.014948801282688814), (3959, 0.014168597404103846), (3960, 0.0043878156633579204), (3961, 0.027021017304652874), (3962, 0.004354081920304341), (3963, 0.0), (3964, 0.0), (3965, 0.0), (3966, 0.0), (3967, 0.0), (3968, 0.0), (3969, 0.0), (3970, 0.0), (3971, 0.0), (3972, 0.0), (3973, 0.04756627512929574), (3974, 0.003742346527732681), (3975, 0.0), (3976, 0.01747195650774416), (3977, 0.0), (3978, 0.019023145500440795), (3979, 0.0), (3980, 0.0), (3981, 0.0), (3982, 0.0), (3983, 0.03684834175603075), (3984, 0.004431504978405903), (3985, 0.0), (3986, 0.0), (3987, 0.0), (3988, 0.0), (3989, 0.0), (3990, 0.0053493204251201095), (3991, 0.0), (3992, 0.014208279306615182), (3993, 0.008630924946947756), (3994, 0.0), (3995, 0.0), (3996, 0.0), (3997, 0.0), (3998, 0.006327355301703083), (3999, 0.0), (4000, 0.009116729268661115), (4001, 0.006967407109063486), (4002, 0.0), (4003, 0.0), (4004, 0.02502340361794493), (4005, 0.03333010906909575), (4006, 0.0), (4007, 0.008499666548140964), (4008, 0.0068989076954663955), (4009, 0.006057766660771288), (4010, 0.0), (4011, 0.003747453805859874), (4012, 0.01861585296753475), (4013, 0.0), (4014, 0.004220369767535323), (4015, 0.0), (4016, 0.02289872823874734), (4017, 0.0), (4018, 0.0), (4019, 0.0), (4020, 0.0038206210883026436), (4021, 0.0), (4022, 0.0), (4023, 0.0), (4024, 0.004224186450504361), (4025, 0.010775447456616459), (4026, 0.0), (4027, 0.0), (4028, 0.0), (4029, 0.0), (4030, 0.0), (4031, 0.0), (4032, 0.007623660617835797), (4033, 0.004011053076984978), (4034, 0.0), (4035, 0.03258718754865412), (4036, 0.0040063798678085915), (4037, 0.0), (4038, 0.0041334270167336816), (4039, 0.0), (4040, 0.0), (4041, 0.0), (4042, 0.0), (4043, 0.0), (4044, 0.0), (4045, 0.0), (4046, 0.004138904590630079), (4047, 0.0), (4048, 0.011126299541460135), (4049, 0.0), (4050, 0.01766130632842907), (4051, 0.004430400977448155), (4052, 0.006986049027188908), (4053, 0.019432584991304423), (4054, 0.003966187080122978), (4055, 0.005753882021063314), (4056, 0.004032338839620027), (4057, 0.005924792418532473), (4058, 0.0), (4059, 0.0), (4060, 0.008671753417082661), (4061, 0.006844723934077901), (4062, 0.05546533123505035), (4063, 0.0), (4064, 0.0), (4065, 0.0), (4066, 0.0036230308226420354), (4067, 0.0), (4068, 0.012902193432035728), (4069, 0.0037907812950478416), (4070, 0.0), (4071, 0.0), (4072, 0.0), (4073, 0.0), (4074, 0.0034180720531987296), (4075, 0.0), (4076, 0.0), (4077, 0.007315542719821867), (4078, 0.0), (4079, 0.004202172098124405), (4080, 0.0), (4081, 0.015401339365791546), (4082, 0.005699146198021544), (4083, 0.0), (4084, 0.0), (4085, 0.0037113823423613203), (4086, 0.0), (4087, 0.00445553522047235), (4088, 0.01862654588671533), (4089, 0.0), (4090, 0.0), (4091, 0.0), (4092, 0.004434383738778451), (4093, 0.0), (4094, 0.0), (4095, 0.011125890320139926), (4096, 0.00782337567407543), (4097, 0.0), (4098, 0.004479917430214519), (4099, 0.006411459434556254), (4100, 0.0), (4101, 0.004368238463968877), (4102, 0.0), (4103, 0.0), (4104, 0.026256485566143826), (4105, 0.0), (4106, 0.005977908854228373), (4107, 0.0), (4108, 0.0), (4109, 0.0), (4110, 0.006241806798436174), (4111, 0.00429194920220661), (4112, 0.0), (4113, 0.004450378766320574), (4114, 0.0), (4115, 0.0), (4116, 0.0042846217942648715), (4117, 0.0046390837772424), (4118, 0.010420323422505064), (4119, 0.0), (4120, 0.0), (4121, 0.010553804494230483), (4122, 0.0), (4123, 0.004204707716996989), (4124, 0.009175477981582482), (4125, 0.0), (4126, 0.0), (4127, 0.0), (4128, 0.025932301048822333), (4129, 0.0), (4130, 0.004257273249150242), (4131, 0.0), (4132, 0.0), (4133, 0.004426507160661889), (4134, 0.009877847079196679), (4135, 0.003935237778847908), (4136, 0.0), (4137, 0.04294136734422112), (4138, 0.004291984635039968), (4139, 0.0), (4140, 0.0), (4141, 0.032087509961127636), (4142, 0.0), (4143, 0.0036122514829595707), (4144, 0.0), (4145, 0.0), (4146, 0.0), (4147, 0.0), (4148, 0.0), (4149, 0.01848154757919037), (4150, 0.0), (4151, 0.003355783755827167), (4152, 0.0037321121178364282), (4153, 0.0), (4154, 0.00375179858506833), (4155, 0.0), (4156, 0.02022554619918844), (4157, 0.0), (4158, 0.0055974609327488125), (4159, 0.0), (4160, 0.004686285083279785), (4161, 0.0), (4162, 0.0), (4163, 0.004857790342380004), (4164, 0.008195410974915673), (4165, 0.03369723091197782), (4166, 0.0), (4167, 0.0), (4168, 0.0), (4169, 0.0), (4170, 0.0), (4171, 0.0027515442869897114), (4172, 0.0), (4173, 0.0), (4174, 0.0), (4175, 0.0), (4176, 0.018111261972237697), (4177, 0.030293077942944335), (4178, 0.00392982333325933), (4179, 0.0), (4180, 0.0), (4181, 0.0), (4182, 0.008485463070219934), (4183, 0.00385356128298123), (4184, 0.0), (4185, 0.0), (4186, 0.0), (4187, 0.004219987093030761), (4188, 0.0), (4189, 0.018945633326548597), (4190, 0.0), (4191, 0.0), (4192, 0.012402167414986225), (4193, 0.0), (4194, 0.0), (4195, 0.0), (4196, 0.007339879471177459), (4197, 0.0), (4198, 0.0), (4199, 0.0), (4200, 0.0), (4201, 0.0), (4202, 0.005602597806232578), (4203, 0.01191549306285877), (4204, 0.0), (4205, 0.009898577482631135), (4206, 0.0), (4207, 0.0), (4208, 0.0), (4209, 0.0), (4210, 0.0065085889599130605), (4211, 0.0), (4212, 0.0), (4213, 0.0), (4214, 0.0), (4215, 0.0), (4216, 0.00905732597391844), (4217, 0.006170220972974905), (4218, 0.0), (4219, 0.0), (4220, 0.0), (4221, 0.0), (4222, 0.0), (4223, 0.0), (4224, 0.0), (4225, 0.0), (4226, 0.007203183044834162), (4227, 0.010180437861636579), (4228, 0.0), (4229, 0.0), (4230, 0.0), (4231, 0.015205477560503257), (4232, 0.008140975289128818), (4233, 0.009615164248305531), (4234, 0.0), (4235, 0.00894480522807005), (4236, 0.006295087903151289), (4237, 0.0), (4238, 0.0), (4239, 0.0), (4240, 0.0), (4241, 0.0), (4242, 0.011562484994857923), (4243, 0.004781717539806446), (4244, 0.004456961696892643), (4245, 0.0), (4246, 0.01733074236455533), (4247, 0.0034195452397741215), (4248, 0.0), (4249, 0.004353914545983976), (4250, 0.0), (4251, 0.0), (4252, 0.0), (4253, 0.0), (4254, 0.0), (4255, 0.010444985772178818), (4256, 0.0), (4257, 0.01054078886653314), (4258, 0.0), (4259, 0.004206133906197059), (4260, 0.0), (4261, 0.006720128627919166), (4262, 0.0), (4263, 0.0), (4264, 0.0), (4265, 0.0), (4266, 0.003976847769483329), (4267, 0.0), (4268, 0.052065783088515186), (4269, 0.004467334612144845), (4270, 0.0), (4271, 0.0), (4272, 0.006113372896859293), (4273, 0.0), (4274, 0.0), (4275, 0.0), (4276, 0.0), (4277, 0.0), (4278, 0.0), (4279, 0.0), (4280, 0.0), (4281, 0.01790260055822582), (4282, 0.0036729179536053426), (4283, 0.021912182325787368), (4284, 0.004002629816395461), (4285, 0.0), (4286, 0.0041444936507555085), (4287, 0.003961720011073856), (4288, 0.017690921073622), (4289, 0.0), (4290, 0.0), (4291, 0.0), (4292, 0.0), (4293, 0.004568805455813277), (4294, 0.0), (4295, 0.004520293464045207), (4296, 0.0), (4297, 0.0), (4298, 0.0), (4299, 0.0), (4300, 0.0), (4301, 0.0), (4302, 0.0), (4303, 0.0065139558356233146), (4304, 0.0), (4305, 0.0), (4306, 0.0), (4307, 0.0), (4308, 0.0), (4309, 0.0038984750514596224), (4310, 0.0), (4311, 0.0033561160938231065), (4312, 0.0), (4313, 0.0), (4314, 0.015674231607421034), (4315, 0.0), (4316, 0.0), (4317, 0.0), (4318, 0.0), (4319, 0.0), (4320, 0.0), (4321, 0.018005548597361854), (4322, 0.0), (4323, 0.0), (4324, 0.0), (4325, 0.008632316845778532), (4326, 0.0), (4327, 0.0), (4328, 0.0), (4329, 0.0), (4330, 0.004263358073165995), (4331, 0.0), (4332, 0.0), (4333, 0.00460302075753035), (4334, 0.003997884275229945), (4335, 0.010306024609454862), (4336, 0.01064321606761227), (4337, 0.006969637558773756), (4338, 0.0), (4339, 0.0), (4340, 0.0), (4341, 0.0), (4342, 0.005935939884716102), (4343, 0.0), (4344, 0.008880606325820823), (4345, 0.003746211306624827), (4346, 0.0), (4347, 0.0), (4348, 0.0), (4349, 0.015679714913605033), (4350, 0.003620086831256756), (4351, 0.007255652980316825), (4352, 0.0), (4353, 0.0), (4354, 0.0), (4355, 0.0), (4356, 0.00400071203906552), (4357, 0.004056639452471815), (4358, 0.0), (4359, 0.0), (4360, 0.0), (4361, 0.0), (4362, 0.003812991708327508), (4363, 0.0), (4364, 0.0), (4365, 0.0), (4366, 0.008201786190156156), (4367, 0.007023512854189109), (4368, 0.004421007850872255), (4369, 0.004402005039017107), (4370, 0.0), (4371, 0.010983409252602445), (4372, 0.0), (4373, 0.004935727782526418), (4374, 0.012216050392731066), (4375, 0.05474376985218945), (4376, 0.0), (4377, 0.0), (4378, 0.0), (4379, 0.014288355752281023), (4380, 0.018491474945752165), (4381, 0.0), (4382, 0.02089523619930354), (4383, 0.0), (4384, 0.0), (4385, 0.005565566873147534), (4386, 0.0), (4387, 0.01265105670826078), (4388, 0.006526524612491406), (4389, 0.05578644727901036), (4390, 0.0), (4391, 0.0), (4392, 0.0), (4393, 0.0), (4394, 0.003761090092366133), (4395, 0.01930732992769161), (4396, 0.0), (4397, 0.0), (4398, 0.018918582626710066), (4399, 0.014789512546974502), (4400, 0.0), (4401, 0.004168844807946373), (4402, 0.028453091377604885), (4403, 0.016809677633922975), (4404, 0.0), (4405, 0.0), (4406, 0.0), (4407, 0.0), (4408, 0.0), (4409, 0.0), (4410, 0.0), (4411, 0.0033699456566488434), (4412, 0.004909669071064059), (4413, 0.0), (4414, 0.0), (4415, 0.0), (4416, 0.0), (4417, 0.0), (4418, 0.0), (4419, 0.0041968534603345565), (4420, 0.004044194387987549), (4421, 0.0), (4422, 0.004072014399978551), (4423, 0.0), (4424, 0.0), (4425, 0.0), (4426, 0.0), (4427, 0.0), (4428, 0.0), (4429, 0.003651962809712254), (4430, 0.004169840070248967), (4431, 0.0), (4432, 0.00336243892645034), (4433, 0.0), (4434, 0.0), (4435, 0.009643281996364807), (4436, 0.016849218154516697), (4437, 0.0), (4438, 0.0), (4439, 0.0), (4440, 0.008217171492249518), (4441, 0.0), (4442, 0.008866783719280324), (4443, 0.035432844299390094), (4444, 0.005124161027084186), (4445, 0.0), (4446, 0.004128996941078258), (4447, 0.0), (4448, 0.004366934059615972), (4449, 0.0), (4450, 0.02583564952353196), (4451, 0.0), (4452, 0.0), (4453, 0.0), (4454, 0.0), (4455, 0.0), (4456, 0.04895520180752707), (4457, 0.0), (4458, 0.0), (4459, 0.00604025843512533), (4460, 0.0), (4461, 0.0), (4462, 0.0), (4463, 0.0), (4464, 0.0), (4465, 0.010202012887985968), (4466, 0.0157174513408924), (4467, 0.006632717819036481), (4468, 0.0), (4469, 0.011679949651803823), (4470, 0.004175701373385287), (4471, 0.0), (4472, 0.003730141764960727), (4473, 0.0036331970038444347), (4474, 0.009399614042193206), (4475, 0.013469764371112492), (4476, 0.0), (4477, 0.004727643082887315), (4478, 0.0), (4479, 0.0036350302748490663), (4480, 0.0), (4481, 0.008976366437666628), (4482, 0.014941267239486902), (4483, 0.0), (4484, 0.005205405168482633), (4485, 0.0), (4486, 0.006740398105745625), (4487, 0.003892071715317806), (4488, 0.03851898840497164), (4489, 0.0041548386263932325), (4490, 0.004859539903718842), (4491, 0.0), (4492, 0.019289391216322935), (4493, 0.0), (4494, 0.0044709889956103385), (4495, 0.0), (4496, 0.0), (4497, 0.0), (4498, 0.0), (4499, 0.0), (4500, 0.0), (4501, 0.004112841000214032), (4502, 0.012164951253908526), (4503, 0.012902627510976277), (4504, 0.015344050437979335), (4505, 0.0), (4506, 0.0), (4507, 0.00423575876440556), (4508, 0.0), (4509, 0.0), (4510, 0.009605075911018635), (4511, 0.01030514128871926), (4512, 0.01095717802548143), (4513, 0.0), (4514, 0.0), (4515, 0.0), (4516, 0.004543755285258988), (4517, 0.004558195864685118), (4518, 0.0), (4519, 0.0), (4520, 0.0042321115793514195), (4521, 0.004775615543762968), (4522, 0.004467815787687547), (4523, 0.0039564283293498), (4524, 0.007937711036364417), (4525, 0.0), (4526, 0.0), (4527, 0.0), (4528, 0.0043099645405255144), (4529, 0.0), (4530, 0.003859082587262383), (4531, 0.010064757540763867), (4532, 0.0), (4533, 0.03127260723622127), (4534, 0.017322417053670817), (4535, 0.0043068918601394494), (4536, 0.0036860483143949705), (4537, 0.0), (4538, 0.0), (4539, 0.0), (4540, 0.0), (4541, 0.0), (4542, 0.0), (4543, 0.0), (4544, 0.0), (4545, 0.0), (4546, 0.00520653357193762), (4547, 0.0), (4548, 0.0), (4549, 0.0), (4550, 0.0), (4551, 0.013859278242374996), (4552, 0.0), (4553, 0.008507441768571983), (4554, 0.018161857944952405), (4555, 0.006161346106587702), (4556, 0.0), (4557, 0.009683188976888234), (4558, 0.0), (4559, 0.0), (4560, 0.0), (4561, 0.0), (4562, 0.0), (4563, 0.004010094155684688), (4564, 0.006309503309780179), (4565, 0.0), (4566, 0.0042890416091043776), (4567, 0.0), (4568, 0.0), (4569, 0.0), (4570, 0.0), (4571, 0.005981471871282387), (4572, 0.0), (4573, 0.0042865746811719205), (4574, 0.0), (4575, 0.0044657680315116155), (4576, 0.006111063210288335), (4577, 0.0), (4578, 0.0), (4579, 0.0), (4580, 0.0), (4581, 0.009217653440050863), (4582, 0.0), (4583, 0.015777936341496965), (4584, 0.0), (4585, 0.0), (4586, 0.0), (4587, 0.0), (4588, 0.043005937886892255), (4589, 0.0044762843551675495), (4590, 0.02742945856467729), (4591, 0.003707680368328361), (4592, 0.0), (4593, 0.00445224969482937), (4594, 0.004631168360159636), (4595, 0.0), (4596, 0.011217711611866209), (4597, 0.0), (4598, 0.0), (4599, 0.0), (4600, 0.0), (4601, 0.004125668706674255), (4602, 0.030166678516206583), (4603, 0.010781526026709811), (4604, 0.0), (4605, 0.00718486555677188), (4606, 0.0), (4607, 0.0), (4608, 0.022585520254847738), (4609, 0.0), (4610, 0.01635218541794802), (4611, 0.0), (4612, 0.0), (4613, 0.0), (4614, 0.05974836563249506), (4615, 0.0), (4616, 0.0), (4617, 0.005381198355384674), (4618, 0.0), (4619, 0.004797959048445162), (4620, 0.0), (4621, 0.0), (4622, 0.0), (4623, 0.009096582748169215), (4624, 0.0042755554536277945), (4625, 0.0043953864741157695), (4626, 0.003339566997526924), (4627, 0.013938113828968028), (4628, 0.0), (4629, 0.004053937376915113), (4630, 0.0), (4631, 0.0), (4632, 0.00499861886853026), (4633, 0.0), (4634, 0.0), (4635, 0.0), (4636, 0.0033568524769120728), (4637, 0.005224106204410164), (4638, 0.003856975951519715), (4639, 0.0), (4640, 0.0038938990637037395), (4641, 0.0), (4642, 0.0), (4643, 0.0041600519893576346), (4644, 0.0), (4645, 0.0), (4646, 0.0), (4647, 0.0), (4648, 0.0), (4649, 0.005981680109165199), (4650, 0.00446262972620157), (4651, 0.0), (4652, 0.005672119724822409), (4653, 0.0), (4654, 0.0), (4655, 0.0), (4656, 0.010339338227358115), (4657, 0.004347280765309632), (4658, 0.018683441979793523), (4659, 0.0), (4660, 0.004854107974595875), (4661, 0.0), (4662, 0.0), (4663, 0.0), (4664, 0.0), (4665, 0.0), (4666, 0.0), (4667, 0.0), (4668, 0.0040545867608704714), (4669, 0.01420376526099463), (4670, 0.003874578380355062), (4671, 0.0), (4672, 0.0), (4673, 0.012346020407641597), (4674, 0.0031647156495511154), (4675, 0.0), (4676, 0.0), (4677, 0.0), (4678, 0.0), (4679, 0.018782864488033107), (4680, 0.0), (4681, 0.0), (4682, 0.049697033266110496), (4683, 0.0), (4684, 0.024949822002342213), (4685, 0.007089844814023013), (4686, 0.0), (4687, 0.0), (4688, 0.0), (4689, 0.0), (4690, 0.0), (4691, 0.0), (4692, 0.0), (4693, 0.0), (4694, 0.0), (4695, 0.0069607124003622945), (4696, 0.0), (4697, 0.0), (4698, 0.0), (4699, 0.0043495898826582755), (4700, 0.0), (4701, 0.02273618999591697), (4702, 0.0), (4703, 0.029229823613304097), (4704, 0.0), (4705, 0.0), (4706, 0.0045345266494733905), (4707, 0.0), (4708, 0.0), (4709, 0.0), (4710, 0.00529519526535189), (4711, 0.0), (4712, 0.0037809096462425376), (4713, 0.004572086300527313), (4714, 0.0), (4715, 0.0), (4716, 0.0), (4717, 0.0), (4718, 0.0045581452308060206), (4719, 0.0), (4720, 0.0), (4721, 0.03316980527098639), (4722, 0.004475056299176134), (4723, 0.005039378262448459), (4724, 0.011307437575106811), (4725, 0.0), (4726, 0.005862811234925115), (4727, 0.03814423474769294), (4728, 0.0), (4729, 0.0), (4730, 0.0), (4731, 0.023489453844729762), (4732, 0.0), (4733, 0.0034008589257341535), (4734, 0.004348929691807819), (4735, 0.010804288734872177), (4736, 0.0), (4737, 0.0), (4738, 0.006381627134926478), (4739, 0.019708597632054438), (4740, 0.0), (4741, 0.0), (4742, 0.0), (4743, 0.0), (4744, 0.0), (4745, 0.0), (4746, 0.0), (4747, 0.0105484121735138), (4748, 0.0057223336994437065), (4749, 0.0), (4750, 0.0), (4751, 0.0), (4752, 0.0027438707868808546), (4753, 0.0), (4754, 0.0), (4755, 0.0), (4756, 0.0), (4757, 0.0), (4758, 0.0), (4759, 0.0)]\n"
          ]
        }
      ]
    },
    {
      "cell_type": "code",
      "source": [
        "len(Recommendation_Score)"
      ],
      "metadata": {
        "colab": {
          "base_uri": "https://localhost:8080/"
        },
        "id": "hLMIMF1TcEsd",
        "outputId": "34cb2be1-89cf-45d4-e304-03d4d5549787"
      },
      "execution_count": 52,
      "outputs": [
        {
          "output_type": "execute_result",
          "data": {
            "text/plain": [
              "4760"
            ]
          },
          "metadata": {},
          "execution_count": 52
        }
      ]
    },
    {
      "cell_type": "markdown",
      "source": [
        "# **Get All Movies Sort Based on Recommendation Score wrt Favourite Movie**"
      ],
      "metadata": {
        "id": "uVG-FBXxe4NU"
      }
    },
    {
      "cell_type": "code",
      "source": [
        "#sorting the movies based on their similarity score\n",
        "Sorted_Similar_Movies = sorted(Recommendation_Score, key = lambda x:x[1], reverse = True) # Changed 'Key' to 'key'\n",
        "print(Sorted_Similar_Movies)"
      ],
      "metadata": {
        "colab": {
          "base_uri": "https://localhost:8080/"
        },
        "id": "NVHbzZjUhKMT",
        "outputId": "f513a98e-c4ca-430e-8afc-2e8aba54a4c3"
      },
      "execution_count": 68,
      "outputs": [
        {
          "output_type": "stream",
          "name": "stdout",
          "text": [
            "[(2692, 0.9999999999999993), (110, 0.08620129364166063), (1383, 0.08467787395826493), (1994, 0.08441522059962148), (3053, 0.082214952563375), (628, 0.08189428359493295), (2558, 0.0803938687170954), (1341, 0.07933702055672301), (1977, 0.07886696214195395), (3480, 0.07369662427345539), (62, 0.07036177890769166), (2538, 0.07014798939672139), (1886, 0.06989515757891204), (1118, 0.06553281238990606), (2903, 0.06458380602050255), (254, 0.06390942989855639), (1021, 0.0621533075542114), (3728, 0.060998108226386044), (2112, 0.06089803777643934), (2318, 0.060681809955950655), (4614, 0.05974836563249506), (2026, 0.05954146094104332), (3655, 0.05810369106208768), (227, 0.057694303194498184), (1134, 0.05609597736243438), (4389, 0.05578644727901036), (4062, 0.05546533123505035), (1243, 0.055393429583012785), (3385, 0.055257039832259006), (4375, 0.05474376985218945), (2214, 0.05385854284321093), (3203, 0.05378903061536873), (3946, 0.05373068235938955), (873, 0.053098105476794485), (292, 0.0530737240897437), (4268, 0.052065783088515186), (137, 0.05149018717856177), (1070, 0.05140348470353139), (2294, 0.05108291231212571), (213, 0.05043884140044382), (2944, 0.049786054528318455), (1809, 0.04970948849302179), (4682, 0.049697033266110496), (1023, 0.0496722068680389), (1821, 0.04966272822202979), (2133, 0.049641896342452266), (2579, 0.04957000097274123), (3518, 0.04925733372833531), (45, 0.049178568413310975), (2191, 0.049062417958972135), (4456, 0.04895520180752707), (2550, 0.04871671870065587), (3779, 0.048661476542516464), (1030, 0.04845174533336075), (2893, 0.048065517874614466), (408, 0.048051195680254094), (3294, 0.04780840223667759), (877, 0.047689506630489424), (2653, 0.04761177260922481), (3973, 0.04756627512929574), (3753, 0.047561633666005694), (3552, 0.04755000302124761), (519, 0.04719907205044007), (3276, 0.04691935452785122), (2694, 0.046912674215390214), (2630, 0.04678410845502517), (328, 0.04581851065708302), (479, 0.04575962758483945), (3023, 0.04521033611778769), (904, 0.04518363044344044), (3408, 0.0450998349810236), (3427, 0.04486201146900635), (3249, 0.04479465139713948), (1320, 0.04429859116626895), (615, 0.04423962101550381), (2374, 0.044083614486451435), (1850, 0.04370029646916035), (2375, 0.04340984635552763), (1647, 0.043289640127775024), (1248, 0.04314813467772326), (4588, 0.043005937886892255), (4137, 0.04294136734422112), (1358, 0.042710475564491465), (412, 0.042657620623841125), (682, 0.04249951257013236), (2869, 0.042323358857027656), (1506, 0.042301049097834345), (2859, 0.04216308313940638), (637, 0.0420928069118451), (67, 0.04204990830435302), (172, 0.041999775199157985), (1292, 0.04188059281864641), (1871, 0.04186350977211422), (438, 0.04184133993701525), (185, 0.041595009602477924), (1311, 0.04146218892693458), (3209, 0.04144852779929484), (210, 0.041442540420514234), (830, 0.04121089829132145), (2212, 0.041132781282475696), (3955, 0.04105776537205403), (3793, 0.040534197992633275), (1241, 0.04023902042549457), (2321, 0.03999039042396655), (1675, 0.03993196414525336), (3947, 0.03992185893467208), (1527, 0.03960029435806615), (1085, 0.03957930680445846), (2122, 0.03957587569807058), (89, 0.03938898210435054), (2716, 0.0390871091413951), (174, 0.038671666243208704), (2316, 0.038662838751864215), (3731, 0.03857621013880905), (3362, 0.03856562590349494), (1369, 0.03855765433848061), (4488, 0.03851898840497164), (4727, 0.03814423474769294), (1024, 0.038095090882867846), (788, 0.03804773545765453), (3652, 0.03793510286303949), (387, 0.03774312226872202), (108, 0.0377242124197539), (1676, 0.037715053745992516), (710, 0.0376426358374173), (2082, 0.03755259306173617), (44, 0.03743910715940646), (1885, 0.037238151707959515), (578, 0.037228787789575626), (1393, 0.03706434040064966), (3004, 0.036862345206014696), (3983, 0.03684834175603075), (818, 0.03672360446721652), (1389, 0.03640198919365837), (2123, 0.036365612265492765), (3351, 0.03622886570815606), (2540, 0.03601480155071374), (3255, 0.0359152710711923), (1379, 0.035866785834000714), (2365, 0.035792994593630556), (3463, 0.03571289651250236), (903, 0.03565254682566379), (4443, 0.035432844299390094), (632, 0.035014029310442916), (2868, 0.034941389996149534), (2014, 0.03486424584746276), (3102, 0.03477967047664321), (2706, 0.03466670754429069), (1982, 0.0346296246703486), (1195, 0.03460260258634108), (3486, 0.034542645420769964), (3498, 0.03426122185779299), (2782, 0.03426052835743741), (126, 0.03392639899440966), (2807, 0.03377722995303253), (4165, 0.03369723091197782), (694, 0.03368356853586606), (166, 0.03345733563003645), (3572, 0.0333927300823953), (4005, 0.03333010906909575), (2622, 0.03330919944997749), (3430, 0.03328619468469763), (4721, 0.03316980527098639), (1750, 0.03312571503825679), (65, 0.032968439278367165), (2981, 0.03296650300605067), (540, 0.0329262577097774), (1063, 0.03268673641742558), (2887, 0.03260338078218047), (4035, 0.03258718754865412), (618, 0.032476498785523306), (3248, 0.03238474699696246), (812, 0.03233819893046779), (1648, 0.03233053492778136), (2517, 0.03225809328285961), (1398, 0.032147241600709656), (4141, 0.032087509961127636), (935, 0.03208701983205687), (179, 0.03207165241220424), (430, 0.03203991411967737), (3280, 0.03203701773333541), (1568, 0.03178157819440188), (1146, 0.03172100224139183), (3017, 0.031605313494865284), (1464, 0.031531961884093934), (2198, 0.03140209657288613), (4533, 0.03127260723622127), (1795, 0.03123858742614274), (1868, 0.03114230671953136), (2710, 0.031138079706058894), (1272, 0.031089039338165977), (3556, 0.031079205400509104), (2876, 0.031054534637173507), (1367, 0.030993558918343947), (3904, 0.030814982883160945), (3656, 0.030788049957889252), (2723, 0.030753089354897813), (384, 0.030709223686080832), (1405, 0.03054499691730607), (3470, 0.030525289352054435), (2102, 0.030451159204609047), (2687, 0.03036071872153922), (421, 0.03029676783684518), (4177, 0.030293077942944335), (4602, 0.030166678516206583), (3313, 0.029943520424597296), (2920, 0.02989820131164255), (2467, 0.02981358827191354), (1068, 0.02980015467163461), (3376, 0.0297978159640524), (2114, 0.029691953298075856), (836, 0.029631761700672134), (465, 0.029618525320491047), (1095, 0.029596489443177665), (2751, 0.02955668130662724), (3850, 0.02949811475529369), (1046, 0.029294829396150582), (3377, 0.02925535728039505), (25, 0.029235123161060653), (4703, 0.029229823613304097), (3127, 0.02917027076492698), (3574, 0.02915124364121884), (193, 0.02900262347321822), (911, 0.028916392364867646), (282, 0.028809735864453526), (3157, 0.028612014793861155), (1763, 0.028482656451767202), (4402, 0.028453091377604885), (3871, 0.028354131289202795), (2413, 0.02831393311274513), (176, 0.02826398446191173), (424, 0.02812702821301643), (112, 0.028126161501573346), (3420, 0.028032459338352952), (629, 0.027966866813138026), (459, 0.027938907328231125), (2443, 0.027863198712880382), (2037, 0.027836068569530123), (2908, 0.027807703768316414), (1720, 0.027718271307142786), (1999, 0.027700605854759766), (3868, 0.02768011109891149), (3154, 0.02753219580171562), (2484, 0.02747771190427703), (4590, 0.02742945856467729), (3720, 0.02742605291785728), (1186, 0.027393768409906056), (2020, 0.02725529427269808), (3447, 0.02722478199708327), (2762, 0.027191890820555006), (3751, 0.027179392768882177), (3428, 0.027095693831999737), (3488, 0.027095467743490875), (2023, 0.027049494235801132), (3961, 0.027021017304652874), (381, 0.026941555995941717), (3559, 0.02690671990820748), (530, 0.02683470298318827), (824, 0.026802187220327563), (1059, 0.026800637958047064), (3835, 0.02668951882172465), (1976, 0.026655523215249742), (250, 0.026641030311480865), (2481, 0.02651215165826409), (2791, 0.02647103457482434), (1585, 0.026430438071848566), (84, 0.02637411128603854), (4104, 0.026256485566143826), (3260, 0.026237946673990386), (2487, 0.026185730243089563), (1544, 0.026170903338470844), (1043, 0.026166513739692948), (2011, 0.02615637846487215), (2157, 0.026094255905642492), (1283, 0.026012866974954), (515, 0.025996789303669242), (4128, 0.025932301048822333), (2221, 0.025927677797020182), (109, 0.02585823482917868), (4450, 0.02583564952353196), (864, 0.02582810800437168), (672, 0.025737874255935565), (3045, 0.02569259844386332), (269, 0.025528632868868178), (3913, 0.025303577147555854), (976, 0.025288098804836907), (2449, 0.02526403161168113), (240, 0.02524264328025536), (3156, 0.025223532990205372), (2649, 0.02511037254797886), (3450, 0.0251086742409525), (398, 0.02502913155595614), (4004, 0.02502340361794493), (4684, 0.024949822002342213), (1990, 0.024884574444107063), (2718, 0.024867735607527867), (1970, 0.02479403351932514), (1500, 0.024792112842736466), (284, 0.02468508745219134), (2013, 0.024681424179036748), (3167, 0.024609640648554452), (2971, 0.024551333785323343), (2560, 0.02454626790717465), (952, 0.02446039819299257), (885, 0.024366873680849763), (613, 0.024266507957278548), (1788, 0.024263569481138874), (3852, 0.024219265278051613), (1757, 0.02418267627113274), (3285, 0.024138763131868798), (3344, 0.024034680129896194), (138, 0.023988084260873604), (1845, 0.023900962063816776), (1935, 0.023885010083056397), (917, 0.023880494091912646), (15, 0.023787444472435082), (1749, 0.02376356823088981), (124, 0.023704748430509105), (3839, 0.023677357885292783), (3801, 0.023670449047201458), (371, 0.023663783477142646), (670, 0.023576128090897604), (3010, 0.0235642717380176), (68, 0.02354421465859653), (4731, 0.023489453844729762), (1314, 0.023334932123104876), (2055, 0.023276615506261672), (3083, 0.023238639323368972), (1652, 0.023164007798524407), (3778, 0.0231201472100956), (942, 0.02310787239747762), (3345, 0.023006641187630503), (4016, 0.02289872823874734), (1505, 0.022742495723649565), (4701, 0.02273618999591697), (1351, 0.022687811765973634), (3319, 0.02267079101313735), (4608, 0.022585520254847738), (3923, 0.0224656066953903), (3711, 0.022346428618169593), (383, 0.02227474911641296), (1707, 0.022267750825411693), (566, 0.022256303301499747), (1397, 0.02222290604880982), (3927, 0.022213658598497575), (3492, 0.022180464018799265), (832, 0.02214058863138699), (2362, 0.02211284795102303), (2638, 0.022099259817612384), (2767, 0.022089287787979195), (1671, 0.022089272120949036), (2646, 0.022088732434624503), (455, 0.022033501749147675), (2885, 0.02201052596313147), (2210, 0.021999845761510668), (4283, 0.021912182325787368), (2621, 0.021762077019760902), (706, 0.021715450717900396), (967, 0.021692219556480964), (1515, 0.021689464448830867), (1492, 0.021558164349061486), (2018, 0.021535585543597285), (2301, 0.021491316429946415), (2995, 0.021483832099625216), (795, 0.02146631505361905), (3692, 0.0214191722918381), (2932, 0.021414812313098358), (858, 0.021395061040103944), (3352, 0.02138712229180394), (1141, 0.021374862430917824), (1261, 0.021365120918186334), (334, 0.0213116698953177), (175, 0.02124612366046979), (2040, 0.021241485428990563), (1132, 0.021158073670306293), (3222, 0.020955207391578592), (691, 0.020941034684730252), (116, 0.020924608298190473), (4382, 0.02089523619930354), (1861, 0.020825046558629205), (1412, 0.020742125279058096), (330, 0.020677600183640166), (1052, 0.02067289255786622), (763, 0.02056746540211281), (204, 0.02045187182039626), (3153, 0.020450133126450012), (3483, 0.02035655103527037), (1173, 0.020301788863137212), (590, 0.02022784351576567), (4156, 0.02022554619918844), (3144, 0.02018708802406016), (364, 0.020170525663105243), (1865, 0.02016470452030333), (3469, 0.020155292708266298), (3810, 0.020102665749126867), (2469, 0.020101364395239102), (1942, 0.01993941238720442), (657, 0.01978749908823576), (2745, 0.019779514429691347), (2582, 0.01973980294361852), (2867, 0.019738988692916286), (3553, 0.019712248678081013), (4739, 0.019708597632054438), (3934, 0.01968849996045862), (2647, 0.01968405878637236), (33, 0.01967129441383477), (1985, 0.019667527662593387), (2808, 0.019645112392658953), (3036, 0.01962114019835162), (1137, 0.01958928599930055), (1175, 0.019585166315608565), (1471, 0.019567235940465916), (123, 0.01951279104195689), (3111, 0.01949233001906734), (3403, 0.019485539105825695), (2237, 0.019473256020303985), (2841, 0.019445607333023075), (2689, 0.019433292733609078), (4053, 0.019432584991304423), (3471, 0.01942160296137515), (3433, 0.01931588784123481), (4395, 0.01930732992769161), (4492, 0.019289391216322935), (1629, 0.01927076886505833), (947, 0.019098336946099977), (2368, 0.01908623450716274), (1847, 0.01902701127156121), (3978, 0.019023145500440795), (2777, 0.01901818748080982), (4189, 0.018945633326548597), (2760, 0.01893868871694757), (796, 0.018933521808547838), (1365, 0.018926629143595816), (199, 0.018922081229510036), (4398, 0.018918582626710066), (3875, 0.018906385086502338), (2712, 0.018879290682857864), (2553, 0.018861999869139476), (2035, 0.018835146639616565), (1245, 0.01883083236232558), (929, 0.01881134200616763), (4679, 0.018782864488033107), (870, 0.018693125087854822), (4658, 0.018683441979793523), (3504, 0.018668170669576063), (442, 0.018654184510195918), (4088, 0.01862654588671533), (85, 0.0186237308329689), (4012, 0.01861585296753475), (2931, 0.01861524704197286), (3446, 0.018573386167624484), (4380, 0.018491474945752165), (643, 0.018482523849202702), (4149, 0.01848154757919037), (1385, 0.018461334193946712), (61, 0.01845287843258362), (553, 0.01842661162276654), (3091, 0.01838616645482047), (1878, 0.018324019979346403), (638, 0.01827400203876904), (2149, 0.018214819735595147), (2167, 0.018201247322361957), (2598, 0.018167084837677868), (4554, 0.018161857944952405), (145, 0.018153495112341673), (1033, 0.018143372706874376), (4176, 0.018111261972237697), (181, 0.01809916749693451), (2823, 0.01808743635527992), (2513, 0.018077402874086573), (669, 0.018047126921281534), (768, 0.018043007208813747), (4321, 0.018005548597361854), (1386, 0.017971053054686985), (218, 0.017966117474642593), (1403, 0.017958504792858924), (3395, 0.017952509793492707), (261, 0.01794133149404185), (2347, 0.01793833253014403), (4281, 0.01790260055822582), (3665, 0.01789666879000137), (2607, 0.017755665947375057), (757, 0.017692560297752295), (4288, 0.017690921073622), (4050, 0.01766130632842907), (1274, 0.017644907478132268), (1216, 0.017597623719886588), (551, 0.017570552422677563), (106, 0.01747270135850175), (3976, 0.01747195650774416), (409, 0.017460652063770024), (2795, 0.01743273325424835), (251, 0.0173654263988124), (3528, 0.017357484989230548), (2645, 0.01733394526826792), (4246, 0.01733074236455533), (4534, 0.017322417053670817), (794, 0.017277203131509697), (147, 0.017208506213748913), (1609, 0.01719366249691532), (345, 0.017167094428202863), (776, 0.017159123980917297), (3857, 0.017095393718528383), (1064, 0.017090709054150326), (3895, 0.017042920987878886), (1579, 0.01700704921078255), (1003, 0.016985655912537055), (3541, 0.016941839362625864), (1996, 0.01692029440542641), (1270, 0.016909187861083076), (1817, 0.01689612326725119), (4436, 0.016849218154516697), (1572, 0.016828352155303712), (4403, 0.016809677633922975), (547, 0.016803612737204602), (437, 0.01678797307803674), (3828, 0.01676996569485203), (867, 0.01675392406999396), (3098, 0.01674806531224822), (2027, 0.016721394812021395), (2258, 0.01667540839106343), (3095, 0.016633816881834233), (3306, 0.016627467483872723), (3462, 0.01662174458289568), (3275, 0.01661986236940697), (677, 0.016602254552339), (2070, 0.016583730780926998), (1872, 0.016563906842090886), (1377, 0.016554107001934867), (1257, 0.01654328932036471), (2654, 0.016476955664468454), (343, 0.016462715739996713), (1445, 0.016459462922005844), (2161, 0.016414874027419125), (209, 0.016374943368145253), (3558, 0.016365487696636486), (1116, 0.01636500234926204), (374, 0.01635495464486576), (4610, 0.01635218541794802), (1202, 0.016333356018636194), (787, 0.01628820068726303), (358, 0.016282453191099704), (3675, 0.0162543764480756), (1361, 0.016214655397844353), (1510, 0.016185760930361334), (1838, 0.016173732822533), (2650, 0.01613666084978233), (779, 0.01611577848979755), (3019, 0.016097301632887043), (2353, 0.016081474575771543), (2290, 0.016049976181701623), (3000, 0.016024643923828134), (3226, 0.016020306078495004), (2406, 0.015997634458810105), (83, 0.01598521253703576), (1945, 0.015946300184878522), (1045, 0.015911172297806954), (1512, 0.015835338360069066), (252, 0.015796766726236814), (1053, 0.015790477408013565), (4583, 0.015777936341496965), (3684, 0.01574654848211882), (3375, 0.01573860138177408), (510, 0.01572100463598996), (4466, 0.0157174513408924), (934, 0.015689561240579204), (4349, 0.015679714913605033), (4314, 0.015674231607421034), (1682, 0.015630072040560727), (1759, 0.015611869267683856), (2440, 0.015609602097139842), (1128, 0.015584033429082737), (937, 0.015557325869224458), (968, 0.015545818106250317), (2276, 0.015536238901252119), (3284, 0.015527893678585956), (1880, 0.015491388855666796), (586, 0.015455538183041321), (3597, 0.01542923206789938), (1927, 0.015418477420387343), (2119, 0.01541796115964308), (4081, 0.015401339365791546), (1906, 0.015391948128458647), (1112, 0.015351288708610722), (1523, 0.015349930142626046), (4504, 0.015344050437979335), (2110, 0.015292398103182399), (2298, 0.015284594577331294), (2639, 0.015274696711560875), (21, 0.0152618017922902), (957, 0.015246913270500422), (161, 0.015244300309899497), (1741, 0.015223882616018394), (1417, 0.015210803224778907), (3580, 0.015207647985486992), (4231, 0.015205477560503257), (684, 0.015179003331598627), (2376, 0.015159560420045303), (860, 0.015140329121202535), (3295, 0.015116791065935675), (1074, 0.015066889061147042), (1843, 0.01505838411646999), (203, 0.0149753163392062), (287, 0.014970206164354127), (2644, 0.01495497314016911), (3958, 0.014948801282688814), (4482, 0.014941267239486902), (533, 0.014900408366229995), (144, 0.014873925881366786), (2618, 0.014859148131411442), (833, 0.014854263080147005), (808, 0.014848398859774728), (458, 0.01484375713565931), (1774, 0.014811884269915528), (1184, 0.01480704321235339), (4399, 0.014789512546974502), (222, 0.014781378028337533), (1278, 0.014772796694240796), (3466, 0.014701859709165153), (3360, 0.014701615600784968), (1275, 0.014697744923811323), (1384, 0.0146936818739556), (48, 0.01456789202919175), (2568, 0.014560845784230673), (3853, 0.01455822148638091), (496, 0.014549127619631397), (3043, 0.014542642215050312), (1162, 0.01450182657867938), (1716, 0.014493963830338208), (1152, 0.014484529057588416), (1895, 0.014480951448497878), (701, 0.014465858287066374), (7, 0.014447024270298862), (3328, 0.014403721376326608), (3861, 0.014403143908110462), (46, 0.014372305579407328), (2742, 0.014366615484190982), (1119, 0.014366352748883971), (916, 0.014335134880511184), (874, 0.014316309392473936), (1331, 0.014302970488367697), (2460, 0.01430076394964162), (4379, 0.014288355752281023), (75, 0.014276855143467828), (2097, 0.014264745374365784), (3862, 0.014253530617260158), (2522, 0.014247888195219993), (3992, 0.014208279306615182), (4669, 0.01420376526099463), (3421, 0.01419426834157336), (2874, 0.014185045532567563), (2969, 0.014171338203363484), (3959, 0.014168597404103846), (3253, 0.014167576278725343), (3694, 0.014164343680781896), (2366, 0.014133423475281761), (1997, 0.014128557651317647), (534, 0.014122390212803567), (3630, 0.014094699174902324), (3924, 0.014080395300730514), (120, 0.014074829774526768), (160, 0.014044974807978648), (986, 0.014020566286541535), (450, 0.014018419962062895), (3356, 0.013988733054280753), (1232, 0.013972186326951993), (2334, 0.013957019866020442), (3750, 0.01395567345652665), (3374, 0.013939200758829536), (4627, 0.013938113828968028), (1853, 0.013930534479797928), (13, 0.013923146582614643), (584, 0.01390840899389472), (3086, 0.013888320640188098), (2016, 0.01386817721695017), (4551, 0.013859278242374996), (2053, 0.013841783291841159), (3210, 0.013837377176840986), (896, 0.013830126559026995), (43, 0.013821797272820766), (2996, 0.013782595141762902), (2254, 0.013781006231230039), (2474, 0.013769082092696908), (1254, 0.013766629985874752), (3777, 0.013758886789764179), (1224, 0.013748746821718373), (1401, 0.013743514618343543), (3437, 0.013738745169760463), (2000, 0.01373741616337068), (429, 0.01368944012881561), (1317, 0.013668082068823069), (3612, 0.013664283263512421), (1018, 0.013650967721643082), (2919, 0.013643619153734963), (2917, 0.013642233943137329), (2910, 0.01363742055738138), (2805, 0.01362290732726647), (879, 0.013602298988552655), (2934, 0.01359503585243545), (433, 0.013586941257967545), (609, 0.01356732550059287), (543, 0.013533201436128569), (622, 0.013511381498861327), (231, 0.013506194867421384), (2052, 0.013492342400294986), (4475, 0.013469764371112492), (407, 0.013463059089568427), (1443, 0.013384876531506997), (2279, 0.01336383626846159), (545, 0.013357851984964838), (87, 0.013349880033302158), (86, 0.013346932816781058), (3129, 0.013344402407891922), (270, 0.0133344061248445), (51, 0.013331554377347003), (5, 0.013320862803467556), (1252, 0.013294402786312064), (296, 0.013285828124893422), (2489, 0.013261578791528577), (2886, 0.013240992442495901), (2695, 0.0132069259528261), (3279, 0.013205021058340411), (1334, 0.01320345373848919), (3297, 0.013196772910459027), (2177, 0.013192000947874033), (2961, 0.013152002498714215), (502, 0.013144712459766388), (1160, 0.013141971133541748), (1967, 0.013139743199697691), (692, 0.0131093629876192), (2784, 0.013066803486553943), (1342, 0.013066512962319672), (814, 0.013048836378940025), (906, 0.013014891387431941), (1802, 0.012989520694336449), (3213, 0.01298042510953345), (1239, 0.012968059589611636), (2250, 0.012938851189652477), (3299, 0.012932660417581348), (4503, 0.012902627510976277), (4068, 0.012902193432035728), (1655, 0.012889282566704645), (806, 0.012884087313350128), (2024, 0.012878486864971242), (1337, 0.012875114382266531), (1621, 0.012868104323511164), (3142, 0.012867163388609406), (3508, 0.01286128963080247), (1129, 0.012861077023544502), (3171, 0.012858484246836242), (1035, 0.012849870560146737), (370, 0.012815700251274171), (1721, 0.012812336523216217), (2216, 0.012809710985473753), (452, 0.012756531782229446), (3119, 0.01274815085191649), (988, 0.01274504488817008), (88, 0.012742224960935425), (866, 0.012739315901799582), (1183, 0.012727163756224912), (799, 0.012679584704225609), (2512, 0.01267255859778647), (620, 0.012661873268597267), (329, 0.012652823348850402), (4387, 0.01265105670826078), (1360, 0.012641206190724242), (1376, 0.012641187876547198), (2154, 0.0126374353119715), (52, 0.0126217897738721), (149, 0.012608608905577974), (989, 0.012601885566616016), (1919, 0.012584544874788562), (1752, 0.012557319020228292), (1293, 0.012537188257476396), (676, 0.012525593030021875), (878, 0.012492451000952025), (3228, 0.012453514376448115), (1493, 0.012442208689734523), (1988, 0.012419640523544129), (4192, 0.012402167414986225), (1654, 0.012387170363260933), (1665, 0.0123756862748354), (1595, 0.012374799436088645), (1658, 0.01235395325492124), (4673, 0.012346020407641597), (276, 0.01234044048388996), (2769, 0.012313081141119585), (3370, 0.012302244374127845), (511, 0.012282408693222772), (1787, 0.012229536576286448), (4374, 0.012216050392731066), (2051, 0.012187004658303923), (4502, 0.012164951253908526), (236, 0.012156433896727324), (2224, 0.012147416726420892), (895, 0.01214414488659111), (853, 0.012139458138150871), (3524, 0.012138218641310868), (2145, 0.012121032923424396), (1050, 0.012084223672006313), (1310, 0.012066049397451558), (1114, 0.012058590922051953), (899, 0.012058078177599331), (3903, 0.012020143481721559), (434, 0.011997738571642089), (1714, 0.01197966510470129), (3854, 0.011926647912077436), (2740, 0.01192207015382431), (4203, 0.01191549306285877), (1000, 0.011912808233449885), (648, 0.0119087672267222), (2116, 0.011908441201112131), (2275, 0.011889100682397676), (2005, 0.011860788149938113), (1739, 0.011852276225988367), (816, 0.01184914916812076), (3094, 0.011844670157507528), (1157, 0.011840202975939282), (2633, 0.011793966844018816), (847, 0.01176128559001513), (2049, 0.011758732487998844), (3797, 0.011748312199128152), (2602, 0.011707548050609497), (2468, 0.01170436271039683), (1870, 0.01170176934803559), (4469, 0.011679949651803823), (208, 0.011646913582959877), (2096, 0.011640719439908954), (130, 0.011621100729360147), (3637, 0.011619010394533719), (2915, 0.011585144669557252), (1290, 0.01158222575711231), (4242, 0.011562484994857923), (2939, 0.011562427762899324), (2601, 0.011546108870964076), (1387, 0.011520378633834913), (1971, 0.011517615296188171), (1237, 0.011517118778393521), (1058, 0.01150844935391995), (317, 0.011499316503922621), (1249, 0.011495802993247555), (948, 0.01148446485439469), (2436, 0.011482383855872776), (2464, 0.011466581847528351), (2065, 0.011464649975639066), (3067, 0.011462704581775184), (1897, 0.011383150916810598), (3218, 0.011375749116414789), (2688, 0.011368063642925334), (3822, 0.011363214430330466), (1465, 0.011362261998701894), (1798, 0.011349899080960846), (653, 0.011343662893661123), (2727, 0.011332714378716802), (0, 0.011330821905528008), (3535, 0.011326258353653425), (762, 0.011311944517399026), (4724, 0.011307437575106811), (3919, 0.01130674203272379), (538, 0.011246132365074173), (3741, 0.011240388095862603), (733, 0.011237173968096618), (1182, 0.011229798218892887), (4596, 0.011217711611866209), (2412, 0.011194178934259412), (1685, 0.01118700156842635), (2447, 0.011179986394268775), (1090, 0.011152211975244136), (4048, 0.011126299541460135), (4095, 0.011125890320139926), (342, 0.011069444853280649), (472, 0.011063905278984449), (760, 0.011054730244104765), (1413, 0.010990844472065097), (4371, 0.010983409252602445), (1951, 0.010980532019981514), (4512, 0.01095717802548143), (470, 0.010940693373360216), (57, 0.01093529703897269), (1382, 0.010934490968842046), (2277, 0.010901731593449477), (1343, 0.010895955421987723), (1674, 0.010895764828446374), (1806, 0.010892703315253011), (1015, 0.01089170144667454), (2798, 0.010890246151870935), (844, 0.010890110774302676), (1957, 0.010885562811111221), (3756, 0.01088358751816802), (3386, 0.010879665605532506), (482, 0.010867921017739045), (3667, 0.010852655202177122), (1006, 0.010843018588799068), (3643, 0.010839231188301046), (173, 0.0108386238209049), (3689, 0.010829193283699547), (1779, 0.010820136667670077), (3645, 0.010814372611826866), (2494, 0.010813577732545227), (4735, 0.010804288734872177), (1876, 0.010797807512732151), (4603, 0.010781526026709811), (4025, 0.010775447456616459), (1619, 0.010755553415177293), (2988, 0.01074495550864733), (2977, 0.010743716853808004), (2744, 0.010740549061175478), (555, 0.010722302128036909), (461, 0.010720094238575773), (3708, 0.010718178745292947), (1475, 0.010685695605052477), (2144, 0.01067963391306721), (368, 0.010674795014288137), (2486, 0.010664340838457185), (3317, 0.010661979626683155), (464, 0.010655162484354946), (1815, 0.010644737713888857), (4336, 0.01064321606761227), (1192, 0.010630826512366125), (1019, 0.01061219234982904), (281, 0.010610042610175808), (842, 0.010606147999407503), (905, 0.010578062673053666), (2812, 0.010567715500305542), (406, 0.0105648398858001), (2668, 0.010556564272166193), (4121, 0.010553804494230483), (4747, 0.0105484121735138), (2849, 0.010541599052729134), (4257, 0.01054078886653314), (3453, 0.010532517289639755), (3312, 0.010519561750154473), (1020, 0.010509862514334011), (2925, 0.010502704458182861), (1678, 0.010496254519715332), (1148, 0.010489194155962332), (2155, 0.010477321289794075), (1077, 0.010461885093065752), (2980, 0.010454451090896676), (207, 0.01044849627974987), (4255, 0.010444985772178818), (4118, 0.010420323422505064), (1075, 0.010419316020398552), (962, 0.01041202728977916), (280, 0.010407468325135566), (527, 0.010404397709398288), (1017, 0.010401358651491631), (689, 0.010398696863355495), (897, 0.010396354795688505), (2632, 0.01037950973137789), (3346, 0.010363304927716276), (2524, 0.01036326234800831), (1730, 0.010344055041233991), (19, 0.010342287394586959), (4656, 0.010339338227358115), (2008, 0.010324962189550268), (2087, 0.010324509550683923), (697, 0.010323828630714328), (3151, 0.010320324454165117), (3245, 0.010316404694774892), (850, 0.0103139260887335), (4335, 0.010306024609454862), (4511, 0.01030514128871926), (3237, 0.010289808767749854), (2831, 0.010260840880110197), (2045, 0.01023549951288058), (3373, 0.010232524649665833), (3784, 0.01022782299141185), (353, 0.010215241649927008), (2121, 0.010203750324818801), (82, 0.0102021289514245), (4465, 0.010202012887985968), (79, 0.0101918696934051), (775, 0.010191574714369525), (1591, 0.010187134564290753), (4227, 0.010180437861636579), (2174, 0.010177873917251026), (1418, 0.010175514299252697), (2698, 0.010159554668982905), (104, 0.010157741783734586), (385, 0.010155277636431582), (2346, 0.010147502216947931), (1371, 0.010147106324105563), (966, 0.010135848135146727), (2978, 0.010125628717626614), (683, 0.01011832190158998), (224, 0.010108456557825591), (1446, 0.010105444547160515), (3192, 0.010104280292351537), (3110, 0.010102092055816865), (2103, 0.010069528177028879), (4531, 0.010064757540763867), (1858, 0.010061495250595322), (667, 0.010047122280631206), (2473, 0.010032886620109352), (1710, 0.01002889338453267), (29, 0.010010882188684149), (3240, 0.010010215028159136), (651, 0.0100096405972241), (1519, 0.010005436245364522), (838, 0.010004659603653161), (197, 0.009979859324450602), (1754, 0.00997182739020885), (3826, 0.009967800849210971), (2126, 0.009955190068881908), (1705, 0.00995290742911319), (1864, 0.00992543163236857), (753, 0.009918684545298255), (119, 0.009910775692018443), (3407, 0.009908331313334857), (4205, 0.009898577482631135), (356, 0.009889149259295371), (3399, 0.009878093772440673), (4134, 0.009877847079196679), (1736, 0.009873535934044875), (332, 0.0098692329840967), (3586, 0.009861202624314268), (180, 0.009857653316139829), (675, 0.00985581546788963), (2265, 0.009835333105695399), (1125, 0.00982081711659805), (3659, 0.00981469164450099), (1220, 0.009797794459004467), (162, 0.009794825102626593), (1255, 0.009789074281151847), (2546, 0.009787124742341882), (3259, 0.009756789580625754), (2780, 0.00974689270295285), (3699, 0.009738485810049052), (1388, 0.0097303066766483), (1432, 0.009721010975139152), (963, 0.009712907826452273), (1514, 0.009701274883250864), (2143, 0.00969698056669123), (3642, 0.009695085515829935), (742, 0.009694117011195394), (428, 0.009693427754576205), (4557, 0.009683188976888234), (3634, 0.009678544334492811), (544, 0.00966595899655664), (3829, 0.009662276700474178), (2235, 0.009660434900782403), (1727, 0.009655776686313048), (1874, 0.009653703030878973), (1009, 0.00965061641073465), (1735, 0.009649009436160524), (4435, 0.009643281996364807), (900, 0.009639098231094174), (418, 0.009637904742369753), (485, 0.009637455970315333), (1234, 0.009635931597787884), (3389, 0.009635244529497648), (1832, 0.009632101064634378), (4233, 0.009615164248305531), (2196, 0.009613696714735378), (4510, 0.009605075911018635), (1206, 0.009595554743788943), (201, 0.009592876593875754), (734, 0.009591382843557827), (918, 0.009587911174853487), (2739, 0.0095862753535086), (1875, 0.009585128423357838), (654, 0.00958171161373604), (32, 0.009576586135290971), (3382, 0.009567023888624702), (3334, 0.00952950603488703), (183, 0.009529487435082779), (2803, 0.009524127323103648), (3954, 0.009521223686284724), (3065, 0.009498121686050505), (307, 0.009495787990698149), (1764, 0.009493475273325828), (2080, 0.009485363603840722), (1308, 0.009482003176958794), (1185, 0.009476376226577071), (994, 0.009463634369800085), (3767, 0.009444610029695343), (542, 0.009438532105116373), (1477, 0.009431006262583577), (1949, 0.009430264242978218), (4474, 0.009399614042193206), (1690, 0.00939834335984156), (3670, 0.009387199287684663), (3579, 0.009382018263121183), (244, 0.009371185278472138), (463, 0.009362142618577412), (908, 0.009359755087396764), (483, 0.009354016020869067), (1419, 0.00934409787303512), (1436, 0.009342316465168816), (931, 0.009335441221362567), (3880, 0.009329865636042855), (3155, 0.009325113969170294), (936, 0.009322616871291083), (1440, 0.009315970404962452), (1920, 0.009315614211235886), (2284, 0.009304305328460065), (447, 0.009296527302969902), (1339, 0.00929590328108561), (242, 0.009291254409333743), (1539, 0.009270082523188238), (1922, 0.009254295444746116), (3108, 0.00924616330081562), (1762, 0.009234229965252187), (1542, 0.009228282861053568), (4581, 0.009217653440050863), (1934, 0.009210824432841326), (800, 0.009187936667112082), (1948, 0.009186933446082308), (4124, 0.009175477981582482), (360, 0.009149051209897808), (2933, 0.009147754243465978), (869, 0.00913362617778777), (1406, 0.009130849068416552), (142, 0.009119848171147464), (1136, 0.009117381264031605), (4000, 0.009116729268661115), (705, 0.009112508930964009), (4623, 0.009096582748169215), (105, 0.009085192598399032), (2975, 0.009084806453073848), (494, 0.00906865499374574), (4216, 0.00905732597391844), (1455, 0.00904194109608412), (2918, 0.00901153777640009), (3794, 0.00901100660990341), (403, 0.009003298742175387), (60, 0.008995124339123918), (2752, 0.008994717145914039), (3096, 0.008978898950580502), (4481, 0.008976366437666628), (732, 0.008962656631995306), (1937, 0.008950434399957052), (4235, 0.00894480522807005), (3409, 0.008942149842486211), (3118, 0.008940176357366764), (2897, 0.008910751535063587), (2211, 0.008910448412123087), (2206, 0.008905816569738762), (1231, 0.008905238152900013), (2280, 0.008904912422941969), (3418, 0.008900733906584466), (1215, 0.008894404973033492), (4344, 0.008880606325820823), (4442, 0.008866783719280324), (790, 0.008856737977175361), (396, 0.008834123977550864), (3, 0.008833418957419938), (2603, 0.008820315529322827), (441, 0.008787588307653854), (924, 0.008763194212101796), (2614, 0.008729481071686205), (3582, 0.008724511125760137), (827, 0.008706436148832123), (828, 0.008700374352422425), (1230, 0.00869349178310832), (4060, 0.008671753417082661), (2871, 0.008667497259465081), (3465, 0.008655795181214131), (3232, 0.008637932198749825), (4325, 0.008632316845778532), (1797, 0.008631539836251253), (1743, 0.008631072220375647), (3993, 0.008630924946947756), (2563, 0.008617268208030236), (63, 0.00861443373675917), (1950, 0.008608470259120569), (1061, 0.008599385683631116), (939, 0.00859429004279537), (1776, 0.008594151940216824), (719, 0.00857713979643105), (1992, 0.008573669764792163), (1854, 0.008564243186981705), (1630, 0.008562961042964062), (616, 0.008548545967475146), (3267, 0.008535167350844813), (500, 0.008525813248433302), (843, 0.008510709631845128), (2913, 0.008509089438032916), (915, 0.008508077894045816), (4553, 0.008507441768571983), (4007, 0.008499666548140964), (309, 0.008493248042081394), (4182, 0.008485463070219934), (1680, 0.008480844995742252), (170, 0.008477645328988174), (3842, 0.008465727147066855), (113, 0.008465188495778393), (3152, 0.008450069125037818), (501, 0.008436378894827352), (829, 0.008414544902049216), (1236, 0.008412159827417822), (1005, 0.008388912039744978), (3941, 0.008380716066983868), (3860, 0.008362280935936613), (156, 0.008352888211302608), (3070, 0.008346779483818997), (2844, 0.008330962030519924), (2809, 0.008280488934553954), (801, 0.008270576764486968), (285, 0.008263040538534886), (122, 0.008261200558906315), (3099, 0.008239763951859276), (4440, 0.008217171492249518), (4366, 0.008201786190156156), (4164, 0.008195410974915673), (695, 0.008178160535257351), (148, 0.00816175250078164), (1816, 0.008154858787713604), (2264, 0.008146159530985601), (4232, 0.008140975289128818), (1747, 0.008132964316369853), (1348, 0.008115803263432269), (1115, 0.008099897559488055), (125, 0.008085279807986418), (2306, 0.008077898955343794), (271, 0.008064896116736553), (333, 0.008039382514265817), (3316, 0.008019869177567756), (1694, 0.008009015894537513), (4524, 0.007937711036364417), (641, 0.007928161916088937), (1790, 0.007907429275308086), (3256, 0.007883043524273178), (266, 0.007848944090363281), (402, 0.007830854749645608), (2076, 0.007823666425397743), (4096, 0.00782337567407543), (2617, 0.0077801004133545215), (582, 0.007760426399060537), (1713, 0.0077530399281191854), (3951, 0.007715820716912822), (3423, 0.007685254523407774), (2505, 0.007685040847604867), (1442, 0.007658048222354107), (1300, 0.0076289752926128425), (1712, 0.007624605538849221), (4032, 0.007623660617835797), (2403, 0.0076222702240037405), (2417, 0.0076175701439265735), (2545, 0.007595023642069347), (1014, 0.007575690024188256), (3384, 0.0075424753057178615), (949, 0.007508810849789006), (1306, 0.0075027545115030625), (1069, 0.00749897240893304), (243, 0.007498789698591989), (1708, 0.007498737588954503), (2936, 0.007488373923343022), (3661, 0.0074649289419799125), (2339, 0.007452725662006357), (2209, 0.007446224118580115), (3008, 0.007438672338457353), (3039, 0.007410912320585429), (435, 0.00734924002702851), (4196, 0.007339879471177459), (1770, 0.007324071710589445), (2843, 0.007316649196700442), (4077, 0.007315542719821867), (537, 0.0072908401712250635), (2510, 0.007285305268275336), (283, 0.007278662928658312), (4351, 0.007255652980316825), (1799, 0.0072416438488828614), (668, 0.007213809521208219), (4226, 0.007203183044834162), (40, 0.007198188344744681), (940, 0.007192194804289885), (4605, 0.00718486555677188), (2101, 0.007182565493740804), (2418, 0.007179083939584261), (1486, 0.007162511233761593), (1509, 0.007161344478216701), (3932, 0.007160561439384752), (2244, 0.007144472462438194), (340, 0.0071406998582482974), (2873, 0.00711005357038511), (715, 0.007102656490824554), (4685, 0.007089844814023013), (2759, 0.00708500322591635), (341, 0.0070844365858173716), (1841, 0.00707430472648206), (3387, 0.007071919052633612), (3515, 0.007060856916240663), (737, 0.007058698600465062), (386, 0.007035604485688115), (3457, 0.007027675980269205), (4367, 0.007023512854189109), (1718, 0.007020938291067635), (1812, 0.007020339636927479), (3599, 0.007016194309437441), (3264, 0.007010764658393376), (369, 0.007010586171410245), (2678, 0.006994984587233993), (1099, 0.006994299579088629), (635, 0.00698687427869702), (4052, 0.006986049027188908), (4337, 0.006969637558773756), (1583, 0.006968531302711359), (4001, 0.006967407109063486), (4695, 0.0069607124003622945), (2964, 0.006938174985186963), (4008, 0.0068989076954663955), (1124, 0.0068979609037283516), (3926, 0.006888243576388582), (1526, 0.006884443540264633), (232, 0.006869816254057203), (1407, 0.006863788955295894), (2708, 0.00686289611104834), (1737, 0.006861409716375044), (3596, 0.006861092654380434), (363, 0.006859893234496866), (748, 0.006848421816484137), (4061, 0.006844723934077901), (1908, 0.006840053105179588), (3747, 0.0068395164270656636), (2309, 0.006839076196083681), (2303, 0.00683439826511687), (3648, 0.006833796705852177), (3512, 0.006819328679317823), (301, 0.006812036665896803), (1359, 0.006794118170228178), (1276, 0.006784129659543578), (131, 0.006776329783407331), (1266, 0.006774333957432183), (413, 0.006773068034746439), (752, 0.0067653726385051354), (600, 0.00676401970292157), (1761, 0.006748607080325793), (4486, 0.006740398105745625), (1494, 0.006737171067441663), (4261, 0.006720128627919166), (1461, 0.00671598717346185), (2565, 0.006714737199739099), (2193, 0.006707448685378555), (313, 0.006705443365867553), (1172, 0.006701375687346371), (1250, 0.0066967885316396554), (2816, 0.006689301779832506), (1644, 0.006679542562983932), (1911, 0.0066784400569285425), (817, 0.006666988886033374), (782, 0.006664438056732426), (1048, 0.006664278775735227), (2732, 0.006659421257016382), (631, 0.00665792587437018), (778, 0.006650567571227972), (2726, 0.00664641610089355), (3733, 0.006639923126417691), (809, 0.0066357873681819396), (523, 0.006634951298691679), (3594, 0.006634777460351865), (4467, 0.006632717819036481), (1094, 0.006622176029642122), (2691, 0.006618883122371306), (1860, 0.006606072613028421), (671, 0.00660350108534629), (1396, 0.006599325895991569), (1688, 0.006597896171529039), (3632, 0.006595096260243162), (1936, 0.006584739704930529), (1302, 0.006578124345825855), (821, 0.0065715584671680516), (2421, 0.006571112829419811), (1873, 0.006562792348613003), (2503, 0.006561180818301233), (2109, 0.006560339308769544), (1501, 0.006555632453079695), (921, 0.006554087164310654), (1867, 0.006546797780153902), (3416, 0.006546146881447534), (2640, 0.006544039235008221), (182, 0.006538626313206055), (2335, 0.006531758763326705), (3536, 0.006531204551380403), (1345, 0.006530788618877582), (3265, 0.006530332198492822), (56, 0.006527678762247122), (4388, 0.006526524612491406), (1111, 0.00652578422257907), (346, 0.0065211015095230146), (4303, 0.0065139558356233146), (1612, 0.006513942705685119), (1986, 0.0065097402519408275), (4210, 0.0065085889599130605), (2239, 0.006507108019760795), (1773, 0.006497218140109985), (2463, 0.006496423240036056), (3033, 0.006490447531214412), (2572, 0.006482800981383459), (521, 0.0064653235870442095), (3288, 0.0064526153914606765), (1262, 0.006447718916723411), (2160, 0.0064431527517221695), (446, 0.006439950747315182), (22, 0.006435363646857547), (1551, 0.006435324299194079), (1807, 0.006432727734844698), (273, 0.0064295328500568886), (321, 0.006426113483040994), (758, 0.006425801741427778), (3066, 0.006420744907658198), (834, 0.0064166886902876875), (1329, 0.006416321207295704), (4099, 0.006411459434556254), (1087, 0.00640596240943456), (1238, 0.006392873540553043), (1420, 0.0063926448859329245), (1374, 0.006386753386251039), (4738, 0.006381627134926478), (322, 0.006374987705399444), (958, 0.00636760342335369), (2480, 0.006356059705509507), (1852, 0.006350246881964947), (1849, 0.006337577548506384), (1012, 0.006335756795893188), (3309, 0.006335156862698651), (3998, 0.006327355301703083), (1226, 0.006325716665680369), (1692, 0.006322804639311967), (2202, 0.00632249098727895), (1567, 0.0063155724624876), (4564, 0.006309503309780179), (568, 0.0063052990057927945), (2095, 0.006302733174662041), (4236, 0.006295087903151289), (1696, 0.006288102649894953), (3566, 0.006284726559161965), (449, 0.006279600910622351), (1425, 0.006279462711660887), (164, 0.006273969559555855), (1552, 0.006273862918133043), (2056, 0.006273194812332337), (230, 0.006259785101815145), (1307, 0.006257264790521907), (1096, 0.0062504622790439225), (3046, 0.0062491439487197915), (2291, 0.006243102129507832), (4110, 0.006241806798436174), (1913, 0.006229756504851127), (3426, 0.006219946136821294), (3864, 0.006216503025683256), (1793, 0.006209449580344935), (263, 0.0062068073751466325), (300, 0.006205727774878036), (248, 0.006187594314986776), (1267, 0.006178124766747004), (2098, 0.006177360548955391), (4217, 0.006170220972974905), (2935, 0.006169411441531407), (2062, 0.0061627406753473665), (4555, 0.006161346106587702), (2992, 0.00615925568510969), (1723, 0.00614181110222229), (835, 0.00613531632114354), (1327, 0.006133253105127204), (2832, 0.006124232538221089), (2094, 0.006121950303956745), (2205, 0.006121027415297863), (3085, 0.006119312912623429), (3246, 0.006119010595664369), (2680, 0.006117199026635154), (3909, 0.006115273996266744), (4272, 0.006113372896859293), (4576, 0.006111063210288335), (9, 0.006109113368423075), (2203, 0.0061021418357638454), (1746, 0.006095471500684718), (766, 0.0060852767568405665), (2175, 0.006078588282729375), (445, 0.006063817129872383), (3178, 0.0060592265853425305), (4009, 0.006057766660771288), (1818, 0.006057309988706107), (3825, 0.006055703800183729), (2426, 0.0060555112450481965), (1664, 0.006047636159152762), (4459, 0.00604025843512533), (3114, 0.00603252858606252), (3925, 0.006029414673351153), (468, 0.006022393988129222), (1312, 0.006009105047832302), (35, 0.005995458159670132), (4649, 0.005981680109165199), (4571, 0.005981471871282387), (4106, 0.005977908854228373), (3244, 0.005975668825290954), (1662, 0.005975527035291985), (1833, 0.005969389215489931), (1316, 0.005962962843969872), (2113, 0.005960830040441677), (354, 0.0059588145077737326), (1538, 0.005939585725427273), (4342, 0.005935939884716102), (3329, 0.005925779735658925), (4057, 0.005924792418532473), (1650, 0.0059211551008142675), (327, 0.005921132776016201), (3325, 0.005915577014934934), (2058, 0.0059114662182338466), (3748, 0.005903114786852271), (3598, 0.0059009930341533), (1715, 0.005890871760656841), (1903, 0.005883294669638603), (3752, 0.005869240489596523), (2236, 0.005867951048580421), (2998, 0.005867630769674108), (2929, 0.005863352044188433), (4726, 0.005862811234925115), (583, 0.005860551470292942), (3865, 0.005841719869032464), (2074, 0.0058371282062430405), (3291, 0.005830441101178149), (1684, 0.005830063069129336), (2185, 0.005822919967039715), (2285, 0.005809804711213742), (970, 0.005808214217570367), (597, 0.005807070279878572), (664, 0.00579177839102782), (735, 0.005786285116484642), (1571, 0.005778925420911008), (2820, 0.005759943331816843), (4055, 0.005753882021063314), (2587, 0.005743601510747326), (979, 0.005735486749789623), (2439, 0.005732414009436653), (78, 0.005723672977076845), (4748, 0.0057223336994437065), (2529, 0.005717314760109985), (2942, 0.005716412594116), (4082, 0.005699146198021544), (1863, 0.005698771482714521), (2156, 0.00569790584011536), (1553, 0.005689235076957093), (3509, 0.005688633783439713), (3257, 0.005680823348889854), (1037, 0.00567867842569998), (1194, 0.0056773496172870495), (4652, 0.005672119724822409), (2768, 0.005625995988829672), (2870, 0.00560686657141311), (277, 0.00560594000248515), (4202, 0.005602597806232578), (4158, 0.0055974609327488125), (3215, 0.00559360117474996), (4385, 0.005565566873147534), (3262, 0.00554828903929441), (3957, 0.005546918908689801), (2989, 0.005540896241941441), (3051, 0.005531728704098846), (2764, 0.005517413454478851), (2349, 0.0055055343378614075), (2775, 0.005504968706596656), (3821, 0.005504768267445225), (2655, 0.005493377184919129), (2197, 0.005483919694153491), (2789, 0.005467651914932829), (3713, 0.005464252934195728), (2251, 0.005458254412585701), (177, 0.005452295307627737), (627, 0.00545014330952309), (3164, 0.005433190699195358), (288, 0.00542511333332445), (2490, 0.0054225144910800185), (2379, 0.005421449494300829), (1453, 0.005418553860546554), (2665, 0.0054080816228497955), (2985, 0.005407877343953462), (1279, 0.005407184691910957), (4617, 0.005381198355384674), (2643, 0.005359747422939647), (3990, 0.0053493204251201095), (2889, 0.005345724151963384), (2407, 0.005342436490516169), (3940, 0.005323782348258063), (2901, 0.005315501478949374), (2559, 0.005312405764765474), (2883, 0.005311376195502372), (3166, 0.00530437854081095), (3635, 0.005298984672823298), (4710, 0.00529519526535189), (2731, 0.005277334347841775), (2022, 0.005256657174049638), (477, 0.005245748675937698), (1144, 0.005231148751154297), (2257, 0.00523007936878925), (159, 0.005229569359941977), (4637, 0.005224106204410164), (3922, 0.005207912965177334), (4546, 0.00520653357193762), (3219, 0.005205594048607685), (4484, 0.005205405168482633), (3410, 0.0052030296673344295), (3479, 0.00515982819096171), (3205, 0.00515904188777418), (2774, 0.005157077725865776), (2255, 0.005140904414683048), (168, 0.005138864040257913), (3015, 0.0051381700015322), (1695, 0.005124781871271669), (4444, 0.005124161027084186), (3832, 0.0051235994918893525), (3613, 0.005093088332590667), (3892, 0.005091334442352973), (2438, 0.005084094399375131), (3074, 0.00507182017672812), (2415, 0.005061141175177223), (1701, 0.005057606737542561), (3076, 0.005053772171262623), (2199, 0.005053618663781328), (4723, 0.005039378262448459), (2423, 0.005018503006705025), (3140, 0.005005381647648228), (2075, 0.0050041167978661875), (4632, 0.00499861886853026), (3766, 0.004985822735163139), (3274, 0.004980010194048319), (3901, 0.004971430382763817), (2286, 0.004953622411043299), (1208, 0.0049519936917949495), (2872, 0.004947841547108409), (336, 0.00494441185764057), (4373, 0.004935727782526418), (3763, 0.004929503841133963), (2448, 0.004921068297704552), (2797, 0.004920624117505561), (2350, 0.004919642382276912), (2696, 0.004912957707537697), (4412, 0.004909669071064059), (3620, 0.004899422248019203), (414, 0.004882483032024206), (2530, 0.004864152508465431), (1711, 0.004863928186579087), (2879, 0.004861792564492599), (4490, 0.004859539903718842), (4163, 0.004857790342380004), (4660, 0.004854107974595875), (2778, 0.004847705927211591), (2266, 0.004847141665293128), (2838, 0.004845579483321899), (326, 0.004838467031810703), (3282, 0.004837129529543726), (155, 0.004834452579617661), (3638, 0.0048198420433641495), (561, 0.004819473376003903), (2914, 0.004812226505661824), (3363, 0.004809958375764573), (2966, 0.004804594825192049), (4619, 0.004797959048445162), (3081, 0.004790363443570571), (3165, 0.0047876270277718395), (4243, 0.004781717539806446), (2488, 0.004780221207281581), (1264, 0.004775619659623313), (4521, 0.004775615543762968), (2890, 0.0047751806345618705), (2535, 0.004766085097988116), (2064, 0.0047558503682771655), (2388, 0.004750475761804316), (2834, 0.004743963056016873), (3952, 0.004742491440385333), (3359, 0.00474224688554961), (2428, 0.004730856496587268), (3123, 0.004729897663554292), (4477, 0.004727643082887315), (2570, 0.004718171280854284), (1995, 0.004718151415791056), (3521, 0.004716005485345169), (3072, 0.004714644389981804), (2437, 0.00470630916043328), (2772, 0.0047042125531358775), (3302, 0.004700128190292197), (1429, 0.004696960988572045), (2625, 0.004690212151577549), (3458, 0.004686774080559314), (4160, 0.004686285083279785), (3012, 0.004684616411489731), (2705, 0.004680813869507144), (2848, 0.004676785180504867), (3355, 0.004673058903580172), (3357, 0.004666751705216303), (2986, 0.004660073880852677), (2748, 0.004656711172591099), (2434, 0.004650226335353969), (2188, 0.004649901334074869), (4117, 0.0046390837772424), (2459, 0.00463805857516417), (1547, 0.0046328750037791765), (4594, 0.004631168360159636), (2229, 0.004629306228410227), (925, 0.0046292744712412535), (2857, 0.0046267184359638875), (3062, 0.004624858689652265), (448, 0.004623593192301404), (3364, 0.004622165556321498), (3745, 0.004621962603736039), (1947, 0.004618709118290759), (3772, 0.004614525731020708), (1187, 0.004609665378874192), (4333, 0.00460302075753035), (2108, 0.004600642594056183), (2623, 0.004596748857159808), (2320, 0.004596200280133489), (2796, 0.0045961320642650865), (3413, 0.004595492252898757), (3577, 0.004594903213333079), (436, 0.0045944407826982656), (1498, 0.004590522590454155), (3680, 0.004586994295692918), (4713, 0.004572086300527313), (419, 0.004570651821772963), (4293, 0.004568805455813277), (1049, 0.00456649885691749), (3296, 0.004558217350812951), (4517, 0.004558195864685118), (4718, 0.0045581452308060206), (2702, 0.004554888210406838), (1748, 0.0045494800703988056), (2974, 0.00454872513396835), (4516, 0.004543755285258988), (4706, 0.0045345266494733905), (2162, 0.004531384723267541), (2475, 0.004528989079305872), (721, 0.004527928121786167), (3308, 0.004525849081211058), (3258, 0.004522856462276991), (3506, 0.0045216518971131995), (4295, 0.004520293464045207), (2427, 0.0045125767121063235), (2089, 0.004506465911339512), (2881, 0.004499672858358471), (3866, 0.004494464579144184), (813, 0.004490793544970179), (985, 0.004487933895893231), (3883, 0.0044878992414483666), (4098, 0.004479917430214519), (3032, 0.004478234993166264), (2400, 0.004477982906290159), (3425, 0.004477430354493133), (4589, 0.0044762843551675495), (4722, 0.004475056299176134), (1909, 0.004474622832593414), (3148, 0.004471475392805166), (4494, 0.0044709889956103385), (4522, 0.004467815787687547), (4269, 0.004467334612144845), (2176, 0.004465960248032535), (4575, 0.0044657680315116155), (431, 0.004464096449732691), (2478, 0.004463646139713008), (4650, 0.00446262972620157), (4244, 0.004456961696892643), (4087, 0.00445553522047235), (2924, 0.0044555247801205036), (4593, 0.00445224969482937), (2302, 0.004451640945542406), (4113, 0.004450378766320574), (3590, 0.004449656268901352), (1489, 0.004443745250828152), (999, 0.0044427203806560326), (107, 0.004440778051142829), (3044, 0.004439716993391135), (3640, 0.004439695964104387), (998, 0.00443852975971796), (3456, 0.004436537065259678), (4092, 0.004434383738778451), (3984, 0.004431504978405903), (2411, 0.004430758399754737), (4051, 0.004430400977448155), (4133, 0.004426507160661889), (2134, 0.004421756970169978), (4368, 0.004421007850872255), (3639, 0.0044209504570263585), (2943, 0.0044195557039764105), (3754, 0.004409748992057894), (857, 0.0044078793887107354), (274, 0.004404274690093083), (3893, 0.004402257932315307), (4369, 0.004402005039017107), (2664, 0.0043969084594405365), (4625, 0.0043953864741157695), (739, 0.004394775081126136), (1924, 0.004391517550520635), (1968, 0.004389374663914796), (2260, 0.004388491795482488), (3827, 0.004388372730572662), (614, 0.004388052621525937), (3960, 0.0043878156633579204), (3391, 0.004383788639380693), (2269, 0.004382174590291973), (2926, 0.00437898976443291), (2394, 0.004378550828685607), (596, 0.0043778555790402384), (2629, 0.004373376455872223), (3560, 0.004369905069945152), (2888, 0.004369699274455642), (4101, 0.004368238463968877), (3527, 0.004368144957754739), (4448, 0.004366934059615972), (2916, 0.004365140089337857), (3196, 0.004358268714765766), (12, 0.004356812966418863), (3962, 0.004354081920304341), (4249, 0.004353914545983976), (2840, 0.004352897138625466), (443, 0.004352123430525549), (716, 0.00435068123084486), (4699, 0.0043495898826582755), (4734, 0.004348929691807819), (4657, 0.004347280765309632), (1325, 0.0043425893655615186), (3116, 0.004337276987453426), (3037, 0.0043349338843665965), (3618, 0.004334155533904175), (1109, 0.00432709903139982), (1822, 0.00432480709904755), (2223, 0.004323439667189339), (1007, 0.004318008674086915), (2854, 0.004311410839884021), (350, 0.0043109445878224805), (4528, 0.0043099645405255144), (1349, 0.004307410227540296), (4535, 0.0043068918601394494), (3146, 0.0043068085130023494), (3867, 0.004300347170584416), (3013, 0.004297432653532574), (2386, 0.004297347024523355), (576, 0.004295664366821722), (3417, 0.004295639759544249), (2592, 0.004294571866998381), (4138, 0.004291984635039968), (4111, 0.00429194920220661), (2348, 0.004290162757744682), (4566, 0.0042890416091043776), (8, 0.004288304506133923), (1866, 0.00428695597220878), (623, 0.0042868929182029196), (4573, 0.0042865746811719205), (1188, 0.004286214021537482), (4116, 0.0042846217942648715), (3920, 0.004284202969362613), (2555, 0.004282842603466767), (2830, 0.004282082653107164), (2159, 0.004281091563015371), (2660, 0.004280907074031368), (318, 0.004280581139256311), (3501, 0.004277712727934399), (3813, 0.004277447941385571), (4624, 0.0042755554536277945), (3214, 0.004274494723223184), (3183, 0.004271675182869732), (587, 0.00427135805056372), (3273, 0.004265080968180452), (729, 0.004263513962918724), (4330, 0.004263358073165995), (876, 0.004262413778222394), (3601, 0.004260632187661588), (688, 0.004260300974783926), (3873, 0.004259250158826073), (3749, 0.004258148397768281), (4130, 0.004257273249150242), (2289, 0.004257067372530261), (1923, 0.00425593557937282), (1474, 0.004255682390314238), (3704, 0.00425294898098427), (2344, 0.0042528694561770235), (888, 0.0042524622371019685), (3112, 0.004251330184168151), (3097, 0.004250139268180479), (761, 0.004247926509817158), (3915, 0.004247331164225442), (774, 0.004245654390926598), (1364, 0.004241798173613476), (2390, 0.00423991155503508), (481, 0.00423586607385673), (4507, 0.00423575876440556), (3780, 0.004235204053058752), (1907, 0.0042348650920794465), (2295, 0.0042342028989090655), (4520, 0.0042321115793514195), (3198, 0.004229808236914545), (3235, 0.004229437509323628), (2391, 0.004227648744322558), (3902, 0.00422635965643868), (206, 0.004225759591232743), (4024, 0.004224186450504361), (612, 0.004224070671709113), (1518, 0.004223350897654315), (2755, 0.004223080084731117), (3187, 0.004221703365275235), (1896, 0.004221201809063302), (4014, 0.004220369767535323), (4187, 0.004219987093030761), (3406, 0.00421306768222206), (1687, 0.004207481090992428), (1905, 0.004207345000780265), (2477, 0.0042069557451084195), (2361, 0.004206864313683705), (3771, 0.004206817860091783), (4259, 0.004206133906197059), (652, 0.004205815823476857), (2242, 0.004205421138922136), (4123, 0.004204707716996989), (4079, 0.004202172098124405), (4419, 0.0041968534603345565), (1851, 0.004196512323411642), (3449, 0.0041940373196473054), (2714, 0.004186931661998158), (673, 0.00418446255891658), (1960, 0.0041830385614698715), (4470, 0.004175701373385287), (3845, 0.004174999658569272), (493, 0.004174278444593781), (1513, 0.004174250372476517), (2776, 0.004171176941314238), (1893, 0.004169847729946679), (4430, 0.004169840070248967), (4401, 0.004168844807946373), (2104, 0.004167840483922594), (3075, 0.004165944737101216), (2999, 0.00416491264373005), (2230, 0.004162481072464457), (2048, 0.004161039429541461), (4643, 0.0041600519893576346), (41, 0.0041581643788371715), (1537, 0.004156172377481559), (4489, 0.0041548386263932325), (826, 0.004154332840574212), (3349, 0.004153972396614923), (3882, 0.00414891915820175), (3234, 0.004148632293113001), (4286, 0.0041444936507555085), (3511, 0.004140837626766381), (74, 0.004140120917774529), (1350, 0.004139746070306236), (4046, 0.004138904590630079), (4038, 0.0041334270167336816), (1161, 0.00413323726709262), (1225, 0.004132159917669294), (3807, 0.00413126943077503), (4446, 0.004128996941078258), (3184, 0.004127849598715906), (3493, 0.00412608613824704), (4601, 0.004125668706674255), (1703, 0.004124829037153845), (3516, 0.004122703092748567), (34, 0.004122524734898589), (1916, 0.004122386919992852), (728, 0.00412184088583641), (3496, 0.0041210531468391185), (1400, 0.0041200083486811504), (991, 0.0041193289579507025), (456, 0.00411860344769755), (2105, 0.0041175370686383815), (792, 0.004114609460689037), (3654, 0.004113962043574795), (4501, 0.004112841000214032), (178, 0.004112195093438586), (1324, 0.0041098598827006), (192, 0.004106753221013634), (2067, 0.004104265888146791), (1570, 0.004103514044694253), (930, 0.004097575430261489), (1918, 0.004094706862777897), (3227, 0.004088213795336781), (3623, 0.004088023417150305), (564, 0.004085012619728929), (1454, 0.004083426834736765), (1643, 0.004081789455658212), (3353, 0.0040815443870096365), (2652, 0.004073456179950632), (4422, 0.004072014399978551), (2821, 0.004071263863961921), (2609, 0.004066355471177769), (1083, 0.0040660800683120345), (2531, 0.004065506101884538), (2466, 0.004064174426064192), (606, 0.004062866290863611), (2402, 0.004062341430814408), (23, 0.004062235271840732), (2393, 0.004060623532921065), (743, 0.004060370795888309), (865, 0.004059358829579187), (3326, 0.0040593586167153506), (1463, 0.004058328095566903), (2894, 0.004058046751284906), (783, 0.004057254449618812), (4357, 0.004056639452471815), (2319, 0.004055849385984881), (4668, 0.0040545867608704714), (4629, 0.004053937376915113), (1176, 0.004053176751676465), (3809, 0.004049560310967956), (169, 0.004048120441144393), (3241, 0.004046183712778737), (3314, 0.004045069598220035), (1179, 0.004044316292547154), (4420, 0.004044194387987549), (1122, 0.004043282136488269), (2088, 0.004043128404663015), (2661, 0.004037736932537615), (872, 0.004037429203524959), (1902, 0.004036695786198599), (579, 0.004034926953276567), (4056, 0.004032338839620027), (255, 0.0040309497463005516), (2911, 0.004030151710448311), (1946, 0.004029906079363403), (1071, 0.004029672764578091), (3233, 0.004028856275549382), (3765, 0.004028513395595448), (3624, 0.004023605491603689), (588, 0.004022175205142676), (1628, 0.004020872291164097), (693, 0.004018076873693219), (3388, 0.00401631340101275), (636, 0.004016246577386267), (980, 0.004015610425996653), (1722, 0.0040130675565451975), (3551, 0.004012595016980268), (4033, 0.004011053076984978), (4563, 0.004010094155684688), (3542, 0.004009855274492366), (3653, 0.0040090189653495195), (2083, 0.004009005122852076), (238, 0.004008793419152257), (3125, 0.004008706963002825), (871, 0.004006568016569662), (4036, 0.0040063798678085915), (3526, 0.004004430694111215), (3564, 0.004002958656850209), (4284, 0.004002629816395461), (1931, 0.004002487894276096), (11, 0.0040018759349219925), (3122, 0.004001683940390363), (2405, 0.004000964521218821), (1229, 0.004000927705076014), (3707, 0.004000919448053114), (2554, 0.004000865152134562), (4356, 0.00400071203906552), (216, 0.003999173614102604), (4334, 0.003997884275229945), (3182, 0.003997865472395088), (660, 0.0039963016829985), (1286, 0.003996300722890085), (1983, 0.003992760828473055), (2091, 0.003991473079487456), (580, 0.003989446051947408), (1421, 0.00398522978630628), (3666, 0.003980357696958856), (644, 0.003980227683597502), (2746, 0.003978304881169557), (4266, 0.003976847769483329), (1717, 0.003976665699824663), (1140, 0.00397619728160417), (3571, 0.003971848530047687), (4054, 0.003966187080122978), (1131, 0.003965385544440553), (1223, 0.003963431963076179), (4287, 0.003961720011073856), (2169, 0.003958841527687125), (750, 0.00395701667460771), (4523, 0.0039564283293498), (3673, 0.003955253577225975), (71, 0.003953820768340296), (3727, 0.003950738141771454), (1533, 0.003950457681283585), (2556, 0.003948726957957894), (3268, 0.0039476170112248046), (2946, 0.003946407013562171), (3888, 0.003944002895985062), (2802, 0.003942950806708566), (2878, 0.0039429160737392), (2593, 0.003940975955422692), (1410, 0.0039407456026429285), (3445, 0.003938696028285699), (3303, 0.003936778555163625), (4135, 0.003935237778847908), (1768, 0.003934411579532739), (3436, 0.003931788959207061), (1163, 0.003930561278454335), (4178, 0.00392982333325933), (504, 0.003928581794675103), (1645, 0.003925509766200496), (3900, 0.003924547615119138), (198, 0.0039235018937869145), (2313, 0.0039218665314819665), (509, 0.00391703507268611), (2068, 0.003916158160224595), (3195, 0.003915507157077174), (2972, 0.0039142461054912404), (755, 0.003911561478037283), (959, 0.0039095187586525235), (3435, 0.003908551850411982), (2904, 0.003903717979865555), (2073, 0.0039029257700100993), (749, 0.003902770250911733), (696, 0.003899980469224126), (2492, 0.003899590799210032), (3799, 0.003899511730395272), (2422, 0.003899264002644826), (3050, 0.00389861050499167), (4309, 0.0038984750514596224), (3330, 0.0038948194829430223), (923, 0.003894342079133157), (4640, 0.0038938990637037395), (4487, 0.003892071715317806), (769, 0.003891897945176996), (1102, 0.0038909240170997097), (3876, 0.003889813582996896), (698, 0.0038861574560175465), (1335, 0.003884324223296276), (1338, 0.0038829274033958506), (1170, 0.0038781556256697785), (1740, 0.003876660571343824), (4670, 0.003874578380355062), (2945, 0.0038745769885158493), (3500, 0.003868308960809134), (2061, 0.0038677336121466614), (3170, 0.0038676201617127907), (3917, 0.0038612591520487344), (1191, 0.003861215403894207), (4530, 0.003859082587262383), (4638, 0.003856975951519715), (2606, 0.0038557734280840117), (4183, 0.00385356128298123), (1891, 0.0038515122178782927), (1378, 0.0038500846118811236), (1026, 0.00384854467844646), (3819, 0.0038465774221015554), (1620, 0.003845555728857932), (490, 0.003845149310378352), (1027, 0.0038444804921448873), (127, 0.0038432759790815803), (2674, 0.0038417270008658196), (348, 0.003839802645806335), (3696, 0.0038392528125744223), (1313, 0.003837095095001293), (1476, 0.003834732580300669), (969, 0.0038347250592960574), (3641, 0.0038340822382690954), (1634, 0.0038304169662645945), (2226, 0.00382933602582195), (3811, 0.003826057346974691), (3557, 0.003825784245726011), (2965, 0.0038243526451405365), (2779, 0.0038233304133792204), (3477, 0.003822284834092848), (1472, 0.003821759594900507), (4020, 0.0038206210883026436), (1892, 0.0038200008484335422), (1813, 0.0038183751756123243), (1138, 0.0038179074498617773), (400, 0.00381676722846942), (1969, 0.003814557443920546), (2612, 0.0038140882971672363), (4362, 0.003812991708327508), (1422, 0.003812175115317502), (3739, 0.0038098095904757624), (727, 0.003807531337717963), (1247, 0.0038056168718913356), (3890, 0.003801636095456313), (1558, 0.0037994290573263706), (1882, 0.003795823229284917), (1653, 0.0037947013183167923), (3660, 0.0037930739499231186), (1483, 0.003792476760016856), (1666, 0.003791722317167182), (4069, 0.0037907812950478416), (3706, 0.003790324680075513), (1598, 0.003789758186209122), (1060, 0.0037889354747356846), (2195, 0.0037866614217729687), (1693, 0.0037865769261243736), (2496, 0.0037835330418042805), (2430, 0.003783429328542997), (1488, 0.003783030413191656), (3315, 0.0037828496408720456), (114, 0.0037823797826567218), (4712, 0.0037809096462425376), (1706, 0.0037796669717699567), (373, 0.003778502058436531), (1408, 0.0037760807315127733), (221, 0.0037734803586501734), (1123, 0.0037730899946897167), (852, 0.003770182551683671), (894, 0.0037682918338080504), (2634, 0.003766901120019042), (2907, 0.0037649082077754886), (1597, 0.003763503454683659), (4394, 0.003761090092366133), (522, 0.0037599505148496254), (3402, 0.0037592145368394057), (598, 0.00375854002340856), (1438, 0.003757258401375281), (3220, 0.003755672720642071), (2642, 0.0037548234558968377), (2397, 0.003754664604645034), (3898, 0.003754220371119395), (4154, 0.00375179858506833), (3487, 0.003751152035906842), (1448, 0.00375028748824791), (4011, 0.003747453805859874), (4345, 0.003746211306624827), (2069, 0.003745925966771136), (589, 0.0037435952998132933), (854, 0.0037431358059072293), (3974, 0.003742346527732681), (3298, 0.0037417211251871653), (3734, 0.003739900010214777), (2029, 0.0037391260415342367), (2461, 0.0037358108620231443), (1782, 0.003734785409997404), (4152, 0.0037321121178364282), (4472, 0.003730141764960727), (3379, 0.0037298776327840347), (1044, 0.0037286053419736467), (3194, 0.0037282861897230462), (457, 0.0037252681962780514), (2131, 0.003724379978302598), (1481, 0.0037232825562518745), (349, 0.003723132346841318), (2117, 0.003718129395648367), (1084, 0.003715205770272494), (215, 0.0037129313989660235), (2899, 0.0037116517079675794), (4085, 0.0037113823423613203), (488, 0.0037099456404906975), (3646, 0.003708994508736065), (880, 0.00370870544615611), (4591, 0.003707680368328361), (3028, 0.003707676969353879), (2528, 0.003706455841702377), (3014, 0.00370512125490009), (2743, 0.0037027789368895767), (3300, 0.0037009744246734202), (3953, 0.003699476867749924), (92, 0.0036983085465861626), (1034, 0.0036975884242378366), (1744, 0.0036970341711359883), (1002, 0.003695055969009062), (3755, 0.003694143588962063), (325, 0.003692621808176719), (2004, 0.0036919239430642857), (1478, 0.003687030529167718), (1796, 0.003686765845270751), (388, 0.003686115939405521), (4536, 0.0036860483143949705), (1819, 0.003684446055947183), (471, 0.00368391233555729), (907, 0.0036836189315073422), (1582, 0.003680163859454203), (1667, 0.0036791111611951415), (3293, 0.0036785696746512776), (2527, 0.00367382508702275), (132, 0.0036731329515576148), (4282, 0.0036729179536053426), (798, 0.003670053204145239), (475, 0.0036681930238275425), (1415, 0.00366752682933728), (975, 0.0036660347384559126), (3071, 0.0036646869095004393), (655, 0.0036633175918574417), (2892, 0.0036613490566573823), (2457, 0.0036610051083570726), (1372, 0.003659394088594935), (103, 0.003659059718331753), (2862, 0.003658059243528885), (3669, 0.0036554791835981103), (1177, 0.0036549563151700767), (4429, 0.003651962809712254), (1884, 0.003648165234826085), (1608, 0.003645701322119156), (1001, 0.00364559439023402), (3460, 0.0036449516568782263), (372, 0.0036440239453180835), (18, 0.003642496115453706), (3254, 0.0036389034100164836), (3563, 0.003635314557197433), (4479, 0.0036350302748490663), (355, 0.0036345818513003484), (4473, 0.0036331970038444347), (3614, 0.003632146500655816), (1107, 0.003630711871646762), (2482, 0.003629864707985873), (111, 0.003627970509415372), (1503, 0.0036260882879726565), (4066, 0.0036230308226420354), (659, 0.003622321310777515), (200, 0.0036206348900709737), (1375, 0.0036201427634567802), (2399, 0.0036201148462503704), (4350, 0.003620086831256756), (2611, 0.003618165523564003), (558, 0.003617352648156274), (2453, 0.0036158811713744464), (3503, 0.0036136014500510317), (4143, 0.0036122514829595707), (3147, 0.003610912979643652), (96, 0.003609240475647946), (594, 0.0036081894161577826), (3278, 0.0036081537042001836), (31, 0.0036045164938502674), (1340, 0.003602826738537853), (359, 0.0036022969263852507), (1040, 0.0036019648128397946), (1565, 0.0036017522954346283), (1357, 0.0036006962780421943), (2741, 0.0035998943665128363), (1041, 0.003598980467100031), (2800, 0.003596351004114638), (886, 0.0035952796373707107), (605, 0.0035952135507466773), (16, 0.0035937174543206416), (1627, 0.0035911677875488717), (3910, 0.0035910848924589358), (2367, 0.003590902522156069), (1065, 0.003589964453769714), (3342, 0.00358255028785022), (3120, 0.003580949494644304), (121, 0.003576562719916585), (3742, 0.0035763252236494752), (3311, 0.003575269481668697), (3027, 0.003571123488184141), (2201, 0.003568367025961642), (1217, 0.0035665201682989166), (1462, 0.0035657623393209213), (1209, 0.0035605253237394312), (910, 0.003559001677128496), (563, 0.003558205671063897), (608, 0.0035564757931762043), (136, 0.0035550517739027345), (1760, 0.003554392960902294), (1543, 0.0035538842035450526), (944, 0.0035496293786282046), (3705, 0.0035486986205436034), (856, 0.0035415867761424964), (2031, 0.003538384526440074), (2287, 0.0035359915430631435), (1219, 0.0035331416752980615), (804, 0.003530032508064436), (1605, 0.0035278769096026273), (2355, 0.0035275985335508566), (1869, 0.003527480430881249), (951, 0.003526360803454745), (3304, 0.0035205414776429706), (851, 0.0035204254977709744), (3137, 0.003520263642046002), (1827, 0.0035195897520074746), (2747, 0.0035166044573414247), (286, 0.003512841715724968), (3956, 0.0035124343183429016), (495, 0.0035096029884501435), (981, 0.003508970850008107), (2502, 0.003508777732022362), (1079, 0.00350865378856165), (744, 0.003505030784380505), (3318, 0.0035038235964561025), (416, 0.0035020652270904887), (604, 0.003500465059908095), (2771, 0.0034960919434767037), (1273, 0.0034940399295450373), (1080, 0.003489540234337091), (184, 0.0034869860158414367), (2724, 0.003481607656636682), (3474, 0.0034808152277321295), (2976, 0.0034804021721032007), (1427, 0.0034795384753950084), (617, 0.003479341655598908), (2338, 0.003477890584254117), (2240, 0.00347461828045148), (1964, 0.003473260034041483), (703, 0.00346839606765079), (410, 0.003468381615034641), (2591, 0.0034681494649031817), (1830, 0.0034664508930698354), (2845, 0.003461718217894201), (722, 0.0034609910789911965), (267, 0.003459744201031042), (1719, 0.003452699726417259), (3380, 0.0034484920453944994), (2580, 0.0034437931471205346), (2520, 0.003440185151967305), (1199, 0.003436832329104003), (1251, 0.0034342271670854334), (3534, 0.003432522439850583), (357, 0.003426951258151243), (3928, 0.0034267331836089314), (815, 0.003422570263329788), (480, 0.0034204763189366414), (1414, 0.003419627620203397), (4247, 0.0034195452397741215), (3569, 0.0034188736738426677), (1352, 0.0034182670367008667), (4074, 0.0034180720531987296), (611, 0.003409444564777708), (194, 0.003408998784546211), (1423, 0.0034053970534848755), (1616, 0.0034042424383820716), (3327, 0.0034021805289116552), (4733, 0.0034008589257341535), (3657, 0.0033991309020125183), (1318, 0.003376591748227522), (2509, 0.0033747619157228005), (3393, 0.0033717539362227195), (4411, 0.0033699456566488434), (1394, 0.0033655267424723503), (1088, 0.0033651481868170255), (861, 0.0033628361720731284), (4432, 0.00336243892645034), (4636, 0.0033568524769120728), (4311, 0.0033561160938231065), (4151, 0.003355783755827167), (642, 0.003350580046482147), (2697, 0.003349368480792409), (712, 0.0033491553798546533), (190, 0.003348697046949173), (1370, 0.003344975010513853), (165, 0.0033405258170343525), (4626, 0.003339566997526924), (3575, 0.003335852863090389), (3331, 0.0033352134575437807), (453, 0.003327013896403024), (1943, 0.003327002700564638), (97, 0.0033252858590997344), (195, 0.0033251918496709377), (2359, 0.003324914718960389), (1078, 0.0033057517942238794), (1828, 0.0032974317907350373), (3056, 0.0032935320550875023), (3301, 0.0032895095751910514), (2034, 0.003286171272118242), (2761, 0.003279788238986188), (3347, 0.003274123372400456), (3200, 0.0032692093926461117), (2526, 0.003267849421749907), (626, 0.003262818839069044), (2127, 0.003252914667208362), (707, 0.003252635678735694), (2441, 0.0032482598591076), (3855, 0.0032435116116940775), (2132, 0.0032426641383776237), (2010, 0.0032416036592645622), (2758, 0.0032217411581439664), (1624, 0.003207971544988215), (3024, 0.0031968790803544598), (1356, 0.0031897744488191397), (2039, 0.0031896004796882218), (1305, 0.0031731542052601644), (4674, 0.0031647156495511154), (1989, 0.0031254193870759255), (1303, 0.003114123409239371), (1677, 0.0031032333571814033), (3199, 0.003094768031975177), (953, 0.003074139545069029), (256, 0.0030688064568777933), (351, 0.0030357604031558427), (2766, 0.0030339301260192825), (3626, 0.0030258241522647766), (571, 0.003017893780001819), (562, 0.00297846195104519), (607, 0.002970120706186489), (228, 0.002938211203888552), (3546, 0.0029114235586787046), (3365, 0.0029104433557105808), (831, 0.0028959368948033135), (4171, 0.0027515442869897114), (4752, 0.0027438707868808546), (129, 0.002640765368863059), (202, 0.002513348851738717), (2534, 0.0017501842471156607), (1, 0.0), (2, 0.0), (4, 0.0), (6, 0.0), (10, 0.0), (14, 0.0), (17, 0.0), (20, 0.0), (24, 0.0), (26, 0.0), (27, 0.0), (28, 0.0), (30, 0.0), (36, 0.0), (37, 0.0), (38, 0.0), (39, 0.0), (42, 0.0), (47, 0.0), (49, 0.0), (50, 0.0), (53, 0.0), (54, 0.0), (55, 0.0), (58, 0.0), (59, 0.0), (64, 0.0), (66, 0.0), (69, 0.0), (70, 0.0), (72, 0.0), (73, 0.0), (76, 0.0), (77, 0.0), (80, 0.0), (81, 0.0), (90, 0.0), (91, 0.0), (93, 0.0), (94, 0.0), (95, 0.0), (98, 0.0), (99, 0.0), (100, 0.0), (101, 0.0), (102, 0.0), (115, 0.0), (117, 0.0), (118, 0.0), (128, 0.0), (133, 0.0), (134, 0.0), (135, 0.0), (139, 0.0), (140, 0.0), (141, 0.0), (143, 0.0), (146, 0.0), (150, 0.0), (151, 0.0), (152, 0.0), (153, 0.0), (154, 0.0), (157, 0.0), (158, 0.0), (163, 0.0), (167, 0.0), (171, 0.0), (186, 0.0), (187, 0.0), (188, 0.0), (189, 0.0), (191, 0.0), (196, 0.0), (205, 0.0), (211, 0.0), (212, 0.0), (214, 0.0), (217, 0.0), (219, 0.0), (220, 0.0), (223, 0.0), (225, 0.0), (226, 0.0), (229, 0.0), (233, 0.0), (234, 0.0), (235, 0.0), (237, 0.0), (239, 0.0), (241, 0.0), (245, 0.0), (246, 0.0), (247, 0.0), (249, 0.0), (253, 0.0), (257, 0.0), (258, 0.0), (259, 0.0), (260, 0.0), (262, 0.0), (264, 0.0), (265, 0.0), (268, 0.0), (272, 0.0), (275, 0.0), (278, 0.0), (279, 0.0), (289, 0.0), (290, 0.0), (291, 0.0), (293, 0.0), (294, 0.0), (295, 0.0), (297, 0.0), (298, 0.0), (299, 0.0), (302, 0.0), (303, 0.0), (304, 0.0), (305, 0.0), (306, 0.0), (308, 0.0), (310, 0.0), (311, 0.0), (312, 0.0), (314, 0.0), (315, 0.0), (316, 0.0), (319, 0.0), (320, 0.0), (323, 0.0), (324, 0.0), (331, 0.0), (335, 0.0), (337, 0.0), (338, 0.0), (339, 0.0), (344, 0.0), (347, 0.0), (352, 0.0), (361, 0.0), (362, 0.0), (365, 0.0), (366, 0.0), (367, 0.0), (375, 0.0), (376, 0.0), (377, 0.0), (378, 0.0), (379, 0.0), (380, 0.0), (382, 0.0), (389, 0.0), (390, 0.0), (391, 0.0), (392, 0.0), (393, 0.0), (394, 0.0), (395, 0.0), (397, 0.0), (399, 0.0), (401, 0.0), (404, 0.0), (405, 0.0), (411, 0.0), (415, 0.0), (417, 0.0), (420, 0.0), (422, 0.0), (423, 0.0), (425, 0.0), (426, 0.0), (427, 0.0), (432, 0.0), (439, 0.0), (440, 0.0), (444, 0.0), (451, 0.0), (454, 0.0), (460, 0.0), (462, 0.0), (466, 0.0), (467, 0.0), (469, 0.0), (473, 0.0), (474, 0.0), (476, 0.0), (478, 0.0), (484, 0.0), (486, 0.0), (487, 0.0), (489, 0.0), (491, 0.0), (492, 0.0), (497, 0.0), (498, 0.0), (499, 0.0), (503, 0.0), (505, 0.0), (506, 0.0), (507, 0.0), (508, 0.0), (512, 0.0), (513, 0.0), (514, 0.0), (516, 0.0), (517, 0.0), (518, 0.0), (520, 0.0), (524, 0.0), (525, 0.0), (526, 0.0), (528, 0.0), (529, 0.0), (531, 0.0), (532, 0.0), (535, 0.0), (536, 0.0), (539, 0.0), (541, 0.0), (546, 0.0), (548, 0.0), (549, 0.0), (550, 0.0), (552, 0.0), (554, 0.0), (556, 0.0), (557, 0.0), (559, 0.0), (560, 0.0), (565, 0.0), (567, 0.0), (569, 0.0), (570, 0.0), (572, 0.0), (573, 0.0), (574, 0.0), (575, 0.0), (577, 0.0), (581, 0.0), (585, 0.0), (591, 0.0), (592, 0.0), (593, 0.0), (595, 0.0), (599, 0.0), (601, 0.0), (602, 0.0), (603, 0.0), (610, 0.0), (619, 0.0), (621, 0.0), (624, 0.0), (625, 0.0), (630, 0.0), (633, 0.0), (634, 0.0), (639, 0.0), (640, 0.0), (645, 0.0), (646, 0.0), (647, 0.0), (649, 0.0), (650, 0.0), (656, 0.0), (658, 0.0), (661, 0.0), (662, 0.0), (663, 0.0), (665, 0.0), (666, 0.0), (674, 0.0), (678, 0.0), (679, 0.0), (680, 0.0), (681, 0.0), (685, 0.0), (686, 0.0), (687, 0.0), (690, 0.0), (699, 0.0), (700, 0.0), (702, 0.0), (704, 0.0), (708, 0.0), (709, 0.0), (711, 0.0), (713, 0.0), (714, 0.0), (717, 0.0), (718, 0.0), (720, 0.0), (723, 0.0), (724, 0.0), (725, 0.0), (726, 0.0), (730, 0.0), (731, 0.0), (736, 0.0), (738, 0.0), (740, 0.0), (741, 0.0), (745, 0.0), (746, 0.0), (747, 0.0), (751, 0.0), (754, 0.0), (756, 0.0), (759, 0.0), (764, 0.0), (765, 0.0), (767, 0.0), (770, 0.0), (771, 0.0), (772, 0.0), (773, 0.0), (777, 0.0), (780, 0.0), (781, 0.0), (784, 0.0), (785, 0.0), (786, 0.0), (789, 0.0), (791, 0.0), (793, 0.0), (797, 0.0), (802, 0.0), (803, 0.0), (805, 0.0), (807, 0.0), (810, 0.0), (811, 0.0), (819, 0.0), (820, 0.0), (822, 0.0), (823, 0.0), (825, 0.0), (837, 0.0), (839, 0.0), (840, 0.0), (841, 0.0), (845, 0.0), (846, 0.0), (848, 0.0), (849, 0.0), (855, 0.0), (859, 0.0), (862, 0.0), (863, 0.0), (868, 0.0), (875, 0.0), (881, 0.0), (882, 0.0), (883, 0.0), (884, 0.0), (887, 0.0), (889, 0.0), (890, 0.0), (891, 0.0), (892, 0.0), (893, 0.0), (898, 0.0), (901, 0.0), (902, 0.0), (909, 0.0), (912, 0.0), (913, 0.0), (914, 0.0), (919, 0.0), (920, 0.0), (922, 0.0), (926, 0.0), (927, 0.0), (928, 0.0), (932, 0.0), (933, 0.0), (938, 0.0), (941, 0.0), (943, 0.0), (945, 0.0), (946, 0.0), (950, 0.0), (954, 0.0), (955, 0.0), (956, 0.0), (960, 0.0), (961, 0.0), (964, 0.0), (965, 0.0), (971, 0.0), (972, 0.0), (973, 0.0), (974, 0.0), (977, 0.0), (978, 0.0), (982, 0.0), (983, 0.0), (984, 0.0), (987, 0.0), (990, 0.0), (992, 0.0), (993, 0.0), (995, 0.0), (996, 0.0), (997, 0.0), (1004, 0.0), (1008, 0.0), (1010, 0.0), (1011, 0.0), (1013, 0.0), (1016, 0.0), (1022, 0.0), (1025, 0.0), (1028, 0.0), (1029, 0.0), (1031, 0.0), (1032, 0.0), (1036, 0.0), (1038, 0.0), (1039, 0.0), (1042, 0.0), (1047, 0.0), (1051, 0.0), (1054, 0.0), (1055, 0.0), (1056, 0.0), (1057, 0.0), (1062, 0.0), (1066, 0.0), (1067, 0.0), (1072, 0.0), (1073, 0.0), (1076, 0.0), (1081, 0.0), (1082, 0.0), (1086, 0.0), (1089, 0.0), (1091, 0.0), (1092, 0.0), (1093, 0.0), (1097, 0.0), (1098, 0.0), (1100, 0.0), (1101, 0.0), (1103, 0.0), (1104, 0.0), (1105, 0.0), (1106, 0.0), (1108, 0.0), (1110, 0.0), (1113, 0.0), (1117, 0.0), (1120, 0.0), (1121, 0.0), (1126, 0.0), (1127, 0.0), (1130, 0.0), (1133, 0.0), (1135, 0.0), (1139, 0.0), (1142, 0.0), (1143, 0.0), (1145, 0.0), (1147, 0.0), (1149, 0.0), (1150, 0.0), (1151, 0.0), (1153, 0.0), (1154, 0.0), (1155, 0.0), (1156, 0.0), (1158, 0.0), (1159, 0.0), (1164, 0.0), (1165, 0.0), (1166, 0.0), (1167, 0.0), (1168, 0.0), (1169, 0.0), (1171, 0.0), (1174, 0.0), (1178, 0.0), (1180, 0.0), (1181, 0.0), (1189, 0.0), (1190, 0.0), (1193, 0.0), (1196, 0.0), (1197, 0.0), (1198, 0.0), (1200, 0.0), (1201, 0.0), (1203, 0.0), (1204, 0.0), (1205, 0.0), (1207, 0.0), (1210, 0.0), (1211, 0.0), (1212, 0.0), (1213, 0.0), (1214, 0.0), (1218, 0.0), (1221, 0.0), (1222, 0.0), (1227, 0.0), (1228, 0.0), (1233, 0.0), (1235, 0.0), (1240, 0.0), (1242, 0.0), (1244, 0.0), (1246, 0.0), (1253, 0.0), (1256, 0.0), (1258, 0.0), (1259, 0.0), (1260, 0.0), (1263, 0.0), (1265, 0.0), (1268, 0.0), (1269, 0.0), (1271, 0.0), (1277, 0.0), (1280, 0.0), (1281, 0.0), (1282, 0.0), (1284, 0.0), (1285, 0.0), (1287, 0.0), (1288, 0.0), (1289, 0.0), (1291, 0.0), (1294, 0.0), (1295, 0.0), (1296, 0.0), (1297, 0.0), (1298, 0.0), (1299, 0.0), (1301, 0.0), (1304, 0.0), (1309, 0.0), (1315, 0.0), (1319, 0.0), (1321, 0.0), (1322, 0.0), (1323, 0.0), (1326, 0.0), (1328, 0.0), (1330, 0.0), (1332, 0.0), (1333, 0.0), (1336, 0.0), (1344, 0.0), (1346, 0.0), (1347, 0.0), (1353, 0.0), (1354, 0.0), (1355, 0.0), (1362, 0.0), (1363, 0.0), (1366, 0.0), (1368, 0.0), (1373, 0.0), (1380, 0.0), (1381, 0.0), (1390, 0.0), (1391, 0.0), (1392, 0.0), (1395, 0.0), (1399, 0.0), (1402, 0.0), (1404, 0.0), (1409, 0.0), (1411, 0.0), (1416, 0.0), (1424, 0.0), (1426, 0.0), (1428, 0.0), (1430, 0.0), (1431, 0.0), (1433, 0.0), (1434, 0.0), (1435, 0.0), (1437, 0.0), (1439, 0.0), (1441, 0.0), (1444, 0.0), (1447, 0.0), (1449, 0.0), (1450, 0.0), (1451, 0.0), (1452, 0.0), (1456, 0.0), (1457, 0.0), (1458, 0.0), (1459, 0.0), (1460, 0.0), (1466, 0.0), (1467, 0.0), (1468, 0.0), (1469, 0.0), (1470, 0.0), (1473, 0.0), (1479, 0.0), (1480, 0.0), (1482, 0.0), (1484, 0.0), (1485, 0.0), (1487, 0.0), (1490, 0.0), (1491, 0.0), (1495, 0.0), (1496, 0.0), (1497, 0.0), (1499, 0.0), (1502, 0.0), (1504, 0.0), (1507, 0.0), (1508, 0.0), (1511, 0.0), (1516, 0.0), (1517, 0.0), (1520, 0.0), (1521, 0.0), (1522, 0.0), (1524, 0.0), (1525, 0.0), (1528, 0.0), (1529, 0.0), (1530, 0.0), (1531, 0.0), (1532, 0.0), (1534, 0.0), (1535, 0.0), (1536, 0.0), (1540, 0.0), (1541, 0.0), (1545, 0.0), (1546, 0.0), (1548, 0.0), (1549, 0.0), (1550, 0.0), (1554, 0.0), (1555, 0.0), (1556, 0.0), (1557, 0.0), (1559, 0.0), (1560, 0.0), (1561, 0.0), (1562, 0.0), (1563, 0.0), (1564, 0.0), (1566, 0.0), (1569, 0.0), (1573, 0.0), (1574, 0.0), (1575, 0.0), (1576, 0.0), (1577, 0.0), (1578, 0.0), (1580, 0.0), (1581, 0.0), (1584, 0.0), (1586, 0.0), (1587, 0.0), (1588, 0.0), (1589, 0.0), (1590, 0.0), (1592, 0.0), (1593, 0.0), (1594, 0.0), (1596, 0.0), (1599, 0.0), (1600, 0.0), (1601, 0.0), (1602, 0.0), (1603, 0.0), (1604, 0.0), (1606, 0.0), (1607, 0.0), (1610, 0.0), (1611, 0.0), (1613, 0.0), (1614, 0.0), (1615, 0.0), (1617, 0.0), (1618, 0.0), (1622, 0.0), (1623, 0.0), (1625, 0.0), (1626, 0.0), (1631, 0.0), (1632, 0.0), (1633, 0.0), (1635, 0.0), (1636, 0.0), (1637, 0.0), (1638, 0.0), (1639, 0.0), (1640, 0.0), (1641, 0.0), (1642, 0.0), (1646, 0.0), (1649, 0.0), (1651, 0.0), (1656, 0.0), (1657, 0.0), (1659, 0.0), (1660, 0.0), (1661, 0.0), (1663, 0.0), (1668, 0.0), (1669, 0.0), (1670, 0.0), (1672, 0.0), (1673, 0.0), (1679, 0.0), (1681, 0.0), (1683, 0.0), (1686, 0.0), (1689, 0.0), (1691, 0.0), (1697, 0.0), (1698, 0.0), (1699, 0.0), (1700, 0.0), (1702, 0.0), (1704, 0.0), (1709, 0.0), (1724, 0.0), (1725, 0.0), (1726, 0.0), (1728, 0.0), (1729, 0.0), (1731, 0.0), (1732, 0.0), (1733, 0.0), (1734, 0.0), (1738, 0.0), (1742, 0.0), (1745, 0.0), (1751, 0.0), (1753, 0.0), (1755, 0.0), (1756, 0.0), (1758, 0.0), (1765, 0.0), (1766, 0.0), (1767, 0.0), (1769, 0.0), (1771, 0.0), (1772, 0.0), (1775, 0.0), (1777, 0.0), (1778, 0.0), (1780, 0.0), (1781, 0.0), (1783, 0.0), (1784, 0.0), (1785, 0.0), (1786, 0.0), (1789, 0.0), (1791, 0.0), (1792, 0.0), (1794, 0.0), (1800, 0.0), (1801, 0.0), (1803, 0.0), (1804, 0.0), (1805, 0.0), (1808, 0.0), (1810, 0.0), (1811, 0.0), (1814, 0.0), (1820, 0.0), (1823, 0.0), (1824, 0.0), (1825, 0.0), (1826, 0.0), (1829, 0.0), (1831, 0.0), (1834, 0.0), (1835, 0.0), (1836, 0.0), (1837, 0.0), (1839, 0.0), (1840, 0.0), (1842, 0.0), (1844, 0.0), (1846, 0.0), (1848, 0.0), (1855, 0.0), (1856, 0.0), (1857, 0.0), (1859, 0.0), (1862, 0.0), (1877, 0.0), (1879, 0.0), (1881, 0.0), (1883, 0.0), (1887, 0.0), (1888, 0.0), (1889, 0.0), (1890, 0.0), (1894, 0.0), (1898, 0.0), (1899, 0.0), (1900, 0.0), (1901, 0.0), (1904, 0.0), (1910, 0.0), (1912, 0.0), (1914, 0.0), (1915, 0.0), (1917, 0.0), (1921, 0.0), (1925, 0.0), (1926, 0.0), (1928, 0.0), (1929, 0.0), (1930, 0.0), (1932, 0.0), (1933, 0.0), (1938, 0.0), (1939, 0.0), (1940, 0.0), (1941, 0.0), (1944, 0.0), (1952, 0.0), (1953, 0.0), (1954, 0.0), (1955, 0.0), (1956, 0.0), (1958, 0.0), (1959, 0.0), (1961, 0.0), (1962, 0.0), (1963, 0.0), (1965, 0.0), (1966, 0.0), (1972, 0.0), (1973, 0.0), (1974, 0.0), (1975, 0.0), (1978, 0.0), (1979, 0.0), (1980, 0.0), (1981, 0.0), (1984, 0.0), (1987, 0.0), (1991, 0.0), (1993, 0.0), (1998, 0.0), (2001, 0.0), (2002, 0.0), (2003, 0.0), (2006, 0.0), (2007, 0.0), (2009, 0.0), (2012, 0.0), (2015, 0.0), (2017, 0.0), (2019, 0.0), (2021, 0.0), (2025, 0.0), (2028, 0.0), (2030, 0.0), (2032, 0.0), (2033, 0.0), (2036, 0.0), (2038, 0.0), (2041, 0.0), (2042, 0.0), (2043, 0.0), (2044, 0.0), (2046, 0.0), (2047, 0.0), (2050, 0.0), (2054, 0.0), (2057, 0.0), (2059, 0.0), (2060, 0.0), (2063, 0.0), (2066, 0.0), (2071, 0.0), (2072, 0.0), (2077, 0.0), (2078, 0.0), (2079, 0.0), (2081, 0.0), (2084, 0.0), (2085, 0.0), (2086, 0.0), (2090, 0.0), (2092, 0.0), (2093, 0.0), (2099, 0.0), (2100, 0.0), (2106, 0.0), (2107, 0.0), (2111, 0.0), (2115, 0.0), (2118, 0.0), (2120, 0.0), (2124, 0.0), (2125, 0.0), (2128, 0.0), (2129, 0.0), (2130, 0.0), (2135, 0.0), (2136, 0.0), (2137, 0.0), (2138, 0.0), (2139, 0.0), (2140, 0.0), (2141, 0.0), (2142, 0.0), (2146, 0.0), (2147, 0.0), (2148, 0.0), (2150, 0.0), (2151, 0.0), (2152, 0.0), (2153, 0.0), (2158, 0.0), (2163, 0.0), (2164, 0.0), (2165, 0.0), (2166, 0.0), (2168, 0.0), (2170, 0.0), (2171, 0.0), (2172, 0.0), (2173, 0.0), (2178, 0.0), (2179, 0.0), (2180, 0.0), (2181, 0.0), (2182, 0.0), (2183, 0.0), (2184, 0.0), (2186, 0.0), (2187, 0.0), (2189, 0.0), (2190, 0.0), (2192, 0.0), (2194, 0.0), (2200, 0.0), (2204, 0.0), (2207, 0.0), (2208, 0.0), (2213, 0.0), (2215, 0.0), (2217, 0.0), (2218, 0.0), (2219, 0.0), (2220, 0.0), (2222, 0.0), (2225, 0.0), (2227, 0.0), (2228, 0.0), (2231, 0.0), (2232, 0.0), (2233, 0.0), (2234, 0.0), (2238, 0.0), (2241, 0.0), (2243, 0.0), (2245, 0.0), (2246, 0.0), (2247, 0.0), (2248, 0.0), (2249, 0.0), (2252, 0.0), (2253, 0.0), (2256, 0.0), (2259, 0.0), (2261, 0.0), (2262, 0.0), (2263, 0.0), (2267, 0.0), (2268, 0.0), (2270, 0.0), (2271, 0.0), (2272, 0.0), (2273, 0.0), (2274, 0.0), (2278, 0.0), (2281, 0.0), (2282, 0.0), (2283, 0.0), (2288, 0.0), (2292, 0.0), (2293, 0.0), (2296, 0.0), (2297, 0.0), (2299, 0.0), (2300, 0.0), (2304, 0.0), (2305, 0.0), (2307, 0.0), (2308, 0.0), (2310, 0.0), (2311, 0.0), (2312, 0.0), (2314, 0.0), (2315, 0.0), (2317, 0.0), (2322, 0.0), (2323, 0.0), (2324, 0.0), (2325, 0.0), (2326, 0.0), (2327, 0.0), (2328, 0.0), (2329, 0.0), (2330, 0.0), (2331, 0.0), (2332, 0.0), (2333, 0.0), (2336, 0.0), (2337, 0.0), (2340, 0.0), (2341, 0.0), (2342, 0.0), (2343, 0.0), (2345, 0.0), (2351, 0.0), (2352, 0.0), (2354, 0.0), (2356, 0.0), (2357, 0.0), (2358, 0.0), (2360, 0.0), (2363, 0.0), (2364, 0.0), (2369, 0.0), (2370, 0.0), (2371, 0.0), (2372, 0.0), (2373, 0.0), (2377, 0.0), (2378, 0.0), (2380, 0.0), (2381, 0.0), (2382, 0.0), (2383, 0.0), (2384, 0.0), (2385, 0.0), (2387, 0.0), (2389, 0.0), (2392, 0.0), (2395, 0.0), (2396, 0.0), (2398, 0.0), (2401, 0.0), (2404, 0.0), (2408, 0.0), (2409, 0.0), (2410, 0.0), (2414, 0.0), (2416, 0.0), (2419, 0.0), (2420, 0.0), (2424, 0.0), (2425, 0.0), (2429, 0.0), (2431, 0.0), (2432, 0.0), (2433, 0.0), (2435, 0.0), (2442, 0.0), (2444, 0.0), (2445, 0.0), (2446, 0.0), (2450, 0.0), (2451, 0.0), (2452, 0.0), (2454, 0.0), (2455, 0.0), (2456, 0.0), (2458, 0.0), (2462, 0.0), (2465, 0.0), (2470, 0.0), (2471, 0.0), (2472, 0.0), (2476, 0.0), (2479, 0.0), (2483, 0.0), (2485, 0.0), (2491, 0.0), (2493, 0.0), (2495, 0.0), (2497, 0.0), (2498, 0.0), (2499, 0.0), (2500, 0.0), (2501, 0.0), (2504, 0.0), (2506, 0.0), (2507, 0.0), (2508, 0.0), (2511, 0.0), (2514, 0.0), (2515, 0.0), (2516, 0.0), (2518, 0.0), (2519, 0.0), (2521, 0.0), (2523, 0.0), (2525, 0.0), (2532, 0.0), (2533, 0.0), (2536, 0.0), (2537, 0.0), (2539, 0.0), (2541, 0.0), (2542, 0.0), (2543, 0.0), (2544, 0.0), (2547, 0.0), (2548, 0.0), (2549, 0.0), (2551, 0.0), (2552, 0.0), (2557, 0.0), (2561, 0.0), (2562, 0.0), (2564, 0.0), (2566, 0.0), (2567, 0.0), (2569, 0.0), (2571, 0.0), (2573, 0.0), (2574, 0.0), (2575, 0.0), (2576, 0.0), (2577, 0.0), (2578, 0.0), (2581, 0.0), (2583, 0.0), (2584, 0.0), (2585, 0.0), (2586, 0.0), (2588, 0.0), (2589, 0.0), (2590, 0.0), (2594, 0.0), (2595, 0.0), (2596, 0.0), (2597, 0.0), (2599, 0.0), (2600, 0.0), (2604, 0.0), (2605, 0.0), (2608, 0.0), (2610, 0.0), (2613, 0.0), (2615, 0.0), (2616, 0.0), (2619, 0.0), (2620, 0.0), (2624, 0.0), (2626, 0.0), (2627, 0.0), (2628, 0.0), (2631, 0.0), (2635, 0.0), (2636, 0.0), (2637, 0.0), (2641, 0.0), (2648, 0.0), (2651, 0.0), (2656, 0.0), (2657, 0.0), (2658, 0.0), (2659, 0.0), (2662, 0.0), (2663, 0.0), (2666, 0.0), (2667, 0.0), (2669, 0.0), (2670, 0.0), (2671, 0.0), (2672, 0.0), (2673, 0.0), (2675, 0.0), (2676, 0.0), (2677, 0.0), (2679, 0.0), (2681, 0.0), (2682, 0.0), (2683, 0.0), (2684, 0.0), (2685, 0.0), (2686, 0.0), (2690, 0.0), (2693, 0.0), (2699, 0.0), (2700, 0.0), (2701, 0.0), (2703, 0.0), (2704, 0.0), (2707, 0.0), (2709, 0.0), (2711, 0.0), (2713, 0.0), (2715, 0.0), (2717, 0.0), (2719, 0.0), (2720, 0.0), (2721, 0.0), (2722, 0.0), (2725, 0.0), (2728, 0.0), (2729, 0.0), (2730, 0.0), (2733, 0.0), (2734, 0.0), (2735, 0.0), (2736, 0.0), (2737, 0.0), (2738, 0.0), (2749, 0.0), (2750, 0.0), (2753, 0.0), (2754, 0.0), (2756, 0.0), (2757, 0.0), (2763, 0.0), (2765, 0.0), (2770, 0.0), (2773, 0.0), (2781, 0.0), (2783, 0.0), (2785, 0.0), (2786, 0.0), (2787, 0.0), (2788, 0.0), (2790, 0.0), (2792, 0.0), (2793, 0.0), (2794, 0.0), (2799, 0.0), (2801, 0.0), (2804, 0.0), (2806, 0.0), (2810, 0.0), (2811, 0.0), (2813, 0.0), (2814, 0.0), (2815, 0.0), (2817, 0.0), (2818, 0.0), (2819, 0.0), (2822, 0.0), (2824, 0.0), (2825, 0.0), (2826, 0.0), (2827, 0.0), (2828, 0.0), (2829, 0.0), (2833, 0.0), (2835, 0.0), (2836, 0.0), (2837, 0.0), (2839, 0.0), (2842, 0.0), (2846, 0.0), (2847, 0.0), (2850, 0.0), (2851, 0.0), (2852, 0.0), (2853, 0.0), (2855, 0.0), (2856, 0.0), (2858, 0.0), (2860, 0.0), (2861, 0.0), (2863, 0.0), (2864, 0.0), (2865, 0.0), (2866, 0.0), (2875, 0.0), (2877, 0.0), (2880, 0.0), (2882, 0.0), (2884, 0.0), (2891, 0.0), (2895, 0.0), (2896, 0.0), (2898, 0.0), (2900, 0.0), (2902, 0.0), (2905, 0.0), (2906, 0.0), (2909, 0.0), (2912, 0.0), (2921, 0.0), (2922, 0.0), (2923, 0.0), (2927, 0.0), (2928, 0.0), (2930, 0.0), (2937, 0.0), (2938, 0.0), (2940, 0.0), (2941, 0.0), (2947, 0.0), (2948, 0.0), (2949, 0.0), (2950, 0.0), (2951, 0.0), (2952, 0.0), (2953, 0.0), (2954, 0.0), (2955, 0.0), (2956, 0.0), (2957, 0.0), (2958, 0.0), (2959, 0.0), (2960, 0.0), (2962, 0.0), (2963, 0.0), (2967, 0.0), (2968, 0.0), (2970, 0.0), (2973, 0.0), (2979, 0.0), (2982, 0.0), (2983, 0.0), (2984, 0.0), (2987, 0.0), (2990, 0.0), (2991, 0.0), (2993, 0.0), (2994, 0.0), (2997, 0.0), (3001, 0.0), (3002, 0.0), (3003, 0.0), (3005, 0.0), (3006, 0.0), (3007, 0.0), (3009, 0.0), (3011, 0.0), (3016, 0.0), (3018, 0.0), (3020, 0.0), (3021, 0.0), (3022, 0.0), (3025, 0.0), (3026, 0.0), (3029, 0.0), (3030, 0.0), (3031, 0.0), (3034, 0.0), (3035, 0.0), (3038, 0.0), (3040, 0.0), (3041, 0.0), (3042, 0.0), (3047, 0.0), (3048, 0.0), (3049, 0.0), (3052, 0.0), (3054, 0.0), (3055, 0.0), (3057, 0.0), (3058, 0.0), (3059, 0.0), (3060, 0.0), (3061, 0.0), (3063, 0.0), (3064, 0.0), (3068, 0.0), (3069, 0.0), (3073, 0.0), (3077, 0.0), (3078, 0.0), (3079, 0.0), (3080, 0.0), (3082, 0.0), (3084, 0.0), (3087, 0.0), (3088, 0.0), (3089, 0.0), (3090, 0.0), (3092, 0.0), (3093, 0.0), (3100, 0.0), (3101, 0.0), (3103, 0.0), (3104, 0.0), (3105, 0.0), (3106, 0.0), (3107, 0.0), (3109, 0.0), (3113, 0.0), (3115, 0.0), (3117, 0.0), (3121, 0.0), (3124, 0.0), (3126, 0.0), (3128, 0.0), (3130, 0.0), (3131, 0.0), (3132, 0.0), (3133, 0.0), (3134, 0.0), (3135, 0.0), (3136, 0.0), (3138, 0.0), (3139, 0.0), (3141, 0.0), (3143, 0.0), (3145, 0.0), (3149, 0.0), (3150, 0.0), (3158, 0.0), (3159, 0.0), (3160, 0.0), (3161, 0.0), (3162, 0.0), (3163, 0.0), (3168, 0.0), (3169, 0.0), (3172, 0.0), (3173, 0.0), (3174, 0.0), (3175, 0.0), (3176, 0.0), (3177, 0.0), (3179, 0.0), (3180, 0.0), (3181, 0.0), (3185, 0.0), (3186, 0.0), (3188, 0.0), (3189, 0.0), (3190, 0.0), (3191, 0.0), (3193, 0.0), (3197, 0.0), (3201, 0.0), (3202, 0.0), (3204, 0.0), (3206, 0.0), (3207, 0.0), (3208, 0.0), (3211, 0.0), (3212, 0.0), (3216, 0.0), (3217, 0.0), (3221, 0.0), (3223, 0.0), (3224, 0.0), (3225, 0.0), (3229, 0.0), (3230, 0.0), (3231, 0.0), (3236, 0.0), (3238, 0.0), (3239, 0.0), (3242, 0.0), (3243, 0.0), (3247, 0.0), (3250, 0.0), (3251, 0.0), (3252, 0.0), (3261, 0.0), (3263, 0.0), (3266, 0.0), (3269, 0.0), (3270, 0.0), (3271, 0.0), (3272, 0.0), (3277, 0.0), (3281, 0.0), (3283, 0.0), (3286, 0.0), (3287, 0.0), (3289, 0.0), (3290, 0.0), (3292, 0.0), (3305, 0.0), (3307, 0.0), (3310, 0.0), (3320, 0.0), (3321, 0.0), (3322, 0.0), (3323, 0.0), (3324, 0.0), (3332, 0.0), (3333, 0.0), (3335, 0.0), (3336, 0.0), (3337, 0.0), (3338, 0.0), (3339, 0.0), (3340, 0.0), (3341, 0.0), (3343, 0.0), (3348, 0.0), (3350, 0.0), (3354, 0.0), (3358, 0.0), (3361, 0.0), (3366, 0.0), (3367, 0.0), (3368, 0.0), (3369, 0.0), (3371, 0.0), (3372, 0.0), (3378, 0.0), (3381, 0.0), (3383, 0.0), (3390, 0.0), (3392, 0.0), (3394, 0.0), (3396, 0.0), (3397, 0.0), (3398, 0.0), (3400, 0.0), (3401, 0.0), (3404, 0.0), (3405, 0.0), (3411, 0.0), (3412, 0.0), (3414, 0.0), (3415, 0.0), (3419, 0.0), (3422, 0.0), (3424, 0.0), (3429, 0.0), (3431, 0.0), (3432, 0.0), (3434, 0.0), (3438, 0.0), (3439, 0.0), (3440, 0.0), (3441, 0.0), (3442, 0.0), (3443, 0.0), (3444, 0.0), (3448, 0.0), (3451, 0.0), (3452, 0.0), (3454, 0.0), (3455, 0.0), (3459, 0.0), (3461, 0.0), (3464, 0.0), (3467, 0.0), (3468, 0.0), (3472, 0.0), (3473, 0.0), (3475, 0.0), (3476, 0.0), (3478, 0.0), (3481, 0.0), (3482, 0.0), (3484, 0.0), (3485, 0.0), (3489, 0.0), (3490, 0.0), (3491, 0.0), (3494, 0.0), (3495, 0.0), (3497, 0.0), (3499, 0.0), (3502, 0.0), (3505, 0.0), (3507, 0.0), (3510, 0.0), (3513, 0.0), (3514, 0.0), (3517, 0.0), (3519, 0.0), (3520, 0.0), (3522, 0.0), (3523, 0.0), (3525, 0.0), (3529, 0.0), (3530, 0.0), (3531, 0.0), (3532, 0.0), (3533, 0.0), (3537, 0.0), (3538, 0.0), (3539, 0.0), (3540, 0.0), (3543, 0.0), (3544, 0.0), (3545, 0.0), (3547, 0.0), (3548, 0.0), (3549, 0.0), (3550, 0.0), (3554, 0.0), (3555, 0.0), (3561, 0.0), (3562, 0.0), (3565, 0.0), (3567, 0.0), (3568, 0.0), (3570, 0.0), (3573, 0.0), (3576, 0.0), (3578, 0.0), (3581, 0.0), (3583, 0.0), (3584, 0.0), (3585, 0.0), (3587, 0.0), (3588, 0.0), (3589, 0.0), (3591, 0.0), (3592, 0.0), (3593, 0.0), (3595, 0.0), (3600, 0.0), (3602, 0.0), (3603, 0.0), (3604, 0.0), (3605, 0.0), (3606, 0.0), (3607, 0.0), (3608, 0.0), (3609, 0.0), (3610, 0.0), (3611, 0.0), (3615, 0.0), (3616, 0.0), (3617, 0.0), (3619, 0.0), (3621, 0.0), (3622, 0.0), (3625, 0.0), (3627, 0.0), (3628, 0.0), (3629, 0.0), (3631, 0.0), (3633, 0.0), (3636, 0.0), (3644, 0.0), (3647, 0.0), (3649, 0.0), (3650, 0.0), (3651, 0.0), (3658, 0.0), (3662, 0.0), (3663, 0.0), (3664, 0.0), (3668, 0.0), (3671, 0.0), (3672, 0.0), (3674, 0.0), (3676, 0.0), (3677, 0.0), (3678, 0.0), (3679, 0.0), (3681, 0.0), (3682, 0.0), (3683, 0.0), (3685, 0.0), (3686, 0.0), (3687, 0.0), (3688, 0.0), (3690, 0.0), (3691, 0.0), (3693, 0.0), (3695, 0.0), (3697, 0.0), (3698, 0.0), (3700, 0.0), (3701, 0.0), (3702, 0.0), (3703, 0.0), (3709, 0.0), (3710, 0.0), (3712, 0.0), (3714, 0.0), (3715, 0.0), (3716, 0.0), (3717, 0.0), (3718, 0.0), (3719, 0.0), (3721, 0.0), (3722, 0.0), (3723, 0.0), (3724, 0.0), (3725, 0.0), (3726, 0.0), (3729, 0.0), (3730, 0.0), (3732, 0.0), (3735, 0.0), (3736, 0.0), (3737, 0.0), (3738, 0.0), (3740, 0.0), (3743, 0.0), (3744, 0.0), (3746, 0.0), (3757, 0.0), (3758, 0.0), (3759, 0.0), (3760, 0.0), (3761, 0.0), (3762, 0.0), (3764, 0.0), (3768, 0.0), (3769, 0.0), (3770, 0.0), (3773, 0.0), (3774, 0.0), (3775, 0.0), (3776, 0.0), (3781, 0.0), (3782, 0.0), (3783, 0.0), (3785, 0.0), (3786, 0.0), (3787, 0.0), (3788, 0.0), (3789, 0.0), (3790, 0.0), (3791, 0.0), (3792, 0.0), (3795, 0.0), (3796, 0.0), (3798, 0.0), (3800, 0.0), (3802, 0.0), (3803, 0.0), (3804, 0.0), (3805, 0.0), (3806, 0.0), (3808, 0.0), (3812, 0.0), (3814, 0.0), (3815, 0.0), (3816, 0.0), (3817, 0.0), (3818, 0.0), (3820, 0.0), (3823, 0.0), (3824, 0.0), (3830, 0.0), (3831, 0.0), (3833, 0.0), (3834, 0.0), (3836, 0.0), (3837, 0.0), (3838, 0.0), (3840, 0.0), (3841, 0.0), (3843, 0.0), (3844, 0.0), (3846, 0.0), (3847, 0.0), (3848, 0.0), (3849, 0.0), (3851, 0.0), (3856, 0.0), (3858, 0.0), (3859, 0.0), (3863, 0.0), (3869, 0.0), (3870, 0.0), (3872, 0.0), (3874, 0.0), (3877, 0.0), (3878, 0.0), (3879, 0.0), (3881, 0.0), (3884, 0.0), (3885, 0.0), (3886, 0.0), (3887, 0.0), (3889, 0.0), (3891, 0.0), (3894, 0.0), (3896, 0.0), (3897, 0.0), (3899, 0.0), (3905, 0.0), (3906, 0.0), (3907, 0.0), (3908, 0.0), (3911, 0.0), (3912, 0.0), (3914, 0.0), (3916, 0.0), (3918, 0.0), (3921, 0.0), (3929, 0.0), (3930, 0.0), (3931, 0.0), (3933, 0.0), (3935, 0.0), (3936, 0.0), (3937, 0.0), (3938, 0.0), (3939, 0.0), (3942, 0.0), (3943, 0.0), (3944, 0.0), (3945, 0.0), (3948, 0.0), (3949, 0.0), (3950, 0.0), (3963, 0.0), (3964, 0.0), (3965, 0.0), (3966, 0.0), (3967, 0.0), (3968, 0.0), (3969, 0.0), (3970, 0.0), (3971, 0.0), (3972, 0.0), (3975, 0.0), (3977, 0.0), (3979, 0.0), (3980, 0.0), (3981, 0.0), (3982, 0.0), (3985, 0.0), (3986, 0.0), (3987, 0.0), (3988, 0.0), (3989, 0.0), (3991, 0.0), (3994, 0.0), (3995, 0.0), (3996, 0.0), (3997, 0.0), (3999, 0.0), (4002, 0.0), (4003, 0.0), (4006, 0.0), (4010, 0.0), (4013, 0.0), (4015, 0.0), (4017, 0.0), (4018, 0.0), (4019, 0.0), (4021, 0.0), (4022, 0.0), (4023, 0.0), (4026, 0.0), (4027, 0.0), (4028, 0.0), (4029, 0.0), (4030, 0.0), (4031, 0.0), (4034, 0.0), (4037, 0.0), (4039, 0.0), (4040, 0.0), (4041, 0.0), (4042, 0.0), (4043, 0.0), (4044, 0.0), (4045, 0.0), (4047, 0.0), (4049, 0.0), (4058, 0.0), (4059, 0.0), (4063, 0.0), (4064, 0.0), (4065, 0.0), (4067, 0.0), (4070, 0.0), (4071, 0.0), (4072, 0.0), (4073, 0.0), (4075, 0.0), (4076, 0.0), (4078, 0.0), (4080, 0.0), (4083, 0.0), (4084, 0.0), (4086, 0.0), (4089, 0.0), (4090, 0.0), (4091, 0.0), (4093, 0.0), (4094, 0.0), (4097, 0.0), (4100, 0.0), (4102, 0.0), (4103, 0.0), (4105, 0.0), (4107, 0.0), (4108, 0.0), (4109, 0.0), (4112, 0.0), (4114, 0.0), (4115, 0.0), (4119, 0.0), (4120, 0.0), (4122, 0.0), (4125, 0.0), (4126, 0.0), (4127, 0.0), (4129, 0.0), (4131, 0.0), (4132, 0.0), (4136, 0.0), (4139, 0.0), (4140, 0.0), (4142, 0.0), (4144, 0.0), (4145, 0.0), (4146, 0.0), (4147, 0.0), (4148, 0.0), (4150, 0.0), (4153, 0.0), (4155, 0.0), (4157, 0.0), (4159, 0.0), (4161, 0.0), (4162, 0.0), (4166, 0.0), (4167, 0.0), (4168, 0.0), (4169, 0.0), (4170, 0.0), (4172, 0.0), (4173, 0.0), (4174, 0.0), (4175, 0.0), (4179, 0.0), (4180, 0.0), (4181, 0.0), (4184, 0.0), (4185, 0.0), (4186, 0.0), (4188, 0.0), (4190, 0.0), (4191, 0.0), (4193, 0.0), (4194, 0.0), (4195, 0.0), (4197, 0.0), (4198, 0.0), (4199, 0.0), (4200, 0.0), (4201, 0.0), (4204, 0.0), (4206, 0.0), (4207, 0.0), (4208, 0.0), (4209, 0.0), (4211, 0.0), (4212, 0.0), (4213, 0.0), (4214, 0.0), (4215, 0.0), (4218, 0.0), (4219, 0.0), (4220, 0.0), (4221, 0.0), (4222, 0.0), (4223, 0.0), (4224, 0.0), (4225, 0.0), (4228, 0.0), (4229, 0.0), (4230, 0.0), (4234, 0.0), (4237, 0.0), (4238, 0.0), (4239, 0.0), (4240, 0.0), (4241, 0.0), (4245, 0.0), (4248, 0.0), (4250, 0.0), (4251, 0.0), (4252, 0.0), (4253, 0.0), (4254, 0.0), (4256, 0.0), (4258, 0.0), (4260, 0.0), (4262, 0.0), (4263, 0.0), (4264, 0.0), (4265, 0.0), (4267, 0.0), (4270, 0.0), (4271, 0.0), (4273, 0.0), (4274, 0.0), (4275, 0.0), (4276, 0.0), (4277, 0.0), (4278, 0.0), (4279, 0.0), (4280, 0.0), (4285, 0.0), (4289, 0.0), (4290, 0.0), (4291, 0.0), (4292, 0.0), (4294, 0.0), (4296, 0.0), (4297, 0.0), (4298, 0.0), (4299, 0.0), (4300, 0.0), (4301, 0.0), (4302, 0.0), (4304, 0.0), (4305, 0.0), (4306, 0.0), (4307, 0.0), (4308, 0.0), (4310, 0.0), (4312, 0.0), (4313, 0.0), (4315, 0.0), (4316, 0.0), (4317, 0.0), (4318, 0.0), (4319, 0.0), (4320, 0.0), (4322, 0.0), (4323, 0.0), (4324, 0.0), (4326, 0.0), (4327, 0.0), (4328, 0.0), (4329, 0.0), (4331, 0.0), (4332, 0.0), (4338, 0.0), (4339, 0.0), (4340, 0.0), (4341, 0.0), (4343, 0.0), (4346, 0.0), (4347, 0.0), (4348, 0.0), (4352, 0.0), (4353, 0.0), (4354, 0.0), (4355, 0.0), (4358, 0.0), (4359, 0.0), (4360, 0.0), (4361, 0.0), (4363, 0.0), (4364, 0.0), (4365, 0.0), (4370, 0.0), (4372, 0.0), (4376, 0.0), (4377, 0.0), (4378, 0.0), (4381, 0.0), (4383, 0.0), (4384, 0.0), (4386, 0.0), (4390, 0.0), (4391, 0.0), (4392, 0.0), (4393, 0.0), (4396, 0.0), (4397, 0.0), (4400, 0.0), (4404, 0.0), (4405, 0.0), (4406, 0.0), (4407, 0.0), (4408, 0.0), (4409, 0.0), (4410, 0.0), (4413, 0.0), (4414, 0.0), (4415, 0.0), (4416, 0.0), (4417, 0.0), (4418, 0.0), (4421, 0.0), (4423, 0.0), (4424, 0.0), (4425, 0.0), (4426, 0.0), (4427, 0.0), (4428, 0.0), (4431, 0.0), (4433, 0.0), (4434, 0.0), (4437, 0.0), (4438, 0.0), (4439, 0.0), (4441, 0.0), (4445, 0.0), (4447, 0.0), (4449, 0.0), (4451, 0.0), (4452, 0.0), (4453, 0.0), (4454, 0.0), (4455, 0.0), (4457, 0.0), (4458, 0.0), (4460, 0.0), (4461, 0.0), (4462, 0.0), (4463, 0.0), (4464, 0.0), (4468, 0.0), (4471, 0.0), (4476, 0.0), (4478, 0.0), (4480, 0.0), (4483, 0.0), (4485, 0.0), (4491, 0.0), (4493, 0.0), (4495, 0.0), (4496, 0.0), (4497, 0.0), (4498, 0.0), (4499, 0.0), (4500, 0.0), (4505, 0.0), (4506, 0.0), (4508, 0.0), (4509, 0.0), (4513, 0.0), (4514, 0.0), (4515, 0.0), (4518, 0.0), (4519, 0.0), (4525, 0.0), (4526, 0.0), (4527, 0.0), (4529, 0.0), (4532, 0.0), (4537, 0.0), (4538, 0.0), (4539, 0.0), (4540, 0.0), (4541, 0.0), (4542, 0.0), (4543, 0.0), (4544, 0.0), (4545, 0.0), (4547, 0.0), (4548, 0.0), (4549, 0.0), (4550, 0.0), (4552, 0.0), (4556, 0.0), (4558, 0.0), (4559, 0.0), (4560, 0.0), (4561, 0.0), (4562, 0.0), (4565, 0.0), (4567, 0.0), (4568, 0.0), (4569, 0.0), (4570, 0.0), (4572, 0.0), (4574, 0.0), (4577, 0.0), (4578, 0.0), (4579, 0.0), (4580, 0.0), (4582, 0.0), (4584, 0.0), (4585, 0.0), (4586, 0.0), (4587, 0.0), (4592, 0.0), (4595, 0.0), (4597, 0.0), (4598, 0.0), (4599, 0.0), (4600, 0.0), (4604, 0.0), (4606, 0.0), (4607, 0.0), (4609, 0.0), (4611, 0.0), (4612, 0.0), (4613, 0.0), (4615, 0.0), (4616, 0.0), (4618, 0.0), (4620, 0.0), (4621, 0.0), (4622, 0.0), (4628, 0.0), (4630, 0.0), (4631, 0.0), (4633, 0.0), (4634, 0.0), (4635, 0.0), (4639, 0.0), (4641, 0.0), (4642, 0.0), (4644, 0.0), (4645, 0.0), (4646, 0.0), (4647, 0.0), (4648, 0.0), (4651, 0.0), (4653, 0.0), (4654, 0.0), (4655, 0.0), (4659, 0.0), (4661, 0.0), (4662, 0.0), (4663, 0.0), (4664, 0.0), (4665, 0.0), (4666, 0.0), (4667, 0.0), (4671, 0.0), (4672, 0.0), (4675, 0.0), (4676, 0.0), (4677, 0.0), (4678, 0.0), (4680, 0.0), (4681, 0.0), (4683, 0.0), (4686, 0.0), (4687, 0.0), (4688, 0.0), (4689, 0.0), (4690, 0.0), (4691, 0.0), (4692, 0.0), (4693, 0.0), (4694, 0.0), (4696, 0.0), (4697, 0.0), (4698, 0.0), (4700, 0.0), (4702, 0.0), (4704, 0.0), (4705, 0.0), (4707, 0.0), (4708, 0.0), (4709, 0.0), (4711, 0.0), (4714, 0.0), (4715, 0.0), (4716, 0.0), (4717, 0.0), (4719, 0.0), (4720, 0.0), (4725, 0.0), (4728, 0.0), (4729, 0.0), (4730, 0.0), (4732, 0.0), (4736, 0.0), (4737, 0.0), (4740, 0.0), (4741, 0.0), (4742, 0.0), (4743, 0.0), (4744, 0.0), (4745, 0.0), (4746, 0.0), (4749, 0.0), (4750, 0.0), (4751, 0.0), (4753, 0.0), (4754, 0.0), (4755, 0.0), (4756, 0.0), (4757, 0.0), (4758, 0.0), (4759, 0.0)]\n"
          ]
        }
      ]
    },
    {
      "cell_type": "code",
      "source": [
        "#print the name of similar movies based on the index\n",
        "print('Top 30 movies suggested for you : \\n')\n",
        "\n",
        "i = 1\n",
        "\n",
        "for movie in Sorted_Similar_Movies:\n",
        "  index = movie[0]\n",
        "  title_from_index = df[df.index==index]['Movie_Title'].values[0]\n",
        "  if (i<31):\n",
        "    print(i, '.',title_from_index)\n",
        "    i+=1"
      ],
      "metadata": {
        "colab": {
          "base_uri": "https://localhost:8080/"
        },
        "id": "JUTU6WcRjoYD",
        "outputId": "1a33e87e-2892-4085-8986-f87c697f7d94"
      },
      "execution_count": 71,
      "outputs": [
        {
          "output_type": "stream",
          "name": "stdout",
          "text": [
            "Top 30 movies suggested for you : \n",
            "\n",
            "1 . Niagara\n",
            "2 . Some Like It Hot\n",
            "3 . The Juror\n",
            "4 . The Kentucky Fried Movie\n",
            "5 . Duel in the Sun\n",
            "6 . Enough\n",
            "7 . Eye for an Eye\n",
            "8 . Superman III\n",
            "9 . The Misfits\n",
            "10 . Beyond the Black Rainbow\n",
            "11 . Brokeback Mountain\n",
            "12 . All That Jazz\n",
            "13 . Tora! Tora! Tora!\n",
            "14 . Master and Commander: The Far Side of the World\n",
            "15 . Harry Brown\n",
            "16 . To Kill a Mockingbird\n",
            "17 . Running with Scissors\n",
            "18 . The Odd Life of Timothy Green\n",
            "19 . Edge of Darkness\n",
            "20 . Man on Wire\n",
            "21 . The Curse of Downers Grove\n",
            "22 . Intolerable Cruelty\n",
            "23 . The Great Gatsby\n",
            "24 . The Horse Whisperer\n",
            "25 . Mad Max 2: The Road Warrior\n",
            "26 . The Lazarus Effect\n",
            "27 . Broken Vessels\n",
            "28 . The Longest Yard\n",
            "29 . Source Code\n",
            "30 . The Boy Next Door\n"
          ]
        }
      ]
    },
    {
      "cell_type": "markdown",
      "source": [
        "# **Top 10 Movie Recommendation System**"
      ],
      "metadata": {
        "id": "L1uvWvzIiIAX"
      }
    },
    {
      "cell_type": "code",
      "source": [
        "Movie_Name =input('Enter your favourite movie name :')\n",
        "\n",
        "list_of_all_titles = df['Movie_Title'].tolist()\n",
        "\n",
        "Find_close_match = difflib.get_close_matches(Movie_Name,list_of_all_titles)\n",
        "\n",
        "Close_Match = Find_close_match[0]\n",
        "\n",
        "Index_of_Movie = df[df.Movie_Title == Close_Match]['Movie_ID'].values[0]\n",
        "\n",
        "Recommendation_Score = list(enumerate(similarity_Score[Index_of_Movie]))\n",
        "\n",
        "sorted_similar_movies = sorted(Recommendation_Score, key = lambda x:x[1], reverse = True)\n",
        "\n",
        "print('Top 10 Movies suggested for you :\\n')\n",
        "\n",
        "i = 1\n",
        "\n",
        "for movie in sorted_similar_movies:\n",
        "  index = movie[0]\n",
        "  title_from_index = df[df.Movie_ID==index]['Movie_Title'].values\n",
        "  if (i<11):\n",
        "    print(i, '.',title_from_index)\n",
        "    i+=1\n"
      ],
      "metadata": {
        "colab": {
          "base_uri": "https://localhost:8080/"
        },
        "id": "Sw5Ywh4ujcxb",
        "outputId": "6bcdf0d0-0b76-4c73-c33f-ec7651e4e9e1"
      },
      "execution_count": 72,
      "outputs": [
        {
          "output_type": "stream",
          "name": "stdout",
          "text": [
            "Enter your favourite movie name :avtaar\n",
            "Top 10 Movies suggested for you :\n",
            "\n",
            "1 . ['Avatar']\n",
            "2 . ['The Godfather']\n",
            "3 . ['Elizabethtown']\n",
            "4 . ['New Nightmare']\n",
            "5 . ['Cradle Will Rock']\n",
            "6 . ['Gerry']\n",
            "7 . ['Bright Lights, Big City']\n",
            "8 . ['A Prairie Home Companion']\n",
            "9 . ['Rollerball']\n",
            "10 . ['Walking and Talking']\n"
          ]
        }
      ]
    }
  ]
}